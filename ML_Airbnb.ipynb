{
 "cells": [
  {
   "cell_type": "markdown",
   "metadata": {},
   "source": [
    "# Predicting Price of Singapore Airbnb "
   ]
  },
  {
   "cell_type": "markdown",
   "metadata": {},
   "source": [
    "## Introduction\n",
    "<<< inlcude some text >>>"
   ]
  },
  {
   "cell_type": "markdown",
   "metadata": {},
   "source": [
    "### Import of libraries and the data set "
   ]
  },
  {
   "cell_type": "code",
   "execution_count": 1,
   "metadata": {},
   "outputs": [],
   "source": [
    "# Imports\n",
    "import math\n",
    "import numpy as np\n",
    "import pandas as pd\n",
    "import scipy.stats\n",
    "import matplotlib.pyplot as plt\n",
    "plt.style.use('ggplot')\n",
    "import seaborn as sn"
   ]
  },
  {
   "cell_type": "code",
   "execution_count": 2,
   "metadata": {},
   "outputs": [],
   "source": [
    "# read data \n",
    "listing = pd.read_csv(\"listings.csv\")"
   ]
  },
  {
   "cell_type": "markdown",
   "metadata": {},
   "source": [
    "## 1. Descriptive Analysis"
   ]
  },
  {
   "cell_type": "markdown",
   "metadata": {},
   "source": [
    "### 1.1 Overview and Cleaning Data Set"
   ]
  },
  {
   "cell_type": "code",
   "execution_count": 3,
   "metadata": {
    "scrolled": true
   },
   "outputs": [
    {
     "data": {
      "text/plain": [
       "(7907, 16)"
      ]
     },
     "execution_count": 3,
     "metadata": {},
     "output_type": "execute_result"
    }
   ],
   "source": [
    "listing.shape\n",
    "# we have 7907 observations and 16 columns"
   ]
  },
  {
   "cell_type": "code",
   "execution_count": 4,
   "metadata": {},
   "outputs": [
    {
     "data": {
      "text/html": [
       "<div>\n",
       "<style scoped>\n",
       "    .dataframe tbody tr th:only-of-type {\n",
       "        vertical-align: middle;\n",
       "    }\n",
       "\n",
       "    .dataframe tbody tr th {\n",
       "        vertical-align: top;\n",
       "    }\n",
       "\n",
       "    .dataframe thead th {\n",
       "        text-align: right;\n",
       "    }\n",
       "</style>\n",
       "<table border=\"1\" class=\"dataframe\">\n",
       "  <thead>\n",
       "    <tr style=\"text-align: right;\">\n",
       "      <th></th>\n",
       "      <th>id</th>\n",
       "      <th>name</th>\n",
       "      <th>host_id</th>\n",
       "      <th>host_name</th>\n",
       "      <th>neighbourhood_group</th>\n",
       "      <th>neighbourhood</th>\n",
       "      <th>latitude</th>\n",
       "      <th>longitude</th>\n",
       "      <th>room_type</th>\n",
       "      <th>price</th>\n",
       "      <th>minimum_nights</th>\n",
       "      <th>number_of_reviews</th>\n",
       "      <th>last_review</th>\n",
       "      <th>reviews_per_month</th>\n",
       "      <th>calculated_host_listings_count</th>\n",
       "      <th>availability_365</th>\n",
       "    </tr>\n",
       "  </thead>\n",
       "  <tbody>\n",
       "    <tr>\n",
       "      <th>0</th>\n",
       "      <td>49091</td>\n",
       "      <td>COZICOMFORT LONG TERM STAY ROOM 2</td>\n",
       "      <td>266763</td>\n",
       "      <td>Francesca</td>\n",
       "      <td>North Region</td>\n",
       "      <td>Woodlands</td>\n",
       "      <td>1.44255</td>\n",
       "      <td>103.79580</td>\n",
       "      <td>Private room</td>\n",
       "      <td>83</td>\n",
       "      <td>180</td>\n",
       "      <td>1</td>\n",
       "      <td>2013-10-21</td>\n",
       "      <td>0.01</td>\n",
       "      <td>2</td>\n",
       "      <td>365</td>\n",
       "    </tr>\n",
       "    <tr>\n",
       "      <th>1</th>\n",
       "      <td>50646</td>\n",
       "      <td>Pleasant Room along Bukit Timah</td>\n",
       "      <td>227796</td>\n",
       "      <td>Sujatha</td>\n",
       "      <td>Central Region</td>\n",
       "      <td>Bukit Timah</td>\n",
       "      <td>1.33235</td>\n",
       "      <td>103.78521</td>\n",
       "      <td>Private room</td>\n",
       "      <td>81</td>\n",
       "      <td>90</td>\n",
       "      <td>18</td>\n",
       "      <td>2014-12-26</td>\n",
       "      <td>0.28</td>\n",
       "      <td>1</td>\n",
       "      <td>365</td>\n",
       "    </tr>\n",
       "    <tr>\n",
       "      <th>2</th>\n",
       "      <td>56334</td>\n",
       "      <td>COZICOMFORT</td>\n",
       "      <td>266763</td>\n",
       "      <td>Francesca</td>\n",
       "      <td>North Region</td>\n",
       "      <td>Woodlands</td>\n",
       "      <td>1.44246</td>\n",
       "      <td>103.79667</td>\n",
       "      <td>Private room</td>\n",
       "      <td>69</td>\n",
       "      <td>6</td>\n",
       "      <td>20</td>\n",
       "      <td>2015-10-01</td>\n",
       "      <td>0.20</td>\n",
       "      <td>2</td>\n",
       "      <td>365</td>\n",
       "    </tr>\n",
       "    <tr>\n",
       "      <th>3</th>\n",
       "      <td>71609</td>\n",
       "      <td>Ensuite Room (Room 1 &amp; 2) near EXPO</td>\n",
       "      <td>367042</td>\n",
       "      <td>Belinda</td>\n",
       "      <td>East Region</td>\n",
       "      <td>Tampines</td>\n",
       "      <td>1.34541</td>\n",
       "      <td>103.95712</td>\n",
       "      <td>Private room</td>\n",
       "      <td>206</td>\n",
       "      <td>1</td>\n",
       "      <td>14</td>\n",
       "      <td>2019-08-11</td>\n",
       "      <td>0.15</td>\n",
       "      <td>9</td>\n",
       "      <td>353</td>\n",
       "    </tr>\n",
       "    <tr>\n",
       "      <th>4</th>\n",
       "      <td>71896</td>\n",
       "      <td>B&amp;B  Room 1 near Airport &amp; EXPO</td>\n",
       "      <td>367042</td>\n",
       "      <td>Belinda</td>\n",
       "      <td>East Region</td>\n",
       "      <td>Tampines</td>\n",
       "      <td>1.34567</td>\n",
       "      <td>103.95963</td>\n",
       "      <td>Private room</td>\n",
       "      <td>94</td>\n",
       "      <td>1</td>\n",
       "      <td>22</td>\n",
       "      <td>2019-07-28</td>\n",
       "      <td>0.22</td>\n",
       "      <td>9</td>\n",
       "      <td>355</td>\n",
       "    </tr>\n",
       "  </tbody>\n",
       "</table>\n",
       "</div>"
      ],
      "text/plain": [
       "      id                                 name  host_id  host_name  \\\n",
       "0  49091    COZICOMFORT LONG TERM STAY ROOM 2   266763  Francesca   \n",
       "1  50646      Pleasant Room along Bukit Timah   227796    Sujatha   \n",
       "2  56334                          COZICOMFORT   266763  Francesca   \n",
       "3  71609  Ensuite Room (Room 1 & 2) near EXPO   367042    Belinda   \n",
       "4  71896      B&B  Room 1 near Airport & EXPO   367042    Belinda   \n",
       "\n",
       "  neighbourhood_group neighbourhood  latitude  longitude     room_type  price  \\\n",
       "0        North Region     Woodlands   1.44255  103.79580  Private room     83   \n",
       "1      Central Region   Bukit Timah   1.33235  103.78521  Private room     81   \n",
       "2        North Region     Woodlands   1.44246  103.79667  Private room     69   \n",
       "3         East Region      Tampines   1.34541  103.95712  Private room    206   \n",
       "4         East Region      Tampines   1.34567  103.95963  Private room     94   \n",
       "\n",
       "   minimum_nights  number_of_reviews last_review  reviews_per_month  \\\n",
       "0             180                  1  2013-10-21               0.01   \n",
       "1              90                 18  2014-12-26               0.28   \n",
       "2               6                 20  2015-10-01               0.20   \n",
       "3               1                 14  2019-08-11               0.15   \n",
       "4               1                 22  2019-07-28               0.22   \n",
       "\n",
       "   calculated_host_listings_count  availability_365  \n",
       "0                               2               365  \n",
       "1                               1               365  \n",
       "2                               2               365  \n",
       "3                               9               353  \n",
       "4                               9               355  "
      ]
     },
     "execution_count": 4,
     "metadata": {},
     "output_type": "execute_result"
    }
   ],
   "source": [
    "listing.head(5)"
   ]
  },
  {
   "cell_type": "code",
   "execution_count": 5,
   "metadata": {
    "scrolled": true
   },
   "outputs": [
    {
     "name": "stdout",
     "output_type": "stream",
     "text": [
      "<class 'pandas.core.frame.DataFrame'>\n",
      "RangeIndex: 7907 entries, 0 to 7906\n",
      "Data columns (total 16 columns):\n",
      " #   Column                          Non-Null Count  Dtype  \n",
      "---  ------                          --------------  -----  \n",
      " 0   id                              7907 non-null   int64  \n",
      " 1   name                            7905 non-null   object \n",
      " 2   host_id                         7907 non-null   int64  \n",
      " 3   host_name                       7907 non-null   object \n",
      " 4   neighbourhood_group             7907 non-null   object \n",
      " 5   neighbourhood                   7907 non-null   object \n",
      " 6   latitude                        7907 non-null   float64\n",
      " 7   longitude                       7907 non-null   float64\n",
      " 8   room_type                       7907 non-null   object \n",
      " 9   price                           7907 non-null   int64  \n",
      " 10  minimum_nights                  7907 non-null   int64  \n",
      " 11  number_of_reviews               7907 non-null   int64  \n",
      " 12  last_review                     5149 non-null   object \n",
      " 13  reviews_per_month               5149 non-null   float64\n",
      " 14  calculated_host_listings_count  7907 non-null   int64  \n",
      " 15  availability_365                7907 non-null   int64  \n",
      "dtypes: float64(3), int64(7), object(6)\n",
      "memory usage: 988.5+ KB\n"
     ]
    }
   ],
   "source": [
    "# get further details of the data types \n",
    "listing.info()\n",
    "# int64 and float64 stands for numeric data, where as object denotes categorical data.\n",
    "# We see that host_id is saved as a integer, yet we will need to categorize this value for our analysis\n",
    "# we have 7907 air bnbs, differs from 5149 for last_review & reviews_per_month. \n",
    "# (unnecessary -> will remove from data set)"
   ]
  },
  {
   "cell_type": "code",
   "execution_count": 6,
   "metadata": {
    "scrolled": true
   },
   "outputs": [],
   "source": [
    "# removing columns\n",
    "listing = listing.drop([\"name\", \"host_name\", \"last_review\"], axis = 1)\n",
    "# axis = 1 --> column"
   ]
  },
  {
   "cell_type": "code",
   "execution_count": 7,
   "metadata": {},
   "outputs": [],
   "source": [
    "# remove NA values\n",
    "listing = listing.dropna(how =\"any\", axis=0)  \n",
    "# use any so it drops any kind of null value \n",
    "# axis = 0 --> row"
   ]
  },
  {
   "cell_type": "code",
   "execution_count": 8,
   "metadata": {},
   "outputs": [],
   "source": [
    "# rename column \"calculated_host_listings_count\"\n",
    "listing = listing.rename(columns={\"calculated_host_listings_count\": \"listings_count\"})"
   ]
  },
  {
   "cell_type": "code",
   "execution_count": 9,
   "metadata": {
    "scrolled": true
   },
   "outputs": [],
   "source": [
    "# transform id and host_id into categorical values\n",
    "listing[\"id\"] = listing.id.apply(lambda x: str(x))\n",
    "listing[\"host_id\"] = listing.host_id.apply(lambda x: str(x))"
   ]
  },
  {
   "cell_type": "code",
   "execution_count": 10,
   "metadata": {},
   "outputs": [
    {
     "name": "stdout",
     "output_type": "stream",
     "text": [
      "We have 0 duplications of Airbnb offers.\n"
     ]
    }
   ],
   "source": [
    "# check for duplicates \n",
    "duplications = sum(listing.duplicated(\"id\"))\n",
    "print(\"We have\", duplications, \"duplications of Airbnb offers.\")"
   ]
  },
  {
   "cell_type": "code",
   "execution_count": 11,
   "metadata": {},
   "outputs": [
    {
     "name": "stdout",
     "output_type": "stream",
     "text": [
      "<class 'pandas.core.frame.DataFrame'>\n",
      "Int64Index: 5149 entries, 0 to 7767\n",
      "Data columns (total 13 columns):\n",
      " #   Column               Non-Null Count  Dtype  \n",
      "---  ------               --------------  -----  \n",
      " 0   id                   5149 non-null   object \n",
      " 1   host_id              5149 non-null   object \n",
      " 2   neighbourhood_group  5149 non-null   object \n",
      " 3   neighbourhood        5149 non-null   object \n",
      " 4   latitude             5149 non-null   float64\n",
      " 5   longitude            5149 non-null   float64\n",
      " 6   room_type            5149 non-null   object \n",
      " 7   price                5149 non-null   int64  \n",
      " 8   minimum_nights       5149 non-null   int64  \n",
      " 9   number_of_reviews    5149 non-null   int64  \n",
      " 10  reviews_per_month    5149 non-null   float64\n",
      " 11  listings_count       5149 non-null   int64  \n",
      " 12  availability_365     5149 non-null   int64  \n",
      "dtypes: float64(3), int64(5), object(5)\n",
      "memory usage: 563.2+ KB\n"
     ]
    }
   ],
   "source": [
    "listing.info()"
   ]
  },
  {
   "cell_type": "code",
   "execution_count": 12,
   "metadata": {
    "scrolled": true
   },
   "outputs": [
    {
     "data": {
      "text/html": [
       "<div>\n",
       "<style scoped>\n",
       "    .dataframe tbody tr th:only-of-type {\n",
       "        vertical-align: middle;\n",
       "    }\n",
       "\n",
       "    .dataframe tbody tr th {\n",
       "        vertical-align: top;\n",
       "    }\n",
       "\n",
       "    .dataframe thead th {\n",
       "        text-align: right;\n",
       "    }\n",
       "</style>\n",
       "<table border=\"1\" class=\"dataframe\">\n",
       "  <thead>\n",
       "    <tr style=\"text-align: right;\">\n",
       "      <th></th>\n",
       "      <th>id</th>\n",
       "      <th>host_id</th>\n",
       "      <th>neighbourhood_group</th>\n",
       "      <th>neighbourhood</th>\n",
       "      <th>latitude</th>\n",
       "      <th>longitude</th>\n",
       "      <th>room_type</th>\n",
       "      <th>price</th>\n",
       "      <th>minimum_nights</th>\n",
       "      <th>number_of_reviews</th>\n",
       "      <th>reviews_per_month</th>\n",
       "      <th>listings_count</th>\n",
       "      <th>availability_365</th>\n",
       "    </tr>\n",
       "  </thead>\n",
       "  <tbody>\n",
       "    <tr>\n",
       "      <th>0</th>\n",
       "      <td>49091</td>\n",
       "      <td>266763</td>\n",
       "      <td>North Region</td>\n",
       "      <td>Woodlands</td>\n",
       "      <td>1.44255</td>\n",
       "      <td>103.79580</td>\n",
       "      <td>Private room</td>\n",
       "      <td>83</td>\n",
       "      <td>180</td>\n",
       "      <td>1</td>\n",
       "      <td>0.01</td>\n",
       "      <td>2</td>\n",
       "      <td>365</td>\n",
       "    </tr>\n",
       "    <tr>\n",
       "      <th>1</th>\n",
       "      <td>50646</td>\n",
       "      <td>227796</td>\n",
       "      <td>Central Region</td>\n",
       "      <td>Bukit Timah</td>\n",
       "      <td>1.33235</td>\n",
       "      <td>103.78521</td>\n",
       "      <td>Private room</td>\n",
       "      <td>81</td>\n",
       "      <td>90</td>\n",
       "      <td>18</td>\n",
       "      <td>0.28</td>\n",
       "      <td>1</td>\n",
       "      <td>365</td>\n",
       "    </tr>\n",
       "    <tr>\n",
       "      <th>2</th>\n",
       "      <td>56334</td>\n",
       "      <td>266763</td>\n",
       "      <td>North Region</td>\n",
       "      <td>Woodlands</td>\n",
       "      <td>1.44246</td>\n",
       "      <td>103.79667</td>\n",
       "      <td>Private room</td>\n",
       "      <td>69</td>\n",
       "      <td>6</td>\n",
       "      <td>20</td>\n",
       "      <td>0.20</td>\n",
       "      <td>2</td>\n",
       "      <td>365</td>\n",
       "    </tr>\n",
       "    <tr>\n",
       "      <th>3</th>\n",
       "      <td>71609</td>\n",
       "      <td>367042</td>\n",
       "      <td>East Region</td>\n",
       "      <td>Tampines</td>\n",
       "      <td>1.34541</td>\n",
       "      <td>103.95712</td>\n",
       "      <td>Private room</td>\n",
       "      <td>206</td>\n",
       "      <td>1</td>\n",
       "      <td>14</td>\n",
       "      <td>0.15</td>\n",
       "      <td>9</td>\n",
       "      <td>353</td>\n",
       "    </tr>\n",
       "    <tr>\n",
       "      <th>4</th>\n",
       "      <td>71896</td>\n",
       "      <td>367042</td>\n",
       "      <td>East Region</td>\n",
       "      <td>Tampines</td>\n",
       "      <td>1.34567</td>\n",
       "      <td>103.95963</td>\n",
       "      <td>Private room</td>\n",
       "      <td>94</td>\n",
       "      <td>1</td>\n",
       "      <td>22</td>\n",
       "      <td>0.22</td>\n",
       "      <td>9</td>\n",
       "      <td>355</td>\n",
       "    </tr>\n",
       "  </tbody>\n",
       "</table>\n",
       "</div>"
      ],
      "text/plain": [
       "      id host_id neighbourhood_group neighbourhood  latitude  longitude  \\\n",
       "0  49091  266763        North Region     Woodlands   1.44255  103.79580   \n",
       "1  50646  227796      Central Region   Bukit Timah   1.33235  103.78521   \n",
       "2  56334  266763        North Region     Woodlands   1.44246  103.79667   \n",
       "3  71609  367042         East Region      Tampines   1.34541  103.95712   \n",
       "4  71896  367042         East Region      Tampines   1.34567  103.95963   \n",
       "\n",
       "      room_type  price  minimum_nights  number_of_reviews  reviews_per_month  \\\n",
       "0  Private room     83             180                  1               0.01   \n",
       "1  Private room     81              90                 18               0.28   \n",
       "2  Private room     69               6                 20               0.20   \n",
       "3  Private room    206               1                 14               0.15   \n",
       "4  Private room     94               1                 22               0.22   \n",
       "\n",
       "   listings_count  availability_365  \n",
       "0               2               365  \n",
       "1               1               365  \n",
       "2               2               365  \n",
       "3               9               353  \n",
       "4               9               355  "
      ]
     },
     "execution_count": 12,
     "metadata": {},
     "output_type": "execute_result"
    }
   ],
   "source": [
    "listing.head()"
   ]
  },
  {
   "cell_type": "markdown",
   "metadata": {},
   "source": [
    "We have successfully transformed \"id\" & \"host_id\" into categorical data and removed duplicated and unnecessary columns. Hence, we are now left with 5149 rows and 13 columns. "
   ]
  },
  {
   "cell_type": "markdown",
   "metadata": {},
   "source": [
    "### 1.2 Univariate Analysis"
   ]
  },
  {
   "cell_type": "markdown",
   "metadata": {},
   "source": [
    "Taking a closer look at each single variable."
   ]
  },
  {
   "cell_type": "code",
   "execution_count": 13,
   "metadata": {},
   "outputs": [],
   "source": [
    "# make two lists for both numerical and categorical variables\n",
    "\n",
    "def get_variable_type():   \n",
    "     # numerical variables\n",
    "    num_variables = listing.select_dtypes(include=[\"int64\",\"float64\"]).columns\n",
    "\n",
    "    # categorical variables\n",
    "    cat_variables = listing.select_dtypes(include=[\"object\"]).columns\n",
    "    cat_variables = cat_variables.drop([\"id\",\"host_id\"])\n",
    "    return list(num_variables), list(cat_variables)\n",
    "\n",
    "num_variables, cat_variables = get_variable_type()"
   ]
  },
  {
   "cell_type": "markdown",
   "metadata": {},
   "source": [
    "#### Numerical Data"
   ]
  },
  {
   "cell_type": "code",
   "execution_count": 15,
   "metadata": {},
   "outputs": [
    {
     "data": {
      "image/png": "[encoded data removed]",
      "text/plain": [
       "<Figure size 864x432 with 8 Axes>"
      ]
     },
     "metadata": {},
     "output_type": "display_data"
    }
   ],
   "source": [
    "# distribution plots of all numerical variables\n",
    "\n",
    "num_melt = pd.melt(listing, value_vars=sorted(num_variables))\n",
    "num_grid = sn.FacetGrid(num_melt, col=\"variable\", col_wrap=4, sharex=False, sharey=False)\n",
    "num_grid = num_grid.map(sn.distplot, \"value\", color = \"lightcoral\")"
   ]
  },
  {
   "cell_type": "markdown",
   "metadata": {},
   "source": [
    "Let's take a closer look at our dependent variable price"
   ]
  },
  {
   "cell_type": "code",
   "execution_count": 16,
   "metadata": {
    "scrolled": true
   },
   "outputs": [
    {
     "data": {
      "text/plain": [
       "count     5149.000000\n",
       "mean       151.295203\n",
       "std        253.805616\n",
       "min          0.000000\n",
       "25%         62.000000\n",
       "50%        115.000000\n",
       "75%        187.000000\n",
       "max      10000.000000\n",
       "Name: price, dtype: float64"
      ]
     },
     "execution_count": 16,
     "metadata": {},
     "output_type": "execute_result"
    }
   ],
   "source": [
    "# price\n",
    "listing.price.describe()"
   ]
  },
  {
   "cell_type": "code",
   "execution_count": 17,
   "metadata": {},
   "outputs": [
    {
     "data": {
      "text/plain": [
       "115.0"
      ]
     },
     "execution_count": 17,
     "metadata": {},
     "output_type": "execute_result"
    }
   ],
   "source": [
    "listing.price.median()\n",
    "\n",
    "# median < mean -> indicates positive skewness\n",
    "# huge outlier with max price of 10000, 75% of offers included in range to price of 187"
   ]
  },
  {
   "cell_type": "code",
   "execution_count": 18,
   "metadata": {
    "scrolled": true
   },
   "outputs": [
    {
     "name": "stdout",
     "output_type": "stream",
     "text": [
      "Skew: 27.45 | Kurtosis: 990.18\n"
     ]
    }
   ],
   "source": [
    "print(\"Skew: {:.2f} | Kurtosis: {:.2f}\".format(listing.price.skew(), listing.price.kurtosis()))\n",
    "\n",
    "# extreme high kurtosis (very spikey), strong positive skew -> (right skewed)"
   ]
  },
  {
   "cell_type": "code",
   "execution_count": 19,
   "metadata": {
    "scrolled": true
   },
   "outputs": [
    {
     "data": {
      "image/png": "[encoded data removed]",
      "text/plain": [
       "<Figure size 1008x288 with 1 Axes>"
      ]
     },
     "metadata": {},
     "output_type": "display_data"
    }
   ],
   "source": [
    "plt.figure(figsize=(14,4))\n",
    "listing.price.plot.box(vert = False)\n",
    "plt.show()\n",
    "\n",
    "# several potential outliers observable"
   ]
  },
  {
   "cell_type": "code",
   "execution_count": 20,
   "metadata": {},
   "outputs": [
    {
     "data": {
      "text/plain": [
       "count    5149.000000\n",
       "mean       19.667508\n",
       "std        34.934534\n",
       "min         1.000000\n",
       "25%         2.000000\n",
       "50%         6.000000\n",
       "75%        21.000000\n",
       "max       323.000000\n",
       "Name: number_of_reviews, dtype: float64"
      ]
     },
     "execution_count": 20,
     "metadata": {},
     "output_type": "execute_result"
    }
   ],
   "source": [
    "# number of reviews\n",
    "listing.number_of_reviews.describe()"
   ]
  },
  {
   "cell_type": "code",
   "execution_count": 21,
   "metadata": {},
   "outputs": [
    {
     "data": {
      "text/plain": [
       "6.0"
      ]
     },
     "execution_count": 21,
     "metadata": {},
     "output_type": "execute_result"
    }
   ],
   "source": [
    "listing.number_of_reviews.median()\n",
    "\n",
    "# median of 6 and mean of 19.67 suggest a right skewed distribution"
   ]
  },
  {
   "cell_type": "code",
   "execution_count": 22,
   "metadata": {},
   "outputs": [
    {
     "data": {
      "image/png": "[encoded data removed]",
      "text/plain": [
       "<Figure size 1008x288 with 1 Axes>"
      ]
     },
     "metadata": {},
     "output_type": "display_data"
    }
   ],
   "source": [
    "plt.figure(figsize=(14,4))\n",
    "listing.number_of_reviews.plot.box(vert = False)\n",
    "plt.show()\n",
    "# strongly right skewed"
   ]
  },
  {
   "cell_type": "code",
   "execution_count": 29,
   "metadata": {},
   "outputs": [
    {
     "data": {
      "text/html": [
       "<div>\n",
       "<style scoped>\n",
       "    .dataframe tbody tr th:only-of-type {\n",
       "        vertical-align: middle;\n",
       "    }\n",
       "\n",
       "    .dataframe tbody tr th {\n",
       "        vertical-align: top;\n",
       "    }\n",
       "\n",
       "    .dataframe thead th {\n",
       "        text-align: right;\n",
       "    }\n",
       "</style>\n",
       "<table border=\"1\" class=\"dataframe\">\n",
       "  <thead>\n",
       "    <tr style=\"text-align: right;\">\n",
       "      <th></th>\n",
       "      <th>host_id</th>\n",
       "      <th>listings_count</th>\n",
       "    </tr>\n",
       "  </thead>\n",
       "  <tbody>\n",
       "    <tr>\n",
       "      <th>5235</th>\n",
       "      <td>66406177</td>\n",
       "      <td>274</td>\n",
       "    </tr>\n",
       "    <tr>\n",
       "      <th>1852</th>\n",
       "      <td>8492007</td>\n",
       "      <td>203</td>\n",
       "    </tr>\n",
       "    <tr>\n",
       "      <th>5053</th>\n",
       "      <td>209913841</td>\n",
       "      <td>157</td>\n",
       "    </tr>\n",
       "    <tr>\n",
       "      <th>4484</th>\n",
       "      <td>29420853</td>\n",
       "      <td>141</td>\n",
       "    </tr>\n",
       "    <tr>\n",
       "      <th>4621</th>\n",
       "      <td>31464513</td>\n",
       "      <td>114</td>\n",
       "    </tr>\n",
       "    <tr>\n",
       "      <th>6355</th>\n",
       "      <td>219550151</td>\n",
       "      <td>113</td>\n",
       "    </tr>\n",
       "    <tr>\n",
       "      <th>1785</th>\n",
       "      <td>2413412</td>\n",
       "      <td>112</td>\n",
       "    </tr>\n",
       "    <tr>\n",
       "      <th>3754</th>\n",
       "      <td>108773366</td>\n",
       "      <td>109</td>\n",
       "    </tr>\n",
       "    <tr>\n",
       "      <th>1589</th>\n",
       "      <td>23722617</td>\n",
       "      <td>84</td>\n",
       "    </tr>\n",
       "    <tr>\n",
       "      <th>6598</th>\n",
       "      <td>8948251</td>\n",
       "      <td>83</td>\n",
       "    </tr>\n",
       "    <tr>\n",
       "      <th>4327</th>\n",
       "      <td>159804766</td>\n",
       "      <td>79</td>\n",
       "    </tr>\n",
       "    <tr>\n",
       "      <th>5582</th>\n",
       "      <td>156409670</td>\n",
       "      <td>78</td>\n",
       "    </tr>\n",
       "    <tr>\n",
       "      <th>3834</th>\n",
       "      <td>138649185</td>\n",
       "      <td>76</td>\n",
       "    </tr>\n",
       "    <tr>\n",
       "      <th>373</th>\n",
       "      <td>14521708</td>\n",
       "      <td>67</td>\n",
       "    </tr>\n",
       "    <tr>\n",
       "      <th>6841</th>\n",
       "      <td>201034613</td>\n",
       "      <td>67</td>\n",
       "    </tr>\n",
       "  </tbody>\n",
       "</table>\n",
       "</div>"
      ],
      "text/plain": [
       "        host_id  listings_count\n",
       "5235   66406177             274\n",
       "1852    8492007             203\n",
       "5053  209913841             157\n",
       "4484   29420853             141\n",
       "4621   31464513             114\n",
       "6355  219550151             113\n",
       "1785    2413412             112\n",
       "3754  108773366             109\n",
       "1589   23722617              84\n",
       "6598    8948251              83\n",
       "4327  159804766              79\n",
       "5582  156409670              78\n",
       "3834  138649185              76\n",
       "373    14521708              67\n",
       "6841  201034613              67"
      ]
     },
     "execution_count": 29,
     "metadata": {},
     "output_type": "execute_result"
    }
   ],
   "source": [
    "# listings_count and host_id\n",
    "l_count = listing.sort_values(\"listings_count\").drop_duplicates([\"host_id\"])\n",
    "l_count = l_count[[\"host_id\", \"listings_count\"]]\n",
    "l_count.sort_values(\"listings_count\", ascending =False).head(15)\n",
    "\n",
    "# apparently we have many individuals that offer dozens if not hundreds of Airbnb "
   ]
  },
  {
   "cell_type": "markdown",
   "metadata": {},
   "source": [
    "#### Categorical Data"
   ]
  },
  {
   "cell_type": "code",
   "execution_count": 30,
   "metadata": {},
   "outputs": [
    {
     "name": "stderr",
     "output_type": "stream",
     "text": [
      "/Users/Dada/opt/anaconda3/lib/python3.7/site-packages/seaborn/axisgrid.py:728: UserWarning: Using the countplot function without specifying `order` is likely to produce an incorrect plot.\n",
      "  warnings.warn(warning)\n"
     ]
    },
    {
     "data": {
      "image/png": "[encoded data removed]",
      "text/plain": [
       "<Figure size 864x216 with 3 Axes>"
      ]
     },
     "metadata": {},
     "output_type": "display_data"
    }
   ],
   "source": [
    "cat_melt = pd.melt(listing, value_vars=sorted(cat_variables))\n",
    "cat_grid = sn.FacetGrid(cat_melt, col=\"variable\", col_wrap=4, sharex=False, sharey=False)\n",
    "plt.xticks(rotation=\"vertical\")\n",
    "cat_grid = cat_grid.map(sn.countplot, \"value\")\n",
    "[plt.setp(ax.get_xticklabels(), rotation=90) for ax in cat_grid.axes.flat]\n",
    "cat_grid.fig.tight_layout()\n",
    "plt.show()"
   ]
  },
  {
   "cell_type": "code",
   "execution_count": null,
   "metadata": {
    "scrolled": true
   },
   "outputs": [],
   "source": [
    "#region \n",
    "listing.neighbourhood_group.hist(bins = 5, rwidth =.9, color=\"lightcoral\")"
   ]
  },
  {
   "cell_type": "code",
   "execution_count": null,
   "metadata": {},
   "outputs": [],
   "source": [
    "# neighbourhood\n",
    "listing.neighbourhood.value_counts()"
   ]
  },
  {
   "cell_type": "code",
   "execution_count": null,
   "metadata": {
    "scrolled": false
   },
   "outputs": [],
   "source": [
    "# rooms\n",
    "listing.room_type.value_counts()"
   ]
  },
  {
   "cell_type": "code",
   "execution_count": null,
   "metadata": {},
   "outputs": [],
   "source": [
    "listing.room_type.hist(bins=3, rwidth=.8, color=\"lightcoral\")\n",
    "plt.show()\n",
    "\n",
    "# mostly entire homes/apartments closely followed by private rooms"
   ]
  },
  {
   "cell_type": "markdown",
   "metadata": {},
   "source": [
    "We can see that many of our variables contain many potential outliers and thus the distribution is heavily skewed. But as of now this isn't and issue to worry about. "
   ]
  },
  {
   "cell_type": "markdown",
   "metadata": {},
   "source": [
    "### 1.3 Bivariate Analysis"
   ]
  },
  {
   "cell_type": "code",
   "execution_count": null,
   "metadata": {},
   "outputs": [],
   "source": []
  },
  {
   "cell_type": "code",
   "execution_count": null,
   "metadata": {},
   "outputs": [],
   "source": []
  },
  {
   "cell_type": "code",
   "execution_count": null,
   "metadata": {},
   "outputs": [],
   "source": []
  },
  {
   "cell_type": "code",
   "execution_count": null,
   "metadata": {},
   "outputs": [],
   "source": []
  },
  {
   "cell_type": "markdown",
   "metadata": {},
   "source": [
    "## 2. Prediction"
   ]
  },
  {
   "cell_type": "markdown",
   "metadata": {},
   "source": [
    "### 2.1 Prepare data"
   ]
  },
  {
   "cell_type": "code",
   "execution_count": null,
   "metadata": {},
   "outputs": [],
   "source": [
    "# Log transform of the skewed numerical features to lessen impact of outliers\n",
    "# Inspired by Alexandru Papiu's script : https://www.kaggle.com/apapiu/house-prices-advanced-regression-techniques/regularized-linear-models\n",
    "# As a general rule of thumb, a skewness with an absolute value > 0.5 is considered at least moderately skewed\n",
    "skewness = train_num.apply(lambda x: skew(x))\n",
    "skewness = skewness[abs(skewness) > 0.5]\n",
    "print(str(skewness.shape[0]) + \" skewed numerical features to log transform\")\n",
    "skewed_features = skewness.index\n",
    "train_num[skewed_features] = np.log1p(train_num[skewed_features])"
   ]
  },
  {
   "cell_type": "markdown",
   "metadata": {},
   "source": [
    "### 2.2 Linear Regression"
   ]
  },
  {
   "cell_type": "markdown",
   "metadata": {},
   "source": [
    "### 2.3 Ridge"
   ]
  },
  {
   "cell_type": "markdown",
   "metadata": {},
   "source": [
    "### 2.4 Lasso"
   ]
  },
  {
   "cell_type": "markdown",
   "metadata": {},
   "source": [
    "## 3. Conclusion"
   ]
  },
  {
   "cell_type": "code",
   "execution_count": null,
   "metadata": {},
   "outputs": [],
   "source": []
  }
 ],
 "metadata": {
  "kernelspec": {
   "display_name": "Python 3",
   "language": "python",
   "name": "python3"
  },
  "language_info": {
   "codemirror_mode": {
    "name": "ipython",
    "version": 3
   },
   "file_extension": ".py",
   "mimetype": "text/x-python",
   "name": "python",
   "nbconvert_exporter": "python",
   "pygments_lexer": "ipython3",
   "version": "3.7.6"
  }
 },
 "nbformat": 4,
 "nbformat_minor": 4
}
