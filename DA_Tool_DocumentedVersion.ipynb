{
 "cells": [
  {
   "cell_type": "markdown",
   "metadata": {},
   "source": [
    "# Data Analytics Tool "
   ]
  },
  {
   "cell_type": "markdown",
   "metadata": {},
   "source": [
    "## Introduction\n",
    "\n",
    "This program is intended to complete a full data analyis.\n",
    "It is able to pre-process the data set and give descriptive analysis results, all based on the users preferences.\n",
    "\n",
    "The focus lies on being interactive and automated. In other words, the program contains specifically designed function for which it asks the user desires to perform these on her data set.\n",
    "\n",
    "Any kind of csv file should be applicable. The user needs make sure the csv file is located in the correct directory."
   ]
  },
  {
   "cell_type": "markdown",
   "metadata": {},
   "source": [
    "## 1. Import of libraries and the data set "
   ]
  },
  {
   "cell_type": "code",
   "execution_count": 1,
   "metadata": {},
   "outputs": [],
   "source": [
    "## 1.1 Imports\n",
    "import sys\n",
    "import math\n",
    "import numpy as np\n",
    "import pandas as pd\n",
    "import scipy.stats\n",
    "import matplotlib.pyplot as plt\n",
    "plt.style.use('ggplot')\n",
    "import seaborn as sn"
   ]
  },
  {
   "cell_type": "code",
   "execution_count": 2,
   "metadata": {},
   "outputs": [
    {
     "name": "stdout",
     "output_type": "stream",
     "text": [
      "Hello User!\n",
      "Let's begin analysing your data!\n"
     ]
    }
   ],
   "source": [
    "print(\"Hello User!\\nLet's begin analysing your data!\")"
   ]
  },
  {
   "cell_type": "code",
   "execution_count": 3,
   "metadata": {},
   "outputs": [],
   "source": [
    "## 1.2 preparing answers for y/n questions and cancel possibilty \n",
    "yes = {\"yes\", \"y\"}\n",
    "no = {\"no\", \"n\"}\n",
    "cancel = {\"cancel\", \"c\"}"
   ]
  },
  {
   "cell_type": "code",
   "execution_count": 59,
   "metadata": {},
   "outputs": [],
   "source": [
    "## 1.3 define function for reading data \n",
    "\n",
    "def start():\n",
    "    #write file into global variable to use it outside of function\n",
    "    global data\n",
    "    inp = input(\"\\nIs your csv file located in the correct working directory?(y/n): \")\n",
    "    # we check if the inp is in the answer vectors yes or no and if not repeat the function\n",
    "    if inp in yes:\n",
    "        try:\n",
    "            # allow the user to input the csv file name in the directory that is to be used\n",
    "            original_name = input(\"\\nWhat is the name of the csv in the directory (exclude .csv)?:  \")\n",
    "            new_name = original_name+'.csv'\n",
    "            data = pd.read_csv(new_name)\n",
    "            print(\"\\nIn the following tables you get an overview of your data including the head and tail: \")\n",
    "            return data\n",
    "        except FileNotFoundError:\n",
    "            print(\"\\nThere is no such file in your directory. Please retry!\")\n",
    "            start()\n",
    "    # if answer no --> give second option to load it via working directory or url \n",
    "    elif inp in no:\n",
    "        web = input(\"\\nIs your csv file located online?(y/n): \")\n",
    "        if web in yes:\n",
    "            try:\n",
    "                url = input(\"Please input your csv url:\")\n",
    "                data = pd.read_csv(url)\n",
    "                print(\"\\nIn the following tables you get an overview of your data including the head and tail: \")\n",
    "                return data\n",
    "            except FileNotFoundError:\n",
    "                print(\"\\nThere is no such file in your directory. Please retry!\")\n",
    "                start() \n",
    "        elif web in no: \n",
    "                print(\"\\nPlease put your csv file in the correct working directory!\")\n",
    "                start()\n",
    "        else: \n",
    "            sys.stdout.write(\"\"\"\\nPlease answer with \"yes\" or \"no\".\"\"\")\n",
    "            start()\n",
    "    # if answer not in yes or no or cancel --> repeat function            \n",
    "    else: \n",
    "        sys.stdout.write(\"\"\"\\nPlease answer with \"yes\" or \"no\".\"\"\")\n",
    "        start()"
   ]
  },
  {
   "cell_type": "code",
   "execution_count": 5,
   "metadata": {},
   "outputs": [
    {
     "name": "stdout",
     "output_type": "stream",
     "text": [
      "\n",
      "Is your csv file located in the correct working directory?(y/n): y\n",
      "\n",
      "What is the name of the csv in the directory (exclude .csv)?:  StudentsPerformance\n",
      "\n",
      "In the following tables you get an overview of your data including the head and tail: \n"
     ]
    },
    {
     "data": {
      "text/html": [
       "<div>\n",
       "<style scoped>\n",
       "    .dataframe tbody tr th:only-of-type {\n",
       "        vertical-align: middle;\n",
       "    }\n",
       "\n",
       "    .dataframe tbody tr th {\n",
       "        vertical-align: top;\n",
       "    }\n",
       "\n",
       "    .dataframe thead th {\n",
       "        text-align: right;\n",
       "    }\n",
       "</style>\n",
       "<table border=\"1\" class=\"dataframe\">\n",
       "  <thead>\n",
       "    <tr style=\"text-align: right;\">\n",
       "      <th></th>\n",
       "      <th>gender</th>\n",
       "      <th>race/ethnicity</th>\n",
       "      <th>parental level of education</th>\n",
       "      <th>lunch</th>\n",
       "      <th>test preparation course</th>\n",
       "      <th>math score</th>\n",
       "      <th>reading score</th>\n",
       "      <th>writing score</th>\n",
       "    </tr>\n",
       "  </thead>\n",
       "  <tbody>\n",
       "    <tr>\n",
       "      <th>0</th>\n",
       "      <td>female</td>\n",
       "      <td>group B</td>\n",
       "      <td>bachelor's degree</td>\n",
       "      <td>standard</td>\n",
       "      <td>none</td>\n",
       "      <td>72</td>\n",
       "      <td>72</td>\n",
       "      <td>74</td>\n",
       "    </tr>\n",
       "    <tr>\n",
       "      <th>1</th>\n",
       "      <td>female</td>\n",
       "      <td>group C</td>\n",
       "      <td>some college</td>\n",
       "      <td>standard</td>\n",
       "      <td>completed</td>\n",
       "      <td>69</td>\n",
       "      <td>90</td>\n",
       "      <td>88</td>\n",
       "    </tr>\n",
       "    <tr>\n",
       "      <th>2</th>\n",
       "      <td>female</td>\n",
       "      <td>group B</td>\n",
       "      <td>master's degree</td>\n",
       "      <td>standard</td>\n",
       "      <td>none</td>\n",
       "      <td>90</td>\n",
       "      <td>95</td>\n",
       "      <td>93</td>\n",
       "    </tr>\n",
       "    <tr>\n",
       "      <th>3</th>\n",
       "      <td>male</td>\n",
       "      <td>group A</td>\n",
       "      <td>associate's degree</td>\n",
       "      <td>free/reduced</td>\n",
       "      <td>none</td>\n",
       "      <td>47</td>\n",
       "      <td>57</td>\n",
       "      <td>44</td>\n",
       "    </tr>\n",
       "    <tr>\n",
       "      <th>4</th>\n",
       "      <td>male</td>\n",
       "      <td>group C</td>\n",
       "      <td>some college</td>\n",
       "      <td>standard</td>\n",
       "      <td>none</td>\n",
       "      <td>76</td>\n",
       "      <td>78</td>\n",
       "      <td>75</td>\n",
       "    </tr>\n",
       "    <tr>\n",
       "      <th>...</th>\n",
       "      <td>...</td>\n",
       "      <td>...</td>\n",
       "      <td>...</td>\n",
       "      <td>...</td>\n",
       "      <td>...</td>\n",
       "      <td>...</td>\n",
       "      <td>...</td>\n",
       "      <td>...</td>\n",
       "    </tr>\n",
       "    <tr>\n",
       "      <th>995</th>\n",
       "      <td>female</td>\n",
       "      <td>group E</td>\n",
       "      <td>master's degree</td>\n",
       "      <td>standard</td>\n",
       "      <td>completed</td>\n",
       "      <td>88</td>\n",
       "      <td>99</td>\n",
       "      <td>95</td>\n",
       "    </tr>\n",
       "    <tr>\n",
       "      <th>996</th>\n",
       "      <td>male</td>\n",
       "      <td>group C</td>\n",
       "      <td>high school</td>\n",
       "      <td>free/reduced</td>\n",
       "      <td>none</td>\n",
       "      <td>62</td>\n",
       "      <td>55</td>\n",
       "      <td>55</td>\n",
       "    </tr>\n",
       "    <tr>\n",
       "      <th>997</th>\n",
       "      <td>female</td>\n",
       "      <td>group C</td>\n",
       "      <td>high school</td>\n",
       "      <td>free/reduced</td>\n",
       "      <td>completed</td>\n",
       "      <td>59</td>\n",
       "      <td>71</td>\n",
       "      <td>65</td>\n",
       "    </tr>\n",
       "    <tr>\n",
       "      <th>998</th>\n",
       "      <td>female</td>\n",
       "      <td>group D</td>\n",
       "      <td>some college</td>\n",
       "      <td>standard</td>\n",
       "      <td>completed</td>\n",
       "      <td>68</td>\n",
       "      <td>78</td>\n",
       "      <td>77</td>\n",
       "    </tr>\n",
       "    <tr>\n",
       "      <th>999</th>\n",
       "      <td>female</td>\n",
       "      <td>group D</td>\n",
       "      <td>some college</td>\n",
       "      <td>free/reduced</td>\n",
       "      <td>none</td>\n",
       "      <td>77</td>\n",
       "      <td>86</td>\n",
       "      <td>86</td>\n",
       "    </tr>\n",
       "  </tbody>\n",
       "</table>\n",
       "<p>1000 rows × 8 columns</p>\n",
       "</div>"
      ],
      "text/plain": [
       "     gender race/ethnicity parental level of education         lunch  \\\n",
       "0    female        group B           bachelor's degree      standard   \n",
       "1    female        group C                some college      standard   \n",
       "2    female        group B             master's degree      standard   \n",
       "3      male        group A          associate's degree  free/reduced   \n",
       "4      male        group C                some college      standard   \n",
       "..      ...            ...                         ...           ...   \n",
       "995  female        group E             master's degree      standard   \n",
       "996    male        group C                 high school  free/reduced   \n",
       "997  female        group C                 high school  free/reduced   \n",
       "998  female        group D                some college      standard   \n",
       "999  female        group D                some college  free/reduced   \n",
       "\n",
       "    test preparation course  math score  reading score  writing score  \n",
       "0                      none          72             72             74  \n",
       "1                 completed          69             90             88  \n",
       "2                      none          90             95             93  \n",
       "3                      none          47             57             44  \n",
       "4                      none          76             78             75  \n",
       "..                      ...         ...            ...            ...  \n",
       "995               completed          88             99             95  \n",
       "996                    none          62             55             55  \n",
       "997               completed          59             71             65  \n",
       "998               completed          68             78             77  \n",
       "999                    none          77             86             86  \n",
       "\n",
       "[1000 rows x 8 columns]"
      ]
     },
     "execution_count": 5,
     "metadata": {},
     "output_type": "execute_result"
    }
   ],
   "source": [
    "# 1.3 cont. Execute function\n",
    "\n",
    "start()\n"
   ]
  },
  {
   "cell_type": "code",
   "execution_count": 6,
   "metadata": {},
   "outputs": [],
   "source": [
    "## 1.4 more preparation\n",
    "# get all columns name so we can check if necessary entries of column names by user are correct\n",
    "columns = list(data.columns) \n",
    "c = []\n",
    "d = []"
   ]
  },
  {
   "cell_type": "code",
   "execution_count": 7,
   "metadata": {},
   "outputs": [
    {
     "name": "stdout",
     "output_type": "stream",
     "text": [
      "\n",
      "Your data set includes the following number of rows and columns: \n"
     ]
    },
    {
     "data": {
      "text/plain": [
       "(1000, 8)"
      ]
     },
     "execution_count": 7,
     "metadata": {},
     "output_type": "execute_result"
    }
   ],
   "source": [
    "## 1.5 showing max rows and columns of data set\n",
    "print(\"\\nYour data set includes the following number of rows and columns: \")\n",
    "data.shape"
   ]
  },
  {
   "cell_type": "markdown",
   "metadata": {},
   "source": [
    "## 2. Cleaning Data Set"
   ]
  },
  {
   "cell_type": "markdown",
   "metadata": {},
   "source": [
    "The program continues with the data pre-processing, an important part for data analytics.  \n",
    "It is able to various common commands of data analytics and will ask the user for the necessary inputs. "
   ]
  },
  {
   "cell_type": "code",
   "execution_count": 23,
   "metadata": {},
   "outputs": [],
   "source": [
    "## 2.1 defining an input function such that we can run this everytime the program needs to ask the user for columns \n",
    "## the user may like to edit\n",
    "\n",
    "def getInput():\n",
    "    # assign value to global variable c to use outside function\n",
    "    global c\n",
    "    c.clear()\n",
    "    input_string = input(\"\\nEnter all columns separated with comma and space (eg. (, )): \")\n",
    "    # use space as split\n",
    "    c  = input_string.split(\", \")\n",
    "    # check if values in vector are in columns list\n",
    "    for char in c: \n",
    "        if char not in columns:\n",
    "            print(char, \"is not given in data set. Please retry!\")\n",
    "            getInput()\n",
    "    return "
   ]
  },
  {
   "cell_type": "code",
   "execution_count": 9,
   "metadata": {},
   "outputs": [],
   "source": [
    "## 2.2 removing columns\n",
    "# define function that asks for columns and deletes them \n",
    "\n",
    "def qRemove():\n",
    "    inp = str(input(\"\\nWould you like to remove columns from your data set? (y/n): \").lower())\n",
    "    if inp in yes:\n",
    "        getInput()\n",
    "        # getInput() gives us a vector c which we can directly use for the df.drop function\n",
    "        global data\n",
    "        # insert c in df.drop \n",
    "        data = data.drop(c, axis = 1) # axis = 1 --> column\n",
    "        # give user output to assure the execution was successful\n",
    "        for char in c:\n",
    "            print(\"\\n\" + char, \"has been removed from the data set!\")\n",
    "        global columns\n",
    "        columns = list(data.columns) \n",
    "        return \n",
    "    elif inp in no:\n",
    "        return\n",
    "    else:\n",
    "        sys.stdout.write(\"\"\"\\nPlease answer with \"yes\" or \"no\".\"\"\")\n",
    "        qRemove()\n",
    "    return"
   ]
  },
  {
   "cell_type": "code",
   "execution_count": 10,
   "metadata": {
    "scrolled": true
   },
   "outputs": [
    {
     "name": "stdout",
     "output_type": "stream",
     "text": [
      "\n",
      "Would you like to remove columns from your data set? (y/n): n\n"
     ]
    }
   ],
   "source": [
    "## 2.2 cont. Execute function\n",
    "qRemove()"
   ]
  },
  {
   "cell_type": "code",
   "execution_count": 11,
   "metadata": {},
   "outputs": [
    {
     "name": "stdout",
     "output_type": "stream",
     "text": [
      "In the next table you will find more specific information about your data set:\n",
      "(\"datetime64\" stands for date data, int64\" and \"float64\" stands for numeric data,\n",
      "whereas \"object\" denotes categorical data)\n",
      "\n"
     ]
    },
    {
     "data": {
      "text/plain": [
       "gender                         object\n",
       "race/ethnicity                 object\n",
       "parental level of education    object\n",
       "lunch                          object\n",
       "test preparation course        object\n",
       "math score                      int64\n",
       "reading score                   int64\n",
       "writing score                   int64\n",
       "dtype: object"
      ]
     },
     "execution_count": 11,
     "metadata": {},
     "output_type": "execute_result"
    }
   ],
   "source": [
    "## 2.3 get further details of the data types \n",
    "\n",
    "print(\"\"\"In the next table you will find more specific information about your data set:\n",
    "(\"datetime64\" stands for date data, int64\" and \"float64\" stands for numeric data,\\nwhereas \"object\" denotes categorical data)\\n\"\"\")\n",
    "\n",
    "data.dtypes"
   ]
  },
  {
   "cell_type": "code",
   "execution_count": 12,
   "metadata": {
    "scrolled": true
   },
   "outputs": [],
   "source": [
    "## 2.4 Transforming data types\n",
    "# here we want to ask the user if there are columns present that the user wants to change the type in\n",
    "# for this we create define functions for each column type and insert these into our main function \n",
    "\n",
    "#define category change function\n",
    "def inpCat():\n",
    "    inp =str(input(\"\\nAre there columns that need to be changed into character type? (y/n): \").lower())\n",
    "    if inp in yes:\n",
    "        # getInput()\n",
    "        getInput()\n",
    "        for char in c:\n",
    "            global data\n",
    "            # change each value in vector to character type\n",
    "            data[char] = data[char].astype(str)\n",
    "            # assure success to user\n",
    "            print(char, \"has been changed to character!\")\n",
    "        return\n",
    "    elif inp in no:\n",
    "        return\n",
    "    else: \n",
    "        sys.stdout.write(\"\"\"\\nPlease answer with \"yes\" or \"no\".\"\"\")\n",
    "        inpCat()\n",
    "        \n",
    "# define float change function\n",
    "def inpNum():\n",
    "    inp = str(input(\"\\nAre there columns that need to be changed into numeric? (y/n): \").lower())\n",
    "    if inp in yes:\n",
    "        # getInput()\n",
    "        getInput()\n",
    "        for char in c:\n",
    "            global data\n",
    "            # change each value in vector to numeric type\n",
    "            data[char] = pd.to_numeric(data[char])\n",
    "            print(char, \"has been changed to numeric!\")\n",
    "        return\n",
    "    elif inp in no:\n",
    "        return\n",
    "    else: \n",
    "        sys.stdout.write(\"\"\"\\nPlease answer with \"yes\" or \"no\".\"\"\")\n",
    "        inpNum()      \n",
    "\n",
    "\n",
    "#define date change function\n",
    "def inpDate():\n",
    "    inp = str(input(\"\\nAre there columns that need to be changed into date? (y/n): \").lower())\n",
    "    if inp in yes:\n",
    "        # getInput()\n",
    "        getInput()\n",
    "        for char in c:        \n",
    "            global data\n",
    "            data[char] = pd.to_datetime(data[char], infer_datetime_format=True)\n",
    "            print(char, \"has been changed to date!\")\n",
    "        return\n",
    "    elif inp in no:\n",
    "        return\n",
    "    else: \n",
    "        sys.stdout.write(\"\"\"\\nPlease answer with \"yes\" or \"no\".\"\"\")\n",
    "        inpDate()\n",
    "        \n",
    "        \n",
    "# define main Transform function\n",
    "def qTransform():\n",
    "    inp = str(input(\"\\nAre there any columns in the wrong format that need to be changed? (y/n): \").lower())\n",
    "    # execute all functions sequentially\n",
    "    if inp in yes:\n",
    "        inpCat()\n",
    "        inpNum()\n",
    "        inpDate()\n",
    "        global columns\n",
    "        columns = list(data.columns) \n",
    "        return\n",
    "    elif inp in no:\n",
    "        return\n",
    "    else:\n",
    "        sys.stdout.write(\"\"\"\\nPlease answer with \"yes\" or \"no\".\"\"\")\n",
    "        qTransform()\n",
    "    return\n"
   ]
  },
  {
   "cell_type": "code",
   "execution_count": 13,
   "metadata": {},
   "outputs": [
    {
     "name": "stdout",
     "output_type": "stream",
     "text": [
      "\n",
      "Are there any columns in the wrong format that need to be changed? (y/n): n\n",
      "\n",
      "See the table with your prefered types:\n"
     ]
    },
    {
     "data": {
      "text/plain": [
       "gender                         object\n",
       "race/ethnicity                 object\n",
       "parental level of education    object\n",
       "lunch                          object\n",
       "test preparation course        object\n",
       "math score                      int64\n",
       "reading score                   int64\n",
       "writing score                   int64\n",
       "dtype: object"
      ]
     },
     "execution_count": 13,
     "metadata": {},
     "output_type": "execute_result"
    }
   ],
   "source": [
    "# 2.4 cont. Execute function\n",
    "qTransform()\n",
    "print(\"\\nSee the table with your prefered types:\")\n",
    "data.dtypes"
   ]
  },
  {
   "cell_type": "code",
   "execution_count": 14,
   "metadata": {},
   "outputs": [
    {
     "name": "stdout",
     "output_type": "stream",
     "text": [
      "Here you see the number of null values for each variable.\n"
     ]
    },
    {
     "data": {
      "text/plain": [
       "gender                         0\n",
       "race/ethnicity                 0\n",
       "parental level of education    0\n",
       "lunch                          0\n",
       "test preparation course        0\n",
       "math score                     0\n",
       "reading score                  0\n",
       "writing score                  0\n",
       "dtype: int64"
      ]
     },
     "execution_count": 14,
     "metadata": {},
     "output_type": "execute_result"
    }
   ],
   "source": [
    "## 2.5 count number of null values\n",
    "\n",
    "print(\"Here you see the number of null values for each variable.\")\n",
    "\n",
    "data.isnull().sum()"
   ]
  },
  {
   "cell_type": "code",
   "execution_count": 15,
   "metadata": {},
   "outputs": [],
   "source": [
    "## 2.6 remove NA values\n",
    "\n",
    "# define function to ask if user wants to remove null values\n",
    "def qDrop():\n",
    "    inp = str(input(\"\\nDo you want to remove the null values? (y/n): \").lower())\n",
    "    if inp in yes:\n",
    "        global data\n",
    "        # will remove any null values \n",
    "        data = data.dropna(how=\"any\", axis=0) # axis = 0 --> row\n",
    "        print(\"\\nNull values have been removed!\")\n",
    "    elif inp in no:\n",
    "        return      \n",
    "    else:\n",
    "        sys.stdout.write(\"\"\"\\nPlease answer with \"yes\" or \"no\".\"\"\")\n",
    "        qDrop()"
   ]
  },
  {
   "cell_type": "code",
   "execution_count": 16,
   "metadata": {},
   "outputs": [
    {
     "name": "stdout",
     "output_type": "stream",
     "text": [
      "\n",
      "Do you want to remove the null values? (y/n): y\n",
      "\n",
      "Null values have been removed!\n"
     ]
    }
   ],
   "source": [
    "# 2.6 cont. Execute function        \n",
    "qDrop()"
   ]
  },
  {
   "cell_type": "code",
   "execution_count": 18,
   "metadata": {},
   "outputs": [],
   "source": [
    "## 2.7 Renaming columns \n",
    "# define function to ask if user wants to rename columns\n",
    "\n",
    "def qRename():\n",
    "    inp = str(input(\"\\nDo you want to rename columns? (y/n): \").lower())\n",
    "    if inp in yes:\n",
    "        # getInput() \n",
    "        getInput()\n",
    "        for char in c:\n",
    "            global data\n",
    "            # ask for new name\n",
    "            newname_input = str(input(\"\\nHow do you want to rename the column \" + str(char) + \"?: \"))\n",
    "            # use rename function to rename\n",
    "            data = data.rename(columns = {char: newname_input})\n",
    "            # update columns list for getInput() to continue working correctly\n",
    "            global columns\n",
    "            columns = list(data.columns) \n",
    "            # give user update how every value has been renamed to \n",
    "            print(str(char) +\" has been renamed to \" + str(newname_input)+\"!\")\n",
    "    elif inp in no:\n",
    "        return      \n",
    "    else:\n",
    "        sys.stdout.write(\"\"\"\\nPlease answer with \"yes\" or \"no\".\"\"\")\n",
    "        qRename()\n"
   ]
  },
  {
   "cell_type": "code",
   "execution_count": 21,
   "metadata": {},
   "outputs": [
    {
     "name": "stdout",
     "output_type": "stream",
     "text": [
      "\n",
      "Do you want to rename columns? (y/n): race/ethnicity, parental level of eductation, test preparation course\n",
      "\n",
      "Please answer with \"yes\" or \"no\".\n",
      "Do you want to rename columns? (y/n): y\n",
      "\n",
      "Enter all columns separated with space: race/ethnicity, parental level of eductation, test preparation course\n",
      "parental level of eductation is not given in data set. Please retry!\n",
      "\n",
      "Enter all columns separated with space: race/ethnicity, parental level of education, test preparation course\n",
      "\n",
      "How do you want to rename the column race/ethnicity?: ethnicityGroup\n",
      "race/ethnicity has been renamed to ethnicityGroup!\n",
      "\n",
      "How do you want to rename the column parental level of education?: parentalEducation\n",
      "parental level of education has been renamed to parentalEducation!\n",
      "\n",
      "How do you want to rename the column test preparation course?: prepCourse\n",
      "test preparation course has been renamed to prepCourse!\n"
     ]
    }
   ],
   "source": [
    "## 2.7 cont. Execute function\n",
    "qRename()"
   ]
  },
  {
   "cell_type": "code",
   "execution_count": 24,
   "metadata": {},
   "outputs": [],
   "source": [
    "## 2.8 check for duplicates \n",
    "\n",
    "# To get rid of duplicates we check if the *key* appears more than once\n",
    "# A key in a data set is a variable which is unique. In other words, the key is the value whith which\n",
    "# you can access each single observation. \n",
    "# Thus the program asks the user for the key. The user must know this key! \n",
    "# The program hasn't got the intelligence to figure it out by itself. \n",
    "\n",
    "# defining question for key\n",
    "def Key():\n",
    "    # get key\n",
    "    key = input(\"\\nWhat column is the primary key of your data set?: \")\n",
    "    # give user option to cancel if he doesn't know key --> no checking for duplicates will be possible\n",
    "    if key in cancel:\n",
    "        return\n",
    "    # retry if key has been misstyped\n",
    "    elif key not in columns:\n",
    "        print(\"\\nThere is no such variable. Please try again!\")\n",
    "        qKey()\n",
    "    else:\n",
    "        return key\n",
    "\n",
    "\n",
    "# defining removal of duplicates \n",
    "def removeDupl():\n",
    "    inp = str(input(\"\\nDo you want to remove the duplicates from your data set? (y/n): \").lower())\n",
    "    if inp in yes:\n",
    "        global data\n",
    "        # drop_duplicates to delete any duplicates in key column\n",
    "        data = data.drop_duplicates(key)\n",
    "        # give user update for success\n",
    "        print(\"\\nThe duplicates have been removed!\")\n",
    "    elif inp in no:\n",
    "        return \n",
    "    else:\n",
    "        sys.stdout.write(\"\"\"\\nPlease answer with \"yes\" or \"no\".\"\"\")\n",
    "        removeDupl()\n",
    "    return\n",
    "\n",
    "#defining overall question for handling duplicates\n",
    "def qDuplicates():\n",
    "    inp = str(input(\"\\nDo you want to check for duplicates in your data set? (y/n): \").lower())\n",
    "    if inp in yes:\n",
    "        # call global key\n",
    "        global key\n",
    "        # use Key() function and add value to variable key\n",
    "        key = Key()\n",
    "        # sum the number of duplicates in the column key\n",
    "        duplications = sum(data.duplicated(key))\n",
    "        # inform user\n",
    "        print(\"There are\", duplications, \"duplicates in your data set.\")\n",
    "        # if there are no duplicates the function will end and move on,\n",
    "        # as there is no reason to ask for deleting 0 duplicates\n",
    "        if duplications == 0:\n",
    "            return\n",
    "        # if not 0 then move on to ask for the removal of duplicates\n",
    "        else:\n",
    "            removeDupl()\n",
    "    elif inp in no: \n",
    "        return\n",
    "    else:\n",
    "        sys.stdout.write(\"\"\"\\nPlease answer with \"yes\" or \"no\".\"\"\")\n",
    "        qDuplicates()  \n",
    "    return"
   ]
  },
  {
   "cell_type": "code",
   "execution_count": 25,
   "metadata": {},
   "outputs": [
    {
     "name": "stdout",
     "output_type": "stream",
     "text": [
      "\n",
      "Do you want to check for duplicates in your data set? (y/n): no\n"
     ]
    }
   ],
   "source": [
    "# 2.8 cont. Execute functions\n",
    "qDuplicates()"
   ]
  },
  {
   "cell_type": "code",
   "execution_count": 26,
   "metadata": {},
   "outputs": [],
   "source": [
    "## 2.9 asking if everything is correct and give user the possibility to repeat corrections\n",
    "\n",
    "def qAgainNested():\n",
    "    # ask for input which function the user wants to repeat\n",
    "    # each letter a-e corresponds to a function\n",
    "    again = str(input(\"\\nWhat would you like to repeat? Enter the corresponding letter (a-e): \").lower())    \n",
    "    # abort function and potential endless loop by entering \"cancel\", as \"c\" is a command to execute a function\n",
    "    if again == \"cancel\":\n",
    "        q2Again()\n",
    "        return\n",
    "    elif again == \"a\":\n",
    "        qRemove()\n",
    "        q2Again()\n",
    "    elif again == \"b\":\n",
    "        qTransform()\n",
    "        q2Again()\n",
    "    elif again == \"c\":\n",
    "        qDrop()\n",
    "        q2Again()\n",
    "    elif again == \"d\":\n",
    "        qRename()\n",
    "        q2Again()\n",
    "    elif again == \"e\":\n",
    "        qDuplicates()\n",
    "        q2Again()\n",
    "    # repeat this function if a incorrect input has been given\n",
    "    else: \n",
    "        sys.stdout.write(\"\"\"\\nPlease answer with a letter between \"(a-e)\".\"\"\")\n",
    "        qAgainNested()\n",
    "\n",
    "def q2Again():\n",
    "    inp2 = str(input(\"\\nDo you want to repeat another function? (y/n): \").lower())\n",
    "    if inp2 in yes:\n",
    "        # move to main function to print the possibilites again \n",
    "        qAgain()\n",
    "    elif inp2 in no:\n",
    "        # give last overall output before finishing data pre-processing\n",
    "        print(\"\\nPerfect!\\nWe are left with the following number of observations and variables:\\n\" + \n",
    "              str(data.shape[0]) + \" | \" + str(data.shape[1]))\n",
    "    else:\n",
    "        sys.stdout.write(\"\"\"\\nPlease answer with \"yes\" or \"no\".\"\"\")\n",
    "        q2Again()  \n",
    "\n",
    "def qAgain():\n",
    "    # list different functions and ask if user wants to repeat one of these\n",
    "    inp = str(input(\"\\nDo you want to repeat one of these listed functions?\"+\n",
    "                    \"\\na) Removing Columns\" + \n",
    "                    \"\\nb) Transforming data types\"+\n",
    "                    \"\\nc) remove NA values\"+\n",
    "                    \"\\nd) Renaming columns\"+\n",
    "                    \"\\ne) Check for duplicates\"+\n",
    "                    \"\\n (y/n): \")).lower()\n",
    "    # if yes move to function above \n",
    "    if inp in yes:\n",
    "        qAgainNested()\n",
    "    # if no finish data-preprocessing\n",
    "    elif inp in no:\n",
    "        print(\"\\nPerfect!\\nWe are left with the following number of observations and variables:\\n\" + \n",
    "              str(data.shape[0]) + \" | \" + str(data.shape[1]))\n",
    "    else:\n",
    "        sys.stdout.write(\"\"\"\\nPlease answer with \"yes\" or \"no\".\"\"\")\n",
    "        qAgain()\n",
    "        "
   ]
  },
  {
   "cell_type": "code",
   "execution_count": 27,
   "metadata": {},
   "outputs": [
    {
     "name": "stdout",
     "output_type": "stream",
     "text": [
      "\n",
      "Do you want to repeat one of these listed functions?\n",
      "a) Removing Columns\n",
      "b) Transforming data types\n",
      "c) remove NA values\n",
      "d) Renaming columns\n",
      "e) Check for duplicates\n",
      " (y/n): n\n",
      "\n",
      "Perfect!\n",
      "We are left with the following number of observations and variables:\n",
      "1000 | 8\n"
     ]
    }
   ],
   "source": [
    "## 2.9 cont. Exectute functions\n",
    "\n",
    "qAgain()"
   ]
  },
  {
   "cell_type": "markdown",
   "metadata": {},
   "source": [
    "## 3. Univariate Analysis"
   ]
  },
  {
   "cell_type": "markdown",
   "metadata": {},
   "source": [
    "After the data processing we now start with descriptive analysis of the data set.  \n",
    "The program starts with categorical data and then switches to numerical data.  \n",
    "The program gives the chance to examine each value individually."
   ]
  },
  {
   "cell_type": "code",
   "execution_count": 32,
   "metadata": {},
   "outputs": [],
   "source": [
    "def askCat():\n",
    "    # call global variable \n",
    "    global d\n",
    "    d.clear()\n",
    "    # ask for the keys as they lead to errors in categorical grid plot\n",
    "    input_string = input(\"\\nEnter all key related categorical type columns: \")\n",
    "    if input_string == \"none\":\n",
    "        return\n",
    "    else:\n",
    "        d  = input_string.split(\" \")\n",
    "    return"
   ]
  },
  {
   "cell_type": "code",
   "execution_count": 29,
   "metadata": {},
   "outputs": [
    {
     "name": "stdout",
     "output_type": "stream",
     "text": [
      "\n",
      "We now continue with our analyis of the data.\n",
      "For the next step please enter all key related character type columns and other character type columns in the next field that you think have *subgroups > 80*!\n",
      "Otherwise the results for plotting may become unsatisfying and even lead to errors.\n"
     ]
    }
   ],
   "source": [
    "##  3.0.1 split numerical and categorical data into two lists\n",
    "\n",
    "print(\"\\nWe now continue with our analyis of the data.\"+\n",
    "     \"\\nFor the next step please enter all key related character type columns and\" +\n",
    "      \" other character type columns in the next field that you think have *subgroups > 80*!\" +\n",
    "     \"\\nOtherwise the results for plotting may become unsatisfying and even lead to errors.\")\n",
    "\n",
    "# define function to separate numerical and categorical data into two lists\n",
    "\n",
    "def qGetNumType():\n",
    "  # select all numerical variables\n",
    "    num_variables = data.select_dtypes(include=[\"int64\",\"float64\"]).columns\n",
    "    return list(num_variables)\n",
    "\n",
    "def qGetCatType():\n",
    "     # select all categorical variables\n",
    "    cat_variables = data.select_dtypes(include=[\"object\"]).columns\n",
    "    # use getCat() as we need to delete these columns from the list\n",
    "    askCat()\n",
    "    # use try & except if an incorrect value has been entered an repeat function\n",
    "    try:\n",
    "        cat_variables = cat_variables.drop(d)\n",
    "    except KeyError:\n",
    "        print(\"You have entered a non categorical column. Please retry!\")\n",
    "        qGetCatType()\n",
    "    return list(cat_variables)"
   ]
  },
  {
   "cell_type": "code",
   "execution_count": 33,
   "metadata": {},
   "outputs": [
    {
     "name": "stdout",
     "output_type": "stream",
     "text": [
      "\n",
      "Enter all key related categorical type columns: none\n",
      "\n",
      "Your data has been split into two categories:\n",
      "Numerical and Categorical\n",
      "Your data set contains 3 numerical and 5 categorical variables.\n"
     ]
    }
   ],
   "source": [
    "# 3.0.1 cont. Execute function\n",
    "\n",
    "num_variables = qGetNumType()\n",
    "cat_variables = qGetCatType()\n",
    "print(\"\\nYour data has been split into two categories:\\nNumerical and Categorical\"+\n",
    "      \"\\nYour data set contains\", str(len(num_variables)), \"numerical and\", str(len(cat_variables)), \"categorical variables.\")"
   ]
  },
  {
   "cell_type": "markdown",
   "metadata": {},
   "source": [
    "## 3.1 Categorical Data analysis\n"
   ]
  },
  {
   "cell_type": "code",
   "execution_count": 36,
   "metadata": {},
   "outputs": [
    {
     "name": "stdout",
     "output_type": "stream",
     "text": [
      "\n",
      "Below you can explore a grid of count plots including all the categorical data of your data set:\n",
      "\n"
     ]
    },
    {
     "data": {
      "image/png": "[encoded data removed]",
      "text/plain": [
       "<Figure size 864x432 with 5 Axes>"
      ]
     },
     "metadata": {},
     "output_type": "display_data"
    }
   ],
   "source": [
    "# 3.1.1 grid plotting categorical data\n",
    "# it takes all categorical variables and plots them into a histogram\n",
    "# it is sometimes messy for some variables with large number of subgroups . \n",
    "if len(cat_variables) > 0:\n",
    "    print(\"\\nBelow you can explore a grid of count plots including all the categorical data of your data set:\\n\")\n",
    "    # create identifier variables and measured variables \n",
    "    cat_melt = pd.melt(data, value_vars=sorted(cat_variables))\n",
    "    # create grid plot with all categorical variables, print max 4 plots per row \n",
    "    cat_grid = sn.FacetGrid(cat_melt, col=\"variable\", col_wrap=4, sharex=False, sharey=False)\n",
    "    # turn xticks to vertical to avoid overlapping\n",
    "    plt.xticks(rotation=\"vertical\")\n",
    "    # mapping data set on grid, define countplot to count occurences in each subgroup\n",
    "    cat_grid = cat_grid.map(sn.countplot, \"value\", color = \"lightcoral\",)\n",
    "    # set properties of xticks, rotate to vertical, apply to all axes\n",
    "    [plt.setp(ax.get_xticklabels(), rotation=90) for ax in cat_grid.axes.flat]\n",
    "    plt.show()"
   ]
  },
  {
   "cell_type": "markdown",
   "metadata": {},
   "source": [
    "### Specific categorical analysis"
   ]
  },
  {
   "cell_type": "markdown",
   "metadata": {},
   "source": [
    "Here the program starts with looking at a categorical values individually. The user chooses which and how many columns he wants to inspect."
   ]
  },
  {
   "cell_type": "code",
   "execution_count": 94,
   "metadata": {},
   "outputs": [],
   "source": [
    "## in contrast to before here only a single value is asked instead of multiple\n",
    "# the mechanism itself stays the same\n",
    "def getSingleInput():\n",
    "    global e\n",
    "    inp = str(input(\"Enter a single variable: \"))\n",
    "    e = inp\n",
    "    # give user option to leave loop by typing \"none\"\n",
    "    if e == \"none\":\n",
    "        return\n",
    "    else:\n",
    "        if e not in cat_variables:\n",
    "            print(e, \"is not given in the list for categorical columns. Please retry!\")\n",
    "            getSingleInput()\n",
    "        else:\n",
    "            return"
   ]
  },
  {
   "cell_type": "code",
   "execution_count": 96,
   "metadata": {},
   "outputs": [],
   "source": [
    "## 3.1.2 value_counts \n",
    "#counts the number of each single group of category and presents result in a small df\n",
    "\n",
    "def qCat():\n",
    "    inp = str(input(\"\\nDo you want to look at a specific categorical column individually? (y/n): \")).lower()\n",
    "    if inp in yes:\n",
    "        countCat()\n",
    "    elif inp in no:\n",
    "        return\n",
    "    else:\n",
    "        sys.stdout.write(\"\"\"\\nPlease answer with \"yes\" or \"no\".\"\"\")\n",
    "        qCat()\n",
    "    \n",
    "def countCat():\n",
    "    getSingleInput()\n",
    "    if e == \"none\":\n",
    "        return\n",
    "    else:\n",
    "        # count subgroups and list a table of these\n",
    "        a = data[e].value_counts()\n",
    "        a = pd.DataFrame(a)\n",
    "        return a"
   ]
  },
  {
   "cell_type": "code",
   "execution_count": 88,
   "metadata": {},
   "outputs": [],
   "source": [
    "## 3.1.3 ask for repetition\n",
    "# give user option for repeating this function indefinetely\n",
    "def AgainCat():\n",
    "    inp = str(input(\"Do you want to do the same analyis for another categorical variable? (y/n): \")).lower()\n",
    "    if inp in yes:\n",
    "        # repeat qCat() function and repeat AgainCat() to create loop\n",
    "        countCat()\n",
    "        AgainCat()\n",
    "    elif inp in no: \n",
    "        print(\"\\nWe now move on to the numerical values.\")\n",
    "    else: \n",
    "        sys.stdout.write(\"\"\"\\nPlease answer with \"yes\" or \"no\".\"\"\")\n",
    "        AgainCat()"
   ]
  },
  {
   "cell_type": "code",
   "execution_count": 95,
   "metadata": {},
   "outputs": [
    {
     "name": "stdout",
     "output_type": "stream",
     "text": [
      "\n",
      "Do you want to look at a specific categorical column individually? (y/n): y\n",
      "Enter a single variable: gender\n"
     ]
    }
   ],
   "source": [
    "## 3.1.3 cont. Execute function\n",
    "if len(cat_variables) >0:\n",
    "    qCat()"
   ]
  },
  {
   "cell_type": "code",
   "execution_count": 97,
   "metadata": {},
   "outputs": [
    {
     "name": "stdout",
     "output_type": "stream",
     "text": [
      "Enter a single variable: gender\n"
     ]
    }
   ],
   "source": [
    "## 3.1.3 cont. Execute function\n",
    "if len(cat_variables) > 0:\n",
    "    countCat()"
   ]
  },
  {
   "cell_type": "code",
   "execution_count": 98,
   "metadata": {},
   "outputs": [
    {
     "name": "stdout",
     "output_type": "stream",
     "text": [
      "Enter a single variable: gender\n"
     ]
    },
    {
     "data": {
      "text/html": [
       "<div>\n",
       "<style scoped>\n",
       "    .dataframe tbody tr th:only-of-type {\n",
       "        vertical-align: middle;\n",
       "    }\n",
       "\n",
       "    .dataframe tbody tr th {\n",
       "        vertical-align: top;\n",
       "    }\n",
       "\n",
       "    .dataframe thead th {\n",
       "        text-align: right;\n",
       "    }\n",
       "</style>\n",
       "<table border=\"1\" class=\"dataframe\">\n",
       "  <thead>\n",
       "    <tr style=\"text-align: right;\">\n",
       "      <th></th>\n",
       "      <th>gender</th>\n",
       "    </tr>\n",
       "  </thead>\n",
       "  <tbody>\n",
       "    <tr>\n",
       "      <th>female</th>\n",
       "      <td>518</td>\n",
       "    </tr>\n",
       "    <tr>\n",
       "      <th>male</th>\n",
       "      <td>482</td>\n",
       "    </tr>\n",
       "  </tbody>\n",
       "</table>\n",
       "</div>"
      ],
      "text/plain": [
       "        gender\n",
       "female     518\n",
       "male       482"
      ]
     },
     "execution_count": 98,
     "metadata": {},
     "output_type": "execute_result"
    }
   ],
   "source": [
    "countCat()"
   ]
  },
  {
   "cell_type": "markdown",
   "metadata": {},
   "source": [
    "## 3.2 Numerical Data analysis"
   ]
  },
  {
   "cell_type": "code",
   "execution_count": 42,
   "metadata": {},
   "outputs": [
    {
     "name": "stdout",
     "output_type": "stream",
     "text": [
      "\n",
      "Below you can explore a grid of distribution plots including all the numerical data of your data set:\n",
      "\n"
     ]
    },
    {
     "data": {
      "image/png": "[encoded data removed]",
      "text/plain": [
       "<Figure size 864x216 with 3 Axes>"
      ]
     },
     "metadata": {},
     "output_type": "display_data"
    }
   ],
   "source": [
    "## 3.2.1 distribution grid plot of all numerical variables\n",
    "# takes all numerical variables and plots them into an distribution plot\n",
    "if len(num_variables) >0:\n",
    "    print(\"\\nBelow you can explore a grid of distribution plots including all the numerical data of your data set:\\n\")\n",
    "    # create identifier values and measured values\n",
    "    num_melt = pd.melt(data, value_vars=sorted(num_variables))\n",
    "    # create grid plot, max 4 plots per row\n",
    "    num_grid = sn.FacetGrid(num_melt, col=\"variable\", col_wrap=4, sharex=False, sharey=False)\n",
    "    # define plots as distribution plots \n",
    "    num_grid = num_grid.map(sn.distplot, \"value\", color = \"lightcoral\")"
   ]
  },
  {
   "cell_type": "markdown",
   "metadata": {},
   "source": [
    "###  Specific Numeric analysis\n",
    "\n"
   ]
  },
  {
   "cell_type": "markdown",
   "metadata": {},
   "source": [
    "Like before for categorical data the program here asks which *numerical* columns the user wants to inspect more specifically.\n",
    "\n"
   ]
  },
  {
   "cell_type": "code",
   "execution_count": 43,
   "metadata": {},
   "outputs": [],
   "source": [
    "## 3.2.2 define function for a descriptive summary\n",
    "\n",
    "def Summary():\n",
    "    for char in c:\n",
    "        # calculate various measures such as mean, median, quantiles, and min and max\n",
    "        mean = data[char].mean()\n",
    "        median = data[char].median()\n",
    "        std = data[char].std()\n",
    "        mini = data[char].min()\n",
    "        q_25 = data[char].quantile(q=0.25)\n",
    "        q_50 = data[char].quantile(q=0.5)\n",
    "        q_75 = data[char].quantile(q=0.75)\n",
    "        maxi = data[char].max()\n",
    "        # print the results\n",
    "        print(\"\\nVariable \" +str(char)+ \" possesses the following properties:\\n\\nmean: \\t\\t\", round(mean, 2),\n",
    "              \"\\nmedian: \\t\", round(median, 2),\n",
    "             \"\\nstd: \\t\\t\", round(std, 2),\n",
    "             \"\\nmin: \\t\\t\", round(mini, 2),\n",
    "             \"\\n25%: \\t\\t\", round(q_25, 2),\n",
    "             \"\\n50%: \\t\\t\", round(q_50, 2),\n",
    "             \"\\n75%: \\t\\t\", round(q_75, 2),\n",
    "             \"\\nmax: \\t\\t\", round(maxi, 2)) \n",
    "    return  \n"
   ]
  },
  {
   "cell_type": "code",
   "execution_count": 44,
   "metadata": {},
   "outputs": [],
   "source": [
    "## 3.2.3 define function for inspecting Skew & Kurtosis\n",
    "def SkewKurtosis():\n",
    "    for char in c:\n",
    "        # calculate skew and kurtosis for each value and print results \n",
    "        skew = data[char].skew()\n",
    "        kurtosis = data[char].kurtosis()\n",
    "        print(\"\\nResults for \" + str(char) + \":\")\n",
    "        print(\"Skew: \", round(skew, 2) , \"| Kurtosis: \", round(kurtosis, 2))\n",
    "        if skew >= -0.5 and skew <= 0.5:\n",
    "            print(\"\\nA skew value of\", round(skew,2), \"indicates a fairly symmetric distribution.\")\n",
    "        elif skew > 0.5 and skew <=1:\n",
    "            print(\"\\nA skew value of\", round(skew,2), \"indicates a moderately right skewed distribution.\")\n",
    "        elif skew >1:\n",
    "            if skew > 10:\n",
    "                print(\"\\nA skew value of\", round(skew,2), \"indicates an extremely right skewed distribution.\")\n",
    "            else:\n",
    "                print(\"\\nA skew value of\", round(skew,2), \"indicates a highly right skewed distribution.\")\n",
    "        elif skew >= -1 and skew <-0.5:\n",
    "            print(\"\\nA skew value of\", round(skew,2), \"indicates a moderately left skewed distribution.\")\n",
    "        elif skew <-1:  \n",
    "            if skew <-10:\n",
    "                print(\"\\nA skew value of\", round(skew,2), \"indicates an extremely left skewed distribution.\")\n",
    "            else:\n",
    "                print(\"\\nA skew value of\", round(skew,2), \"indicates a highly left skewed distribution.\")\n",
    "        if kurtosis <2.9:\n",
    "            if kurtosis<0:\n",
    "                print(\"The kurtosis with a value of\", round(kurtosis,2), \"may indicate a bimodal distribution with two different modes.\")\n",
    "            if kurtosis >= 0:\n",
    "                print(\"The kurtosis with a value of\", round(kurtosis,2), \"is platykurtic.\\nThis indicates a low and broad peak.\\nIn addition, this means that the distribution is shorter and tails are thinner.\\nOutliers are less likely\")\n",
    "        elif kurtosis >3.1: \n",
    "            if kurtosis > 30:\n",
    "                print(\"The kurtosis with a value of\", round(kurtosis,2), \"is extremely leptokurtic.\\nThis indicates a very high and sharp peak.\\nIn addition, this means that the distribution is long and fat tails are observable.\\nOutliers are highly possible.\")\n",
    "            else:\n",
    "                print(\"The kurtosis with a value of\", round(kurtosis,2), \"is leptokurtic.\\nThis indicates a high and sharp peak.\\nIn addition, this means that the distribution is long and fat tails are observable.\\nOutliers are highly possible.\")\n",
    "        elif kurtosis >=2.9 and kurtosis <= 3.1:\n",
    "            print(\"The kurtosis with a value of\", round(kurtosis,2), \"is Mesokurtic.\\nThis indicates a similar distribution to a normal distribution.\")\n",
    "    return       \n",
    "            "
   ]
  },
  {
   "cell_type": "code",
   "execution_count": null,
   "metadata": {},
   "outputs": [],
   "source": [
    "## 3.2.4 count outliers\n",
    "def Outliers():\n",
    "    # check for outliers in each variable\n",
    "    for char in c:\n",
    "        # outliers are defined by being smaller than 0.25 quantile or larger than 0.75 quantile\n",
    "        q_25 = data[char].quantile(q=0.25)\n",
    "        q_75 = data[char].quantile(q=0.75)\n",
    "        # print results to inform user\n",
    "        print(\"\\nThe total number of outliers for \" + str(char) + \" is\", sum((data[char]<q_25) | (data[char]>q_75))+ \".\")\n",
    "    return\n",
    "        \n",
    "        "
   ]
  },
  {
   "cell_type": "code",
   "execution_count": 46,
   "metadata": {},
   "outputs": [],
   "source": [
    "## 3.2.5 plotting boxplot to further \n",
    "\n",
    "def Boxplot():\n",
    "    for char in c:\n",
    "        print(\"\\nBelow you can examine a boxplot based on the variable \" + str(char)+\":\")\n",
    "        # create boxplot, large enough to properly fit in outliers \n",
    "        plt.figure(figsize=(14,4))\n",
    "        # make boxplot horizontal to ease analysis\n",
    "        data[char].plot.box(vert = False)\n",
    "        plt.show()\n",
    "    return"
   ]
  },
  {
   "cell_type": "code",
   "execution_count": 47,
   "metadata": {},
   "outputs": [],
   "source": [
    "## 3.2.6 ask if user wants to repeat numerical analysis for other variables\n",
    "\n",
    "def AgainNum():\n",
    "    # give user option to repeat this sequence\n",
    "    inp = str(input(\"Do you want to do the same analyis for another numeric variables? (y/n): \")).lower()\n",
    "    if inp in yes:\n",
    "        # insert all functions from input to repeating this function again\n",
    "        getInput()\n",
    "        Summary()\n",
    "        SkewKurtosis()\n",
    "        Outliers()\n",
    "        Boxplot()\n",
    "        AgainNum()\n",
    "    elif inp in no: \n",
    "        print(\"\\nWe now move on to our correlation matrix.\")\n",
    "    else: \n",
    "        sys.stdout.write(\"\"\"\\nPlease answer with \"yes\" or \"no\".\"\"\")\n",
    "        AgainNum()"
   ]
  },
  {
   "cell_type": "code",
   "execution_count": 48,
   "metadata": {},
   "outputs": [],
   "source": [
    "## 3.2.7 define function to ask which variables the user wants to inspect individually\n",
    "\n",
    "def qNumValue():\n",
    "    inp = str(input(\"\\nDo you want to examine any numerical columns individually? (y/n): \").lower())\n",
    "    if inp in yes:\n",
    "        # insert all functions from input to repeating the process\n",
    "        getInput()\n",
    "        Summary()\n",
    "        SkewKurtosis()\n",
    "        Outliers()\n",
    "        Boxplot()\n",
    "        AgainNum()\n",
    "    elif inp in no:\n",
    "        return\n",
    "    else:\n",
    "        sys.stdout.write(\"\"\"\\nPlease answer with \"yes\" or \"no\".\"\"\")\n",
    "        qNumValue()"
   ]
  },
  {
   "cell_type": "code",
   "execution_count": 49,
   "metadata": {
    "scrolled": false
   },
   "outputs": [
    {
     "name": "stdout",
     "output_type": "stream",
     "text": [
      "\n",
      "Do you want to examine any numerical columns individually? (y/n): y\n",
      "\n",
      "Enter all columns separated with comma and space (eg. (, )): math score, reading score, write score\n",
      "write score is not given in data set. Please retry!\n",
      "\n",
      "Enter all columns separated with comma and space (eg. (, )): math score, reading score, writing score\n",
      "\n",
      "Variable math score possesses the following properties:\n",
      "\n",
      "mean: \t\t 66.09 \n",
      "median: \t 66.0 \n",
      "std: \t\t 15.16 \n",
      "min: \t\t 0 \n",
      "25%: \t\t 57.0 \n",
      "50%: \t\t 66.0 \n",
      "75%: \t\t 77.0 \n",
      "max: \t\t 100\n",
      "\n",
      "Variable reading score possesses the following properties:\n",
      "\n",
      "mean: \t\t 69.17 \n",
      "median: \t 70.0 \n",
      "std: \t\t 14.6 \n",
      "min: \t\t 17 \n",
      "25%: \t\t 59.0 \n",
      "50%: \t\t 70.0 \n",
      "75%: \t\t 79.0 \n",
      "max: \t\t 100\n",
      "\n",
      "Variable writing score possesses the following properties:\n",
      "\n",
      "mean: \t\t 68.05 \n",
      "median: \t 69.0 \n",
      "std: \t\t 15.2 \n",
      "min: \t\t 10 \n",
      "25%: \t\t 57.75 \n",
      "50%: \t\t 69.0 \n",
      "75%: \t\t 79.0 \n",
      "max: \t\t 100\n",
      "\n",
      "Results for math score:\n",
      "Skew:  -0.28 | Kurtosis:  0.27\n",
      "\n",
      "A skew value of -0.28 indicates a fairly symmetric distribution.\n",
      "The kurtosis with a value of 0.27 is platykurtic.\n",
      "This indicates a low and broad peak.\n",
      "In addition, this means that the distribution is shorter and tails are thinner.\n",
      "Outliers are less likely\n",
      "\n",
      "Results for reading score:\n",
      "Skew:  -0.26 | Kurtosis:  -0.07\n",
      "\n",
      "A skew value of -0.26 indicates a fairly symmetric distribution.\n",
      "The kurtosis with a value of -0.07 may indicate a bimodal distribution with two different modes.\n",
      "\n",
      "Results for writing score:\n",
      "Skew:  -0.29 | Kurtosis:  -0.03\n",
      "\n",
      "A skew value of -0.29 indicates a fairly symmetric distribution.\n",
      "The kurtosis with a value of -0.03 may indicate a bimodal distribution with two different modes.\n",
      "\n",
      "The total number of outliers for math score is 477 .\n",
      "\n",
      "The total number of outliers for reading score is 486 .\n",
      "\n",
      "The total number of outliers for writing score is 485 .\n",
      "\n",
      "Below you can examine a boxplot based on the variable math score:\n"
     ]
    },
    {
     "data": {
      "image/png": "[encoded data removed]",
      "text/plain": [
       "<Figure size 1008x288 with 1 Axes>"
      ]
     },
     "metadata": {},
     "output_type": "display_data"
    },
    {
     "name": "stdout",
     "output_type": "stream",
     "text": [
      "\n",
      "Below you can examine a boxplot based on the variable reading score:\n"
     ]
    },
    {
     "data": {
      "image/png": "[encoded data removed]",
      "text/plain": [
       "<Figure size 1008x288 with 1 Axes>"
      ]
     },
     "metadata": {},
     "output_type": "display_data"
    },
    {
     "name": "stdout",
     "output_type": "stream",
     "text": [
      "\n",
      "Below you can examine a boxplot based on the variable writing score:\n"
     ]
    },
    {
     "data": {
      "image/png": "[encoded data removed]",
      "text/plain": [
       "<Figure size 1008x288 with 1 Axes>"
      ]
     },
     "metadata": {},
     "output_type": "display_data"
    },
    {
     "ename": "KeyboardInterrupt",
     "evalue": "",
     "output_type": "error",
     "traceback": [
      "\u001b[0;31m---------------------------------------------------------------------------\u001b[0m",
      "\u001b[0;31mKeyboardInterrupt\u001b[0m                         Traceback (most recent call last)",
      "\u001b[0;32m~/opt/anaconda3/lib/python3.7/site-packages/ipykernel/kernelbase.py\u001b[0m in \u001b[0;36m_input_request\u001b[0;34m(self, prompt, ident, parent, password)\u001b[0m\n\u001b[1;32m    883\u001b[0m             \u001b[0;32mtry\u001b[0m\u001b[0;34m:\u001b[0m\u001b[0;34m\u001b[0m\u001b[0;34m\u001b[0m\u001b[0m\n\u001b[0;32m--> 884\u001b[0;31m                 \u001b[0mident\u001b[0m\u001b[0;34m,\u001b[0m \u001b[0mreply\u001b[0m \u001b[0;34m=\u001b[0m \u001b[0mself\u001b[0m\u001b[0;34m.\u001b[0m\u001b[0msession\u001b[0m\u001b[0;34m.\u001b[0m\u001b[0mrecv\u001b[0m\u001b[0;34m(\u001b[0m\u001b[0mself\u001b[0m\u001b[0;34m.\u001b[0m\u001b[0mstdin_socket\u001b[0m\u001b[0;34m,\u001b[0m \u001b[0;36m0\u001b[0m\u001b[0;34m)\u001b[0m\u001b[0;34m\u001b[0m\u001b[0;34m\u001b[0m\u001b[0m\n\u001b[0m\u001b[1;32m    885\u001b[0m             \u001b[0;32mexcept\u001b[0m \u001b[0mException\u001b[0m\u001b[0;34m:\u001b[0m\u001b[0;34m\u001b[0m\u001b[0;34m\u001b[0m\u001b[0m\n",
      "\u001b[0;32m~/opt/anaconda3/lib/python3.7/site-packages/jupyter_client/session.py\u001b[0m in \u001b[0;36mrecv\u001b[0;34m(self, socket, mode, content, copy)\u001b[0m\n\u001b[1;32m    802\u001b[0m         \u001b[0;32mtry\u001b[0m\u001b[0;34m:\u001b[0m\u001b[0;34m\u001b[0m\u001b[0;34m\u001b[0m\u001b[0m\n\u001b[0;32m--> 803\u001b[0;31m             \u001b[0mmsg_list\u001b[0m \u001b[0;34m=\u001b[0m \u001b[0msocket\u001b[0m\u001b[0;34m.\u001b[0m\u001b[0mrecv_multipart\u001b[0m\u001b[0;34m(\u001b[0m\u001b[0mmode\u001b[0m\u001b[0;34m,\u001b[0m \u001b[0mcopy\u001b[0m\u001b[0;34m=\u001b[0m\u001b[0mcopy\u001b[0m\u001b[0;34m)\u001b[0m\u001b[0;34m\u001b[0m\u001b[0;34m\u001b[0m\u001b[0m\n\u001b[0m\u001b[1;32m    804\u001b[0m         \u001b[0;32mexcept\u001b[0m \u001b[0mzmq\u001b[0m\u001b[0;34m.\u001b[0m\u001b[0mZMQError\u001b[0m \u001b[0;32mas\u001b[0m \u001b[0me\u001b[0m\u001b[0;34m:\u001b[0m\u001b[0;34m\u001b[0m\u001b[0;34m\u001b[0m\u001b[0m\n",
      "\u001b[0;32m~/opt/anaconda3/lib/python3.7/site-packages/zmq/sugar/socket.py\u001b[0m in \u001b[0;36mrecv_multipart\u001b[0;34m(self, flags, copy, track)\u001b[0m\n\u001b[1;32m    474\u001b[0m         \"\"\"\n\u001b[0;32m--> 475\u001b[0;31m         \u001b[0mparts\u001b[0m \u001b[0;34m=\u001b[0m \u001b[0;34m[\u001b[0m\u001b[0mself\u001b[0m\u001b[0;34m.\u001b[0m\u001b[0mrecv\u001b[0m\u001b[0;34m(\u001b[0m\u001b[0mflags\u001b[0m\u001b[0;34m,\u001b[0m \u001b[0mcopy\u001b[0m\u001b[0;34m=\u001b[0m\u001b[0mcopy\u001b[0m\u001b[0;34m,\u001b[0m \u001b[0mtrack\u001b[0m\u001b[0;34m=\u001b[0m\u001b[0mtrack\u001b[0m\u001b[0;34m)\u001b[0m\u001b[0;34m]\u001b[0m\u001b[0;34m\u001b[0m\u001b[0;34m\u001b[0m\u001b[0m\n\u001b[0m\u001b[1;32m    476\u001b[0m         \u001b[0;31m# have first part already, only loop while more to receive\u001b[0m\u001b[0;34m\u001b[0m\u001b[0;34m\u001b[0m\u001b[0;34m\u001b[0m\u001b[0m\n",
      "\u001b[0;32mzmq/backend/cython/socket.pyx\u001b[0m in \u001b[0;36mzmq.backend.cython.socket.Socket.recv\u001b[0;34m()\u001b[0m\n",
      "\u001b[0;32mzmq/backend/cython/socket.pyx\u001b[0m in \u001b[0;36mzmq.backend.cython.socket.Socket.recv\u001b[0;34m()\u001b[0m\n",
      "\u001b[0;32mzmq/backend/cython/socket.pyx\u001b[0m in \u001b[0;36mzmq.backend.cython.socket._recv_copy\u001b[0;34m()\u001b[0m\n",
      "\u001b[0;32m~/opt/anaconda3/lib/python3.7/site-packages/zmq/backend/cython/checkrc.pxd\u001b[0m in \u001b[0;36mzmq.backend.cython.checkrc._check_rc\u001b[0;34m()\u001b[0m\n",
      "\u001b[0;31mKeyboardInterrupt\u001b[0m: ",
      "\nDuring handling of the above exception, another exception occurred:\n",
      "\u001b[0;31mKeyboardInterrupt\u001b[0m                         Traceback (most recent call last)",
      "\u001b[0;32m<ipython-input-49-3cd77175429d>\u001b[0m in \u001b[0;36m<module>\u001b[0;34m\u001b[0m\n\u001b[1;32m      1\u001b[0m \u001b[0;31m## 3.2.7 cont. Execute function\u001b[0m\u001b[0;34m\u001b[0m\u001b[0;34m\u001b[0m\u001b[0;34m\u001b[0m\u001b[0m\n\u001b[1;32m      2\u001b[0m \u001b[0;32mif\u001b[0m \u001b[0mlen\u001b[0m\u001b[0;34m(\u001b[0m\u001b[0mnum_variables\u001b[0m\u001b[0;34m)\u001b[0m \u001b[0;34m>\u001b[0m \u001b[0;36m0\u001b[0m\u001b[0;34m:\u001b[0m\u001b[0;34m\u001b[0m\u001b[0;34m\u001b[0m\u001b[0m\n\u001b[0;32m----> 3\u001b[0;31m     \u001b[0mqNumValue\u001b[0m\u001b[0;34m(\u001b[0m\u001b[0;34m)\u001b[0m\u001b[0;34m\u001b[0m\u001b[0;34m\u001b[0m\u001b[0m\n\u001b[0m",
      "\u001b[0;32m<ipython-input-48-0c0b005689eb>\u001b[0m in \u001b[0;36mqNumValue\u001b[0;34m()\u001b[0m\n\u001b[1;32m     10\u001b[0m         \u001b[0mOutliers\u001b[0m\u001b[0;34m(\u001b[0m\u001b[0;34m)\u001b[0m\u001b[0;34m\u001b[0m\u001b[0;34m\u001b[0m\u001b[0m\n\u001b[1;32m     11\u001b[0m         \u001b[0mBoxplot\u001b[0m\u001b[0;34m(\u001b[0m\u001b[0;34m)\u001b[0m\u001b[0;34m\u001b[0m\u001b[0;34m\u001b[0m\u001b[0m\n\u001b[0;32m---> 12\u001b[0;31m         \u001b[0mAgainNum\u001b[0m\u001b[0;34m(\u001b[0m\u001b[0;34m)\u001b[0m\u001b[0;34m\u001b[0m\u001b[0;34m\u001b[0m\u001b[0m\n\u001b[0m\u001b[1;32m     13\u001b[0m     \u001b[0;32melif\u001b[0m \u001b[0minp\u001b[0m \u001b[0;32min\u001b[0m \u001b[0mno\u001b[0m\u001b[0;34m:\u001b[0m\u001b[0;34m\u001b[0m\u001b[0;34m\u001b[0m\u001b[0m\n\u001b[1;32m     14\u001b[0m         \u001b[0;32mreturn\u001b[0m\u001b[0;34m\u001b[0m\u001b[0;34m\u001b[0m\u001b[0m\n",
      "\u001b[0;32m<ipython-input-47-fede77d96f3d>\u001b[0m in \u001b[0;36mAgainNum\u001b[0;34m()\u001b[0m\n\u001b[1;32m      3\u001b[0m \u001b[0;32mdef\u001b[0m \u001b[0mAgainNum\u001b[0m\u001b[0;34m(\u001b[0m\u001b[0;34m)\u001b[0m\u001b[0;34m:\u001b[0m\u001b[0;34m\u001b[0m\u001b[0;34m\u001b[0m\u001b[0m\n\u001b[1;32m      4\u001b[0m     \u001b[0;31m# give user option to repeat this sequence\u001b[0m\u001b[0;34m\u001b[0m\u001b[0;34m\u001b[0m\u001b[0;34m\u001b[0m\u001b[0m\n\u001b[0;32m----> 5\u001b[0;31m     \u001b[0minp\u001b[0m \u001b[0;34m=\u001b[0m \u001b[0mstr\u001b[0m\u001b[0;34m(\u001b[0m\u001b[0minput\u001b[0m\u001b[0;34m(\u001b[0m\u001b[0;34m\"Do you want to do the same analyis for another numeric variables? (y/n): \"\u001b[0m\u001b[0;34m)\u001b[0m\u001b[0;34m)\u001b[0m\u001b[0;34m.\u001b[0m\u001b[0mlower\u001b[0m\u001b[0;34m(\u001b[0m\u001b[0;34m)\u001b[0m\u001b[0;34m\u001b[0m\u001b[0;34m\u001b[0m\u001b[0m\n\u001b[0m\u001b[1;32m      6\u001b[0m     \u001b[0;32mif\u001b[0m \u001b[0minp\u001b[0m \u001b[0;32min\u001b[0m \u001b[0myes\u001b[0m\u001b[0;34m:\u001b[0m\u001b[0;34m\u001b[0m\u001b[0;34m\u001b[0m\u001b[0m\n\u001b[1;32m      7\u001b[0m         \u001b[0;31m# insert all functions from input to repeating this function again\u001b[0m\u001b[0;34m\u001b[0m\u001b[0;34m\u001b[0m\u001b[0;34m\u001b[0m\u001b[0m\n",
      "\u001b[0;32m~/opt/anaconda3/lib/python3.7/site-packages/ipykernel/kernelbase.py\u001b[0m in \u001b[0;36mraw_input\u001b[0;34m(self, prompt)\u001b[0m\n\u001b[1;32m    857\u001b[0m             \u001b[0mself\u001b[0m\u001b[0;34m.\u001b[0m\u001b[0m_parent_ident\u001b[0m\u001b[0;34m,\u001b[0m\u001b[0;34m\u001b[0m\u001b[0;34m\u001b[0m\u001b[0m\n\u001b[1;32m    858\u001b[0m             \u001b[0mself\u001b[0m\u001b[0;34m.\u001b[0m\u001b[0m_parent_header\u001b[0m\u001b[0;34m,\u001b[0m\u001b[0;34m\u001b[0m\u001b[0;34m\u001b[0m\u001b[0m\n\u001b[0;32m--> 859\u001b[0;31m             \u001b[0mpassword\u001b[0m\u001b[0;34m=\u001b[0m\u001b[0;32mFalse\u001b[0m\u001b[0;34m,\u001b[0m\u001b[0;34m\u001b[0m\u001b[0;34m\u001b[0m\u001b[0m\n\u001b[0m\u001b[1;32m    860\u001b[0m         )\n\u001b[1;32m    861\u001b[0m \u001b[0;34m\u001b[0m\u001b[0m\n",
      "\u001b[0;32m~/opt/anaconda3/lib/python3.7/site-packages/ipykernel/kernelbase.py\u001b[0m in \u001b[0;36m_input_request\u001b[0;34m(self, prompt, ident, parent, password)\u001b[0m\n\u001b[1;32m    887\u001b[0m             \u001b[0;32mexcept\u001b[0m \u001b[0mKeyboardInterrupt\u001b[0m\u001b[0;34m:\u001b[0m\u001b[0;34m\u001b[0m\u001b[0;34m\u001b[0m\u001b[0m\n\u001b[1;32m    888\u001b[0m                 \u001b[0;31m# re-raise KeyboardInterrupt, to truncate traceback\u001b[0m\u001b[0;34m\u001b[0m\u001b[0;34m\u001b[0m\u001b[0;34m\u001b[0m\u001b[0m\n\u001b[0;32m--> 889\u001b[0;31m                 \u001b[0;32mraise\u001b[0m \u001b[0mKeyboardInterrupt\u001b[0m\u001b[0;34m\u001b[0m\u001b[0;34m\u001b[0m\u001b[0m\n\u001b[0m\u001b[1;32m    890\u001b[0m             \u001b[0;32melse\u001b[0m\u001b[0;34m:\u001b[0m\u001b[0;34m\u001b[0m\u001b[0;34m\u001b[0m\u001b[0m\n\u001b[1;32m    891\u001b[0m                 \u001b[0;32mbreak\u001b[0m\u001b[0;34m\u001b[0m\u001b[0;34m\u001b[0m\u001b[0m\n",
      "\u001b[0;31mKeyboardInterrupt\u001b[0m: "
     ]
    },
    {
     "name": "stdout",
     "output_type": "stream",
     "text": [
      "Do you want to do the same analyis for another numeric variables? (y/n): n\n"
     ]
    }
   ],
   "source": [
    "## 3.2.7 cont. Execute function\n",
    "if len(num_variables) > 0:\n",
    "    qNumValue()"
   ]
  },
  {
   "cell_type": "code",
   "execution_count": 50,
   "metadata": {
    "scrolled": false
   },
   "outputs": [
    {
     "name": "stdout",
     "output_type": "stream",
     "text": [
      "\n",
      "Lastly, you can see a correlation matrix based on the numeric variables.\n",
      "Please inspect it for potential and interesting correlations in your data set!\n"
     ]
    },
    {
     "data": {
      "image/png": "[encoded data removed]",
      "text/plain": [
       "<Figure size 1008x864 with 2 Axes>"
      ]
     },
     "metadata": {},
     "output_type": "display_data"
    }
   ],
   "source": [
    "## 3.2.8 correlation Matrix of the numerical variables\n",
    "\n",
    "print(\"\\nLastly, you can see a correlation matrix based on the numeric variables.\" +\n",
    "      \"\\nPlease inspect it for potential and interesting correlations in your data set!\")\n",
    "# plot correlation matrix \n",
    "sn.set(style=\"white\")\n",
    "# calculate correlation\n",
    "corr = data.corr()\n",
    "# set figure\n",
    "fig = plt.figure(figsize=(14,12))\n",
    "# 111 --> only one plot \n",
    "ax = fig.add_subplot(111)\n",
    "# create diverging palette of colors\n",
    "cmap = sn.diverging_palette(220, 10, as_cmap=True)\n",
    "# only show half plot\n",
    "mask = np.triu(np.ones_like(corr, dtype=np.bool))\n",
    "# create heatmap\n",
    "sn.heatmap(corr, \n",
    "           xticklabels=corr.columns.values,\n",
    "           yticklabels=corr.index.values,\n",
    "           mask=mask,\n",
    "           cmap=\"RdPu\")\n",
    "ax.xaxis.tick_bottom()\n",
    "# set labels, rotation 60 degrees\n",
    "plt.setp(ax.get_xticklabels(), rotation=60)\n",
    "plt.show()"
   ]
  },
  {
   "cell_type": "code",
   "execution_count": null,
   "metadata": {},
   "outputs": [],
   "source": [
    "print(\"You have finished the data analyis!\")"
   ]
  }
 ],
 "metadata": {
  "kernelspec": {
   "display_name": "Python 3",
   "language": "python",
   "name": "python3"
  },
  "language_info": {
   "codemirror_mode": {
    "name": "ipython",
    "version": 3
   },
   "file_extension": ".py",
   "mimetype": "text/x-python",
   "name": "python",
   "nbconvert_exporter": "python",
   "pygments_lexer": "ipython3",
   "version": "3.7.6"
  }
 },
 "nbformat": 4,
 "nbformat_minor": 4
}
