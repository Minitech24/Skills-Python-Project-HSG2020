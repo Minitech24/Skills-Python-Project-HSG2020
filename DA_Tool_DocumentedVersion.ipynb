{
 "cells": [
  {
   "cell_type": "markdown",
   "metadata": {},
   "source": [
    "# Data Analytics Tool "
   ]
  },
  {
   "cell_type": "markdown",
   "metadata": {},
   "source": [
    "## Introduction\n",
    "\n",
    "This program is intended to complete a full data analyis.\n",
    "It is able to pre-process the data set and give descriptive analysis results, all based on the users preferences.\n",
    "\n",
    "The focus lies on being interactive and automated. In other words, the program contains specifically designed function for which it asks the user desires to perform these on her data set.\n",
    "\n",
    "Any kind of csv file should be applicable. The user needs make sure the csv file is located in the correct directory."
   ]
  },
  {
   "cell_type": "markdown",
   "metadata": {},
   "source": [
    "## 1. Import of libraries and the data set "
   ]
  },
  {
   "cell_type": "code",
   "execution_count": 1,
   "metadata": {},
   "outputs": [],
   "source": [
    "## 1.1 Imports\n",
    "import sys\n",
    "import math\n",
    "import numpy as np\n",
    "import pandas as pd\n",
    "import scipy.stats\n",
    "import matplotlib.pyplot as plt\n",
    "plt.style.use('ggplot')\n",
    "import seaborn as sn"
   ]
  },
  {
   "cell_type": "code",
   "execution_count": 2,
   "metadata": {},
   "outputs": [
    {
     "name": "stdout",
     "output_type": "stream",
     "text": [
      "Hello User!\n",
      "Let's begin analysing your data!\n"
     ]
    }
   ],
   "source": [
    "print(\"Hello User!\\nLet's begin analysing your data!\")"
   ]
  },
  {
   "cell_type": "code",
   "execution_count": 3,
   "metadata": {},
   "outputs": [],
   "source": [
    "## 1.2 preparing answers for y/n questions and cancel possibilty \n",
    "yes = {\"yes\", \"y\"}\n",
    "no = {\"no\", \"n\"}\n",
    "cancel = {\"cancel\", \"c\"}"
   ]
  },
  {
   "cell_type": "code",
   "execution_count": 16,
   "metadata": {},
   "outputs": [],
   "source": [
    "## 1.3 define function for reading data \n",
    "\n",
    "def start():\n",
    "    #write file into global variable to use it outside of function\n",
    "    global data\n",
    "    inp = input(\"\\nIs your csv file located in the correct working directory?(y/n): \")\n",
    "    # we check if the inp is in the answer vectors yes or no and if not repeat the function\n",
    "    if inp in yes:\n",
    "        try:\n",
    "            # allow the user to input the csv file name in the directory that is to be used\n",
    "            original_name = input(\"\\nWhat is the name of the csv in the directory (exclude .csv)?:  \")\n",
    "            new_name = original_name+'.csv'\n",
    "            data = pd.read_csv(new_name)\n",
    "            print(\"\\nIn the following tables you get an overview of your data including the head and tail: \")\n",
    "            return data\n",
    "        except FileNotFoundError:\n",
    "            print(\"\\nThere is no such file in your directory. Please retry!\")\n",
    "            start()\n",
    "    # if answer no --> give second option to load it via working directory or url \n",
    "    elif inp in no:\n",
    "        web = input(\"\\nIs your csv file located online?(y/n): \")\n",
    "        if web in yes:\n",
    "            try:\n",
    "                url = input(\"Please input your csv url:\")\n",
    "                data = pd.read_csv(url)\n",
    "                print(\"\\nIn the following tables you get an overview of your data including the head and tail: \")\n",
    "            except FileNotFoundError:\n",
    "                print(\"\\nThere is no such file in your directory. Please retry!\")\n",
    "                start() \n",
    "        elif web in no: \n",
    "                print(\"\\nPlease put your csv file in the correct working directory!\")\n",
    "                start()\n",
    "        else: \n",
    "            sys.stdout.write(\"\"\"\\nPlease answer with \"yes\" or \"no\".\"\"\")\n",
    "            start()\n",
    "    # if answer not in yes or no or cancel --> repeat function            \n",
    "    else: \n",
    "        sys.stdout.write(\"\"\"\\nPlease answer with \"yes\" or \"no\".\"\"\")\n",
    "        start()"
   ]
  },
  {
   "cell_type": "code",
   "execution_count": 17,
   "metadata": {},
   "outputs": [
    {
     "name": "stdout",
     "output_type": "stream",
     "text": [
      "\n",
      "Is your csv file located in the correct working directory?(y/n): n\n",
      "\n",
      "Is your csv file located online?(y/n): y\n",
      "Please input your csv url:http://summit.sfu.ca/system/files/iritems1/13328/StarCraft2ReplayAnalysis-1.csv\n",
      "\n",
      "In the following tables you get an overview of your data including the head and tail: \n"
     ]
    }
   ],
   "source": [
    "# 1.3 cont. Execute function\n",
    "\n",
    "start()\n"
   ]
  },
  {
   "cell_type": "code",
   "execution_count": 18,
   "metadata": {},
   "outputs": [
    {
     "data": {
      "text/html": [
       "<div>\n",
       "<style scoped>\n",
       "    .dataframe tbody tr th:only-of-type {\n",
       "        vertical-align: middle;\n",
       "    }\n",
       "\n",
       "    .dataframe tbody tr th {\n",
       "        vertical-align: top;\n",
       "    }\n",
       "\n",
       "    .dataframe thead th {\n",
       "        text-align: right;\n",
       "    }\n",
       "</style>\n",
       "<table border=\"1\" class=\"dataframe\">\n",
       "  <thead>\n",
       "    <tr style=\"text-align: right;\">\n",
       "      <th></th>\n",
       "      <th>GameID</th>\n",
       "      <th>LeagueIndex</th>\n",
       "      <th>Age</th>\n",
       "      <th>HoursPerWeek</th>\n",
       "      <th>TotalHours</th>\n",
       "      <th>APM</th>\n",
       "      <th>SelectByHotkeys</th>\n",
       "      <th>AssignToHotkeys</th>\n",
       "      <th>UniqueHotkeys</th>\n",
       "      <th>MinimapAttacks</th>\n",
       "      <th>...</th>\n",
       "      <th>NumberOfPACs</th>\n",
       "      <th>GapBetweenPACs</th>\n",
       "      <th>ActionLatency</th>\n",
       "      <th>ActionsInPAC</th>\n",
       "      <th>TotalMapExplored</th>\n",
       "      <th>WorkersMade</th>\n",
       "      <th>UniqueUnitsMade</th>\n",
       "      <th>ComplexUnitsMade</th>\n",
       "      <th>ComplexAbilityUsed</th>\n",
       "      <th>MaxTimeStamp</th>\n",
       "    </tr>\n",
       "  </thead>\n",
       "  <tbody>\n",
       "    <tr>\n",
       "      <th>0</th>\n",
       "      <td>52</td>\n",
       "      <td>5</td>\n",
       "      <td>27.0</td>\n",
       "      <td>10.0</td>\n",
       "      <td>3000.0</td>\n",
       "      <td>143.7180</td>\n",
       "      <td>0.003515</td>\n",
       "      <td>0.000220</td>\n",
       "      <td>0.000055</td>\n",
       "      <td>0.000110</td>\n",
       "      <td>...</td>\n",
       "      <td>0.004849</td>\n",
       "      <td>32.6677</td>\n",
       "      <td>40.8673</td>\n",
       "      <td>4.7508</td>\n",
       "      <td>0.000220</td>\n",
       "      <td>0.001397</td>\n",
       "      <td>0.000047</td>\n",
       "      <td>0.0</td>\n",
       "      <td>0.000000</td>\n",
       "      <td>127448</td>\n",
       "    </tr>\n",
       "    <tr>\n",
       "      <th>1</th>\n",
       "      <td>55</td>\n",
       "      <td>5</td>\n",
       "      <td>23.0</td>\n",
       "      <td>10.0</td>\n",
       "      <td>5000.0</td>\n",
       "      <td>129.2322</td>\n",
       "      <td>0.003304</td>\n",
       "      <td>0.000259</td>\n",
       "      <td>0.000069</td>\n",
       "      <td>0.000294</td>\n",
       "      <td>...</td>\n",
       "      <td>0.004307</td>\n",
       "      <td>32.9194</td>\n",
       "      <td>42.3454</td>\n",
       "      <td>4.8434</td>\n",
       "      <td>0.000381</td>\n",
       "      <td>0.001194</td>\n",
       "      <td>0.000087</td>\n",
       "      <td>0.0</td>\n",
       "      <td>0.000208</td>\n",
       "      <td>57812</td>\n",
       "    </tr>\n",
       "    <tr>\n",
       "      <th>2</th>\n",
       "      <td>56</td>\n",
       "      <td>4</td>\n",
       "      <td>30.0</td>\n",
       "      <td>10.0</td>\n",
       "      <td>200.0</td>\n",
       "      <td>69.9612</td>\n",
       "      <td>0.001101</td>\n",
       "      <td>0.000336</td>\n",
       "      <td>0.000042</td>\n",
       "      <td>0.000294</td>\n",
       "      <td>...</td>\n",
       "      <td>0.002926</td>\n",
       "      <td>44.6475</td>\n",
       "      <td>75.3548</td>\n",
       "      <td>4.0430</td>\n",
       "      <td>0.000231</td>\n",
       "      <td>0.000745</td>\n",
       "      <td>0.000063</td>\n",
       "      <td>0.0</td>\n",
       "      <td>0.000189</td>\n",
       "      <td>95360</td>\n",
       "    </tr>\n",
       "    <tr>\n",
       "      <th>3</th>\n",
       "      <td>57</td>\n",
       "      <td>3</td>\n",
       "      <td>19.0</td>\n",
       "      <td>20.0</td>\n",
       "      <td>400.0</td>\n",
       "      <td>107.6016</td>\n",
       "      <td>0.001034</td>\n",
       "      <td>0.000213</td>\n",
       "      <td>0.000011</td>\n",
       "      <td>0.000053</td>\n",
       "      <td>...</td>\n",
       "      <td>0.003783</td>\n",
       "      <td>29.2203</td>\n",
       "      <td>53.7352</td>\n",
       "      <td>4.9155</td>\n",
       "      <td>0.000202</td>\n",
       "      <td>0.000426</td>\n",
       "      <td>0.000075</td>\n",
       "      <td>0.0</td>\n",
       "      <td>0.000384</td>\n",
       "      <td>93852</td>\n",
       "    </tr>\n",
       "    <tr>\n",
       "      <th>4</th>\n",
       "      <td>58</td>\n",
       "      <td>3</td>\n",
       "      <td>32.0</td>\n",
       "      <td>10.0</td>\n",
       "      <td>500.0</td>\n",
       "      <td>122.8908</td>\n",
       "      <td>0.001136</td>\n",
       "      <td>0.000327</td>\n",
       "      <td>0.000039</td>\n",
       "      <td>0.000000</td>\n",
       "      <td>...</td>\n",
       "      <td>0.002368</td>\n",
       "      <td>22.6885</td>\n",
       "      <td>62.0813</td>\n",
       "      <td>9.3740</td>\n",
       "      <td>0.000289</td>\n",
       "      <td>0.001174</td>\n",
       "      <td>0.000077</td>\n",
       "      <td>0.0</td>\n",
       "      <td>0.000019</td>\n",
       "      <td>51936</td>\n",
       "    </tr>\n",
       "  </tbody>\n",
       "</table>\n",
       "<p>5 rows × 21 columns</p>\n",
       "</div>"
      ],
      "text/plain": [
       "   GameID  LeagueIndex   Age  HoursPerWeek  TotalHours       APM  \\\n",
       "0      52            5  27.0          10.0      3000.0  143.7180   \n",
       "1      55            5  23.0          10.0      5000.0  129.2322   \n",
       "2      56            4  30.0          10.0       200.0   69.9612   \n",
       "3      57            3  19.0          20.0       400.0  107.6016   \n",
       "4      58            3  32.0          10.0       500.0  122.8908   \n",
       "\n",
       "   SelectByHotkeys  AssignToHotkeys  UniqueHotkeys  MinimapAttacks  ...  \\\n",
       "0         0.003515         0.000220       0.000055        0.000110  ...   \n",
       "1         0.003304         0.000259       0.000069        0.000294  ...   \n",
       "2         0.001101         0.000336       0.000042        0.000294  ...   \n",
       "3         0.001034         0.000213       0.000011        0.000053  ...   \n",
       "4         0.001136         0.000327       0.000039        0.000000  ...   \n",
       "\n",
       "   NumberOfPACs  GapBetweenPACs  ActionLatency  ActionsInPAC  \\\n",
       "0      0.004849         32.6677        40.8673        4.7508   \n",
       "1      0.004307         32.9194        42.3454        4.8434   \n",
       "2      0.002926         44.6475        75.3548        4.0430   \n",
       "3      0.003783         29.2203        53.7352        4.9155   \n",
       "4      0.002368         22.6885        62.0813        9.3740   \n",
       "\n",
       "   TotalMapExplored  WorkersMade  UniqueUnitsMade  ComplexUnitsMade  \\\n",
       "0          0.000220     0.001397         0.000047               0.0   \n",
       "1          0.000381     0.001194         0.000087               0.0   \n",
       "2          0.000231     0.000745         0.000063               0.0   \n",
       "3          0.000202     0.000426         0.000075               0.0   \n",
       "4          0.000289     0.001174         0.000077               0.0   \n",
       "\n",
       "   ComplexAbilityUsed  MaxTimeStamp  \n",
       "0            0.000000        127448  \n",
       "1            0.000208         57812  \n",
       "2            0.000189         95360  \n",
       "3            0.000384         93852  \n",
       "4            0.000019         51936  \n",
       "\n",
       "[5 rows x 21 columns]"
      ]
     },
     "execution_count": 18,
     "metadata": {},
     "output_type": "execute_result"
    }
   ],
   "source": [
    "data.head()"
   ]
  },
  {
   "cell_type": "code",
   "execution_count": 19,
   "metadata": {},
   "outputs": [
    {
     "data": {
      "text/html": [
       "<div>\n",
       "<style scoped>\n",
       "    .dataframe tbody tr th:only-of-type {\n",
       "        vertical-align: middle;\n",
       "    }\n",
       "\n",
       "    .dataframe tbody tr th {\n",
       "        vertical-align: top;\n",
       "    }\n",
       "\n",
       "    .dataframe thead th {\n",
       "        text-align: right;\n",
       "    }\n",
       "</style>\n",
       "<table border=\"1\" class=\"dataframe\">\n",
       "  <thead>\n",
       "    <tr style=\"text-align: right;\">\n",
       "      <th></th>\n",
       "      <th>GameID</th>\n",
       "      <th>LeagueIndex</th>\n",
       "      <th>Age</th>\n",
       "      <th>HoursPerWeek</th>\n",
       "      <th>TotalHours</th>\n",
       "      <th>APM</th>\n",
       "      <th>SelectByHotkeys</th>\n",
       "      <th>AssignToHotkeys</th>\n",
       "      <th>UniqueHotkeys</th>\n",
       "      <th>MinimapAttacks</th>\n",
       "      <th>...</th>\n",
       "      <th>NumberOfPACs</th>\n",
       "      <th>GapBetweenPACs</th>\n",
       "      <th>ActionLatency</th>\n",
       "      <th>ActionsInPAC</th>\n",
       "      <th>TotalMapExplored</th>\n",
       "      <th>WorkersMade</th>\n",
       "      <th>UniqueUnitsMade</th>\n",
       "      <th>ComplexUnitsMade</th>\n",
       "      <th>ComplexAbilityUsed</th>\n",
       "      <th>MaxTimeStamp</th>\n",
       "    </tr>\n",
       "  </thead>\n",
       "  <tbody>\n",
       "    <tr>\n",
       "      <th>3390</th>\n",
       "      <td>10089</td>\n",
       "      <td>8</td>\n",
       "      <td>NaN</td>\n",
       "      <td>NaN</td>\n",
       "      <td>NaN</td>\n",
       "      <td>259.6296</td>\n",
       "      <td>0.020425</td>\n",
       "      <td>0.000743</td>\n",
       "      <td>0.000110</td>\n",
       "      <td>0.000621</td>\n",
       "      <td>...</td>\n",
       "      <td>0.004555</td>\n",
       "      <td>18.6059</td>\n",
       "      <td>42.8342</td>\n",
       "      <td>6.2754</td>\n",
       "      <td>0.000560</td>\n",
       "      <td>0.000877</td>\n",
       "      <td>0.000061</td>\n",
       "      <td>0.000000</td>\n",
       "      <td>0.000000</td>\n",
       "      <td>82104</td>\n",
       "    </tr>\n",
       "    <tr>\n",
       "      <th>3391</th>\n",
       "      <td>10090</td>\n",
       "      <td>8</td>\n",
       "      <td>NaN</td>\n",
       "      <td>NaN</td>\n",
       "      <td>NaN</td>\n",
       "      <td>314.6700</td>\n",
       "      <td>0.028043</td>\n",
       "      <td>0.001157</td>\n",
       "      <td>0.000246</td>\n",
       "      <td>0.000246</td>\n",
       "      <td>...</td>\n",
       "      <td>0.004259</td>\n",
       "      <td>14.3023</td>\n",
       "      <td>36.1156</td>\n",
       "      <td>7.1965</td>\n",
       "      <td>0.000394</td>\n",
       "      <td>0.000788</td>\n",
       "      <td>0.000098</td>\n",
       "      <td>0.000000</td>\n",
       "      <td>0.000000</td>\n",
       "      <td>40616</td>\n",
       "    </tr>\n",
       "    <tr>\n",
       "      <th>3392</th>\n",
       "      <td>10092</td>\n",
       "      <td>8</td>\n",
       "      <td>NaN</td>\n",
       "      <td>NaN</td>\n",
       "      <td>NaN</td>\n",
       "      <td>299.4282</td>\n",
       "      <td>0.028341</td>\n",
       "      <td>0.000860</td>\n",
       "      <td>0.000108</td>\n",
       "      <td>0.000338</td>\n",
       "      <td>...</td>\n",
       "      <td>0.004439</td>\n",
       "      <td>12.4028</td>\n",
       "      <td>39.5156</td>\n",
       "      <td>6.3979</td>\n",
       "      <td>0.000292</td>\n",
       "      <td>0.001260</td>\n",
       "      <td>0.000061</td>\n",
       "      <td>0.000000</td>\n",
       "      <td>0.000000</td>\n",
       "      <td>65100</td>\n",
       "    </tr>\n",
       "    <tr>\n",
       "      <th>3393</th>\n",
       "      <td>10094</td>\n",
       "      <td>8</td>\n",
       "      <td>NaN</td>\n",
       "      <td>NaN</td>\n",
       "      <td>NaN</td>\n",
       "      <td>375.8664</td>\n",
       "      <td>0.036436</td>\n",
       "      <td>0.000594</td>\n",
       "      <td>0.000093</td>\n",
       "      <td>0.000204</td>\n",
       "      <td>...</td>\n",
       "      <td>0.004346</td>\n",
       "      <td>11.6910</td>\n",
       "      <td>34.8547</td>\n",
       "      <td>7.9615</td>\n",
       "      <td>0.000279</td>\n",
       "      <td>0.000613</td>\n",
       "      <td>0.000111</td>\n",
       "      <td>0.000000</td>\n",
       "      <td>0.000631</td>\n",
       "      <td>53848</td>\n",
       "    </tr>\n",
       "    <tr>\n",
       "      <th>3394</th>\n",
       "      <td>10095</td>\n",
       "      <td>8</td>\n",
       "      <td>NaN</td>\n",
       "      <td>NaN</td>\n",
       "      <td>NaN</td>\n",
       "      <td>348.3576</td>\n",
       "      <td>0.029855</td>\n",
       "      <td>0.000811</td>\n",
       "      <td>0.000037</td>\n",
       "      <td>0.000224</td>\n",
       "      <td>...</td>\n",
       "      <td>0.005566</td>\n",
       "      <td>20.0537</td>\n",
       "      <td>33.5142</td>\n",
       "      <td>6.3719</td>\n",
       "      <td>0.000252</td>\n",
       "      <td>0.001566</td>\n",
       "      <td>0.000065</td>\n",
       "      <td>0.000457</td>\n",
       "      <td>0.000895</td>\n",
       "      <td>107252</td>\n",
       "    </tr>\n",
       "  </tbody>\n",
       "</table>\n",
       "<p>5 rows × 21 columns</p>\n",
       "</div>"
      ],
      "text/plain": [
       "      GameID  LeagueIndex  Age  HoursPerWeek  TotalHours       APM  \\\n",
       "3390   10089            8  NaN           NaN         NaN  259.6296   \n",
       "3391   10090            8  NaN           NaN         NaN  314.6700   \n",
       "3392   10092            8  NaN           NaN         NaN  299.4282   \n",
       "3393   10094            8  NaN           NaN         NaN  375.8664   \n",
       "3394   10095            8  NaN           NaN         NaN  348.3576   \n",
       "\n",
       "      SelectByHotkeys  AssignToHotkeys  UniqueHotkeys  MinimapAttacks  ...  \\\n",
       "3390         0.020425         0.000743       0.000110        0.000621  ...   \n",
       "3391         0.028043         0.001157       0.000246        0.000246  ...   \n",
       "3392         0.028341         0.000860       0.000108        0.000338  ...   \n",
       "3393         0.036436         0.000594       0.000093        0.000204  ...   \n",
       "3394         0.029855         0.000811       0.000037        0.000224  ...   \n",
       "\n",
       "      NumberOfPACs  GapBetweenPACs  ActionLatency  ActionsInPAC  \\\n",
       "3390      0.004555         18.6059        42.8342        6.2754   \n",
       "3391      0.004259         14.3023        36.1156        7.1965   \n",
       "3392      0.004439         12.4028        39.5156        6.3979   \n",
       "3393      0.004346         11.6910        34.8547        7.9615   \n",
       "3394      0.005566         20.0537        33.5142        6.3719   \n",
       "\n",
       "      TotalMapExplored  WorkersMade  UniqueUnitsMade  ComplexUnitsMade  \\\n",
       "3390          0.000560     0.000877         0.000061          0.000000   \n",
       "3391          0.000394     0.000788         0.000098          0.000000   \n",
       "3392          0.000292     0.001260         0.000061          0.000000   \n",
       "3393          0.000279     0.000613         0.000111          0.000000   \n",
       "3394          0.000252     0.001566         0.000065          0.000457   \n",
       "\n",
       "      ComplexAbilityUsed  MaxTimeStamp  \n",
       "3390            0.000000         82104  \n",
       "3391            0.000000         40616  \n",
       "3392            0.000000         65100  \n",
       "3393            0.000631         53848  \n",
       "3394            0.000895        107252  \n",
       "\n",
       "[5 rows x 21 columns]"
      ]
     },
     "execution_count": 19,
     "metadata": {},
     "output_type": "execute_result"
    }
   ],
   "source": [
    "data.tail()"
   ]
  },
  {
   "cell_type": "code",
   "execution_count": 20,
   "metadata": {},
   "outputs": [],
   "source": [
    "## 1.4 more preparation\n",
    "# get all columns name so we can check if necessary entries of column names by user are correct\n",
    "columns = list(data.columns) \n",
    "c = []\n",
    "d = []"
   ]
  },
  {
   "cell_type": "code",
   "execution_count": 21,
   "metadata": {},
   "outputs": [
    {
     "name": "stdout",
     "output_type": "stream",
     "text": [
      "\n",
      "Your data set includes the following number of rows and columns: \n"
     ]
    },
    {
     "data": {
      "text/plain": [
       "(3395, 21)"
      ]
     },
     "execution_count": 21,
     "metadata": {},
     "output_type": "execute_result"
    }
   ],
   "source": [
    "## 1.5 showing max rows and columns of data set\n",
    "print(\"\\nYour data set includes the following number of rows and columns: \")\n",
    "data.shape"
   ]
  },
  {
   "cell_type": "markdown",
   "metadata": {},
   "source": [
    "## 2. Cleaning Data Set"
   ]
  },
  {
   "cell_type": "markdown",
   "metadata": {},
   "source": [
    "The program continues with the data pre-processing, an important part for data analytics.  \n",
    "It is able to various common commands of data analytics and will ask the user for the necessary inputs. "
   ]
  },
  {
   "cell_type": "code",
   "execution_count": 22,
   "metadata": {},
   "outputs": [],
   "source": [
    "## 2.1 defining an input function such that we can run this everytime the program needs to ask the user for columns \n",
    "## the user may like to edit\n",
    "\n",
    "def getInput():\n",
    "    # assign value to global variable c to use outside function\n",
    "    global c\n",
    "    c.clear()\n",
    "    input_string = input(\"\\nEnter all columns separated with space: \")\n",
    "    # use space as split\n",
    "    c  = input_string.split(\" \")\n",
    "    # check if values in vector are in columns list\n",
    "    for char in c: \n",
    "        if char not in columns:\n",
    "            print(char, \"is not given in data set. Please retry!\")\n",
    "            getInput()\n",
    "    return "
   ]
  },
  {
   "cell_type": "code",
   "execution_count": 23,
   "metadata": {},
   "outputs": [],
   "source": [
    "## 2.2 removing columns\n",
    "# define function that asks for columns and deletes them \n",
    "\n",
    "def qRemove():\n",
    "    inp = str(input(\"\\nWould you like to remove columns from your data set? (y/n): \").lower())\n",
    "    if inp in yes:\n",
    "        getInput()\n",
    "        # getInput() gives us a vector c which we can directly use for the df.drop function\n",
    "        global data\n",
    "        # insert c in df.drop \n",
    "        data = data.drop(c, axis = 1) # axis = 1 --> column\n",
    "        # give user output to assure the execution was successful\n",
    "        for char in c:\n",
    "            print(\"\\n\" + char, \"has been removed from the data set!\")\n",
    "        global columns\n",
    "        columns = list(data.columns) \n",
    "        return \n",
    "    elif inp in no:\n",
    "        return\n",
    "    else:\n",
    "        sys.stdout.write(\"\"\"\\nPlease answer with \"yes\" or \"no\".\"\"\")\n",
    "        qRemove()\n",
    "    return"
   ]
  },
  {
   "cell_type": "code",
   "execution_count": 24,
   "metadata": {
    "scrolled": true
   },
   "outputs": [
    {
     "name": "stdout",
     "output_type": "stream",
     "text": [
      "\n",
      "Would you like to remove columns from your data set? (y/n): y\n",
      "\n",
      "Enter all columns separated with space: MaxTimeStamp\n",
      "\n",
      "MaxTimeStamp has been removed from the data set!\n"
     ]
    }
   ],
   "source": [
    "## 2.2 cont. Execute function\n",
    "qRemove()"
   ]
  },
  {
   "cell_type": "code",
   "execution_count": 25,
   "metadata": {},
   "outputs": [
    {
     "name": "stdout",
     "output_type": "stream",
     "text": [
      "In the next table you will find more specific information about your data set:\n",
      "(\"datetime64\" stands for date data, int64\" and \"float64\" stands for numeric data,\n",
      "whereas \"object\" denotes categorical data)\n",
      "\n"
     ]
    },
    {
     "data": {
      "text/plain": [
       "GameID                  int64\n",
       "LeagueIndex             int64\n",
       "Age                   float64\n",
       "HoursPerWeek          float64\n",
       "TotalHours            float64\n",
       "APM                   float64\n",
       "SelectByHotkeys       float64\n",
       "AssignToHotkeys       float64\n",
       "UniqueHotkeys         float64\n",
       "MinimapAttacks        float64\n",
       "MinimapRightClicks    float64\n",
       "NumberOfPACs          float64\n",
       "GapBetweenPACs        float64\n",
       "ActionLatency         float64\n",
       "ActionsInPAC          float64\n",
       "TotalMapExplored      float64\n",
       "WorkersMade           float64\n",
       "UniqueUnitsMade       float64\n",
       "ComplexUnitsMade      float64\n",
       "ComplexAbilityUsed    float64\n",
       "dtype: object"
      ]
     },
     "execution_count": 25,
     "metadata": {},
     "output_type": "execute_result"
    }
   ],
   "source": [
    "## 2.3 get further details of the data types \n",
    "\n",
    "print(\"\"\"In the next table you will find more specific information about your data set:\n",
    "(\"datetime64\" stands for date data, int64\" and \"float64\" stands for numeric data,\\nwhereas \"object\" denotes categorical data)\\n\"\"\")\n",
    "\n",
    "data.dtypes"
   ]
  },
  {
   "cell_type": "code",
   "execution_count": 26,
   "metadata": {
    "scrolled": true
   },
   "outputs": [],
   "source": [
    "## 2.4 Transforming data types\n",
    "# here we want to ask the user if there are columns present that the user wants to change the type in\n",
    "# for this we create define functions for each column type and insert these into our main function \n",
    "\n",
    "#define category change function\n",
    "def inpCat():\n",
    "    inp =str(input(\"\\nAre there columns that need to be changed into character type? (y/n): \").lower())\n",
    "    if inp in yes:\n",
    "        # getInput()\n",
    "        getInput()\n",
    "        for char in c:\n",
    "            global data\n",
    "            # change each value in vector to character type\n",
    "            data[char] = data[char].astype(str)\n",
    "            # assure success to user\n",
    "            print(char, \"has been changed to character!\")\n",
    "        return\n",
    "    elif inp in no:\n",
    "        return\n",
    "    else: \n",
    "        sys.stdout.write(\"\"\"\\nPlease answer with \"yes\" or \"no\".\"\"\")\n",
    "        inpCat()\n",
    "        \n",
    "# define float change function\n",
    "def inpNum():\n",
    "    inp = str(input(\"\\nAre there columns that need to be changed into numeric? (y/n): \").lower())\n",
    "    if inp in yes:\n",
    "        # getInput()\n",
    "        getInput()\n",
    "        for char in c:\n",
    "            global data\n",
    "            # change each value in vector to numeric type\n",
    "            data[char] = pd.to_numeric(data[char])\n",
    "            print(char, \"has been changed to numeric!\")\n",
    "        return\n",
    "    elif inp in no:\n",
    "        return\n",
    "    else: \n",
    "        sys.stdout.write(\"\"\"\\nPlease answer with \"yes\" or \"no\".\"\"\")\n",
    "        inpNum()      \n",
    "\n",
    "\n",
    "#define date change function\n",
    "def inpDate():\n",
    "    inp = str(input(\"\\nAre there columns that need to be changed into date? (y/n): \").lower())\n",
    "    if inp in yes:\n",
    "        # getInput()\n",
    "        getInput()\n",
    "        for char in c:        \n",
    "            global data\n",
    "            data[char] = pd.to_datetime(data[char], infer_datetime_format=True)\n",
    "            print(char, \"has been changed to date!\")\n",
    "        return\n",
    "    elif inp in no:\n",
    "        return\n",
    "    else: \n",
    "        sys.stdout.write(\"\"\"\\nPlease answer with \"yes\" or \"no\".\"\"\")\n",
    "        inpDate()\n",
    "        \n",
    "        \n",
    "# define main Transform function\n",
    "def qTransform():\n",
    "    inp = str(input(\"\\nAre there any columns in the wrong format that need to be changed? (y/n): \").lower())\n",
    "    # execute all functions sequentially\n",
    "    if inp in yes:\n",
    "        inpCat()\n",
    "        inpNum()\n",
    "        inpDate()\n",
    "        global columns\n",
    "        columns = list(data.columns) \n",
    "        return\n",
    "    elif inp in no:\n",
    "        return\n",
    "    else:\n",
    "        sys.stdout.write(\"\"\"\\nPlease answer with \"yes\" or \"no\".\"\"\")\n",
    "        qTransform()\n",
    "    return\n"
   ]
  },
  {
   "cell_type": "code",
   "execution_count": 27,
   "metadata": {},
   "outputs": [
    {
     "name": "stdout",
     "output_type": "stream",
     "text": [
      "\n",
      "Are there any columns in the wrong format that need to be changed? (y/n): y\n",
      "\n",
      "Are there columns that need to be changed into character type? (y/n): y\n",
      "\n",
      "Enter all columns separated with space: GameID\n",
      "GameID has been changed to character!\n",
      "\n",
      "Are there columns that need to be changed into numeric? (y/n): n\n",
      "\n",
      "Are there columns that need to be changed into date? (y/n): n\n",
      "\n",
      "See the table with your prefered types:\n"
     ]
    },
    {
     "data": {
      "text/plain": [
       "GameID                 object\n",
       "LeagueIndex             int64\n",
       "Age                   float64\n",
       "HoursPerWeek          float64\n",
       "TotalHours            float64\n",
       "APM                   float64\n",
       "SelectByHotkeys       float64\n",
       "AssignToHotkeys       float64\n",
       "UniqueHotkeys         float64\n",
       "MinimapAttacks        float64\n",
       "MinimapRightClicks    float64\n",
       "NumberOfPACs          float64\n",
       "GapBetweenPACs        float64\n",
       "ActionLatency         float64\n",
       "ActionsInPAC          float64\n",
       "TotalMapExplored      float64\n",
       "WorkersMade           float64\n",
       "UniqueUnitsMade       float64\n",
       "ComplexUnitsMade      float64\n",
       "ComplexAbilityUsed    float64\n",
       "dtype: object"
      ]
     },
     "execution_count": 27,
     "metadata": {},
     "output_type": "execute_result"
    }
   ],
   "source": [
    "# 2.4 cont. Execute function\n",
    "qTransform()\n",
    "print(\"\\nSee the table with your prefered types:\")\n",
    "data.dtypes"
   ]
  },
  {
   "cell_type": "code",
   "execution_count": 28,
   "metadata": {},
   "outputs": [
    {
     "name": "stdout",
     "output_type": "stream",
     "text": [
      "Here you see the number of null values for each variable.\n"
     ]
    },
    {
     "data": {
      "text/plain": [
       "GameID                 0\n",
       "LeagueIndex            0\n",
       "Age                   55\n",
       "HoursPerWeek          56\n",
       "TotalHours            57\n",
       "APM                    0\n",
       "SelectByHotkeys        0\n",
       "AssignToHotkeys        0\n",
       "UniqueHotkeys          0\n",
       "MinimapAttacks         0\n",
       "MinimapRightClicks     0\n",
       "NumberOfPACs           0\n",
       "GapBetweenPACs         0\n",
       "ActionLatency          0\n",
       "ActionsInPAC           0\n",
       "TotalMapExplored       0\n",
       "WorkersMade            0\n",
       "UniqueUnitsMade        0\n",
       "ComplexUnitsMade       0\n",
       "ComplexAbilityUsed     0\n",
       "dtype: int64"
      ]
     },
     "execution_count": 28,
     "metadata": {},
     "output_type": "execute_result"
    }
   ],
   "source": [
    "## 2.5 count number of null values\n",
    "\n",
    "print(\"Here you see the number of null values for each variable.\")\n",
    "\n",
    "data.isnull().sum()"
   ]
  },
  {
   "cell_type": "code",
   "execution_count": 29,
   "metadata": {},
   "outputs": [],
   "source": [
    "## 2.6 remove NA values\n",
    "\n",
    "# define function to ask if user wants to remove null values\n",
    "def qDrop():\n",
    "    inp = str(input(\"\\nDo you want to remove the null values? (y/n): \").lower())\n",
    "    if inp in yes:\n",
    "        global data\n",
    "        # will remove any null values \n",
    "        data = data.dropna(how=\"any\", axis=0) # axis = 0 --> row\n",
    "        print(\"\\nNull values have been removed!\")\n",
    "    elif inp in no:\n",
    "        return      \n",
    "    else:\n",
    "        sys.stdout.write(\"\"\"\\nPlease answer with \"yes\" or \"no\".\"\"\")\n",
    "        qDrop()"
   ]
  },
  {
   "cell_type": "code",
   "execution_count": 30,
   "metadata": {},
   "outputs": [
    {
     "name": "stdout",
     "output_type": "stream",
     "text": [
      "\n",
      "Do you want to remove the null values? (y/n): y\n",
      "\n",
      "Null values have been removed!\n"
     ]
    }
   ],
   "source": [
    "# 2.6 cont. Execute function        \n",
    "qDrop()"
   ]
  },
  {
   "cell_type": "code",
   "execution_count": 31,
   "metadata": {},
   "outputs": [],
   "source": [
    "## 2.7 Renaming columns \n",
    "# define function to ask if user wants to rename columns\n",
    "\n",
    "def qRename():\n",
    "    inp = str(input(\"\\nDo you want to rename columns? (y/n): \").lower())\n",
    "    if inp in yes:\n",
    "        # getInput() \n",
    "        getInput()\n",
    "        for char in c:\n",
    "            global data\n",
    "            # ask for new name\n",
    "            newname_input = str(input(\"\\nHow do you want to rename the column \" + str(char) + \"?: \"))\n",
    "            # use rename function to rename\n",
    "            data = data.rename(columns = {char: newname_input})\n",
    "            # update columns list for getInput() to continue working correctly\n",
    "            global columns\n",
    "            columns = list(data.columns) \n",
    "            # give user update how every value has been renamed to \n",
    "            print(str(char) +\" has been renamed to \" + str(newname_input)+\"!\")\n",
    "    elif inp in no:\n",
    "        return      \n",
    "    else:\n",
    "        sys.stdout.write(\"\"\"\\nPlease answer with \"yes\" or \"no\".\"\"\")\n",
    "        qRename()\n"
   ]
  },
  {
   "cell_type": "code",
   "execution_count": 32,
   "metadata": {},
   "outputs": [
    {
     "name": "stdout",
     "output_type": "stream",
     "text": [
      "\n",
      "Do you want to rename columns? (y/n): n\n"
     ]
    }
   ],
   "source": [
    "## 2.7 cont. Execute function\n",
    "qRename()"
   ]
  },
  {
   "cell_type": "code",
   "execution_count": 61,
   "metadata": {},
   "outputs": [],
   "source": [
    "## 2.8 check for duplicates \n",
    "\n",
    "# To get rid of duplicates we check if the *key* appears more than once\n",
    "# A key in a data set is a variable which is unique. In other words, the key is the value whith which\n",
    "# you can access each single observation. \n",
    "# Thus the program asks the user for the key. The user must know this key! \n",
    "# The program hasn't got the intelligence to figure it out by itself. \n",
    "\n",
    "# defining question for key\n",
    "def Key():\n",
    "    # get key\n",
    "    key = input(\"\\nWhat column is the primary key of your data set?: \")\n",
    "    # give user option to cancel if he doesn't know key --> no checking for duplicates will be possible\n",
    "    if key in cancel:\n",
    "        return\n",
    "    # retry if key has been misstyped\n",
    "    elif key not in columns:\n",
    "        print(\"\\nThere is no such variable. Please try again!\")\n",
    "        qKey()\n",
    "    else:\n",
    "        return key\n",
    "\n",
    "\n",
    "# defining removal of duplicates \n",
    "def removeDupl():\n",
    "    inp = str(input(\"\\nDo you want to remove the duplicates from your data set? (y/n): \").lower())\n",
    "    if inp in yes:\n",
    "        global data\n",
    "        # drop_duplicates to delete any duplicates in key column\n",
    "        data = data.drop_duplicates(key)\n",
    "        # give user update for success\n",
    "        print(\"\\nThe duplicates have been removed!\")\n",
    "    elif inp in no:\n",
    "        return \n",
    "    else:\n",
    "        sys.stdout.write(\"\"\"\\nPlease answer with \"yes\" or \"no\".\"\"\")\n",
    "        removeDupl()\n",
    "    return\n",
    "\n",
    "#defining overall question for handling duplicates\n",
    "def qDuplicates():\n",
    "    inp = str(input(\"\\nDo you want to check for duplicates in your data set? (y/n): \").lower())\n",
    "    if inp in yes:\n",
    "        # call global key\n",
    "        global key\n",
    "        # use Key() function and add value to variable key\n",
    "        key = Key()\n",
    "        # sum the number of duplicates in the column key\n",
    "        duplications = sum(data.duplicated(key))\n",
    "        # inform user\n",
    "        print(\"There are\", duplications, \"duplicates in your data set.\")\n",
    "        # if there are no duplicates the function will end and move on,\n",
    "        # as there is no reason to ask for deleting 0 duplicates\n",
    "        if duplications == 0:\n",
    "            return\n",
    "        # if not 0 then move on to ask for the removal of duplicates\n",
    "        else:\n",
    "            removeDupl()\n",
    "    elif inp in no: \n",
    "        return\n",
    "    else:\n",
    "        sys.stdout.write(\"\"\"\\nPlease answer with \"yes\" or \"no\".\"\"\")\n",
    "        qDuplicates()  \n",
    "    return"
   ]
  },
  {
   "cell_type": "code",
   "execution_count": 34,
   "metadata": {},
   "outputs": [
    {
     "name": "stdout",
     "output_type": "stream",
     "text": [
      "\n",
      "Do you want to check for duplicates in your data set? (y/n): y\n",
      "\n",
      "What column is the primary key of your data set?: GameID\n",
      "There are 0 duplicates in your data set.\n"
     ]
    }
   ],
   "source": [
    "# 2.8 cont. Execute functions\n",
    "qDuplicates()"
   ]
  },
  {
   "cell_type": "code",
   "execution_count": 62,
   "metadata": {},
   "outputs": [],
   "source": [
    "## 2.9 asking if everything is correct and give user the possibility to repeat corrections\n",
    "def qAgainNested():\n",
    "    # ask for input which function the user wants to repeat\n",
    "    # each letter a-e corresponds to a function\n",
    "    again = str(input(\"\\nWhat would you like to repeat? Enter the corresponding letter (a-e): \").lower())    \n",
    "    # abort function and potential endless loop by entering \"cancel\", as \"c\" is a command to execute a function\n",
    "    if again == \"cancel\":\n",
    "        q2Again()\n",
    "        return\n",
    "    elif again == \"a\":\n",
    "        qRemove()\n",
    "        q2Again()\n",
    "    elif again == \"b\":\n",
    "        qTransform()\n",
    "        q2Again()\n",
    "    elif again == \"c\":\n",
    "        qDrop()\n",
    "        q2Again()\n",
    "    elif again == \"d\":\n",
    "        qRename()\n",
    "        q2Again()\n",
    "    elif again == \"e\":\n",
    "        qDuplicates()\n",
    "        q2Again()\n",
    "    # repeat this function if a incorrect input has been given\n",
    "    else: \n",
    "        sys.stdout.write(\"\"\"\\nPlease answer with a letter between \"(a-e)\".\"\"\")\n",
    "        qAgainNested()\n",
    "\n",
    "def q2Again():\n",
    "    inp2 = str(input(\"\\nDo you want to repeat another function? (y/n): \").lower())\n",
    "    if inp2 in yes:\n",
    "        # move to main function to print the possibilites again \n",
    "        qAgain()\n",
    "    elif inp2 in no:\n",
    "        # give last overall output before finishing data pre-processing\n",
    "        print(\"\\nPerfect!\\nWe are left with the following number of observations and variables:\\n\" + \n",
    "              str(data.shape[0]) + \" | \" + str(data.shape[1]))\n",
    "    else:\n",
    "        sys.stdout.write(\"\"\"\\nPlease answer with \"yes\" or \"no\".\"\"\")\n",
    "        q2Again()  \n",
    "\n",
    "def qAgain():\n",
    "    # list different functions and ask if user wants to repeat one of these\n",
    "    inp = str(input(\"\\nDo you want to repeat one of these listed functions?\"+\n",
    "                    \"\\na) Removing Columns\" + \n",
    "                    \"\\nb) Transforming data types\"+\n",
    "                    \"\\nc) remove NA values\"+\n",
    "                    \"\\nd) Renaming columns\"+\n",
    "                    \"\\ne) Check for duplicates\"+\n",
    "                    \"\\n (y/n): \")).lower()\n",
    "    # if yes move to function above \n",
    "    if inp in yes:\n",
    "        qAgainNested()\n",
    "    # if no finish data-preprocessing\n",
    "    elif inp in no:\n",
    "        print(\"\\nPerfect!\\nWe are left with the following number of observations and variables:\\n\" + \n",
    "              str(data.shape[0]) + \" | \" + str(data.shape[1]))\n",
    "    else:\n",
    "        sys.stdout.write(\"\"\"\\nPlease answer with \"yes\" or \"no\".\"\"\")\n",
    "        qAgain()\n",
    "        "
   ]
  },
  {
   "cell_type": "code",
   "execution_count": 63,
   "metadata": {},
   "outputs": [
    {
     "name": "stdout",
     "output_type": "stream",
     "text": [
      "\n",
      "Do you want to repeat one of these listed functions?\n",
      "a) Removing Columns\n",
      "b) Transforming data types\n",
      "c) remove NA values\n",
      "d) Renaming columns\n",
      "e) Check for duplicates\n",
      " (y/n): <\n",
      "\n",
      "Please answer with \"yes\" or \"no\".\n",
      "Do you want to repeat one of these listed functions?\n",
      "a) Removing Columns\n",
      "b) Transforming data types\n",
      "c) remove NA values\n",
      "d) Renaming columns\n",
      "e) Check for duplicates\n",
      " (y/n): y\n",
      "What would you like to repeat? Enter the corresponding letter (a-e): b\n",
      "\n",
      "Are there any columns in the wrong format that need to be changed? (y/n): yes\n",
      "\n",
      "Are there columns that need to be changed into character type? (y/n): y\n",
      "\n",
      "Enter all columns separated with space: LeagueIndex\n",
      "LeagueIndex has been changed to character!\n",
      "\n",
      "Are there columns that need to be changed into numeric? (y/n): n\n",
      "\n",
      "Are there columns that need to be changed into date? (y/n): n\n",
      "\n",
      "Do you want to repeat another function? (y/n): n\n",
      "\n",
      "Perfect!\n",
      "We are left with the following number of observations and variables:\n",
      "3338 | 20\n"
     ]
    }
   ],
   "source": [
    "## 2.9 cont. Exectute functions\n",
    "\n",
    "qAgain()"
   ]
  },
  {
   "cell_type": "markdown",
   "metadata": {},
   "source": [
    "## 3. Univariate Analysis"
   ]
  },
  {
   "cell_type": "markdown",
   "metadata": {},
   "source": [
    "After the data processing we now start with descriptive analysis of the data set.  \n",
    "The program starts with categorical data and then switches to numerical data.  \n",
    "The program gives the chance to examine each value individually."
   ]
  },
  {
   "cell_type": "code",
   "execution_count": 37,
   "metadata": {},
   "outputs": [],
   "source": [
    "def askCat():\n",
    "    # call global variable \n",
    "    global d\n",
    "    d.clear()\n",
    "    # ask for the keys as they lead to errors in categorical grid plot\n",
    "    input_string = input(\"\\nEnter all key related categorical type columns: \")\n",
    "    d  = input_string.split(\" \")\n",
    "    return"
   ]
  },
  {
   "cell_type": "code",
   "execution_count": 68,
   "metadata": {},
   "outputs": [
    {
     "name": "stdout",
     "output_type": "stream",
     "text": [
      "\n",
      "We now continue with our analyis of the data.\n",
      "For the next step please enter all key related character type columns and other character type columns in the next field that you think have *subgroups > 80*!\n",
      "Otherwise the results for plotting may become unsatisfying and even lead to errors.\n"
     ]
    }
   ],
   "source": [
    "##  3.0.1 split numerical and categorical data into two lists\n",
    "\n",
    "print(\"\\nWe now continue with our analyis of the data.\"+\n",
    "     \"\\nFor the next step please enter all key related character type columns and\" +\n",
    "      \" other character type columns in the next field that you think have *subgroups > 80*!\" +\n",
    "     \"\\nOtherwise the results for plotting may become unsatisfying and even lead to errors.\")\n",
    "\n",
    "# define function to separate numerical and categorical data into two lists\n",
    "\n",
    "def qGetNumType():\n",
    "  # select all numerical variables\n",
    "    num_variables = data.select_dtypes(include=[\"int64\",\"float64\"]).columns\n",
    "    return list(num_variables)\n",
    "\n",
    "def qGetCatType():\n",
    "     # select all categorical variables\n",
    "    cat_variables = data.select_dtypes(include=[\"object\"]).columns\n",
    "    # use getCat() as we need to delete these columns from the list\n",
    "    askCat()\n",
    "    # use try & except if an incorrect value has been entered an repeat function\n",
    "    try:\n",
    "        cat_variables = cat_variables.drop(d)\n",
    "    except KeyError:\n",
    "        print(\"You have entered a non categorical column. Please retry!\")\n",
    "        qGetCatType()\n",
    "    return list(cat_variables)"
   ]
  },
  {
   "cell_type": "code",
   "execution_count": 69,
   "metadata": {},
   "outputs": [
    {
     "name": "stdout",
     "output_type": "stream",
     "text": [
      "\n",
      "Enter all key related categorical type columns: GameID\n",
      "\n",
      "Your data has been split into two categories:\n",
      "Numerical and Categorical\n",
      "Your data set contains 18 numerical and 1 categorical variables.\n"
     ]
    }
   ],
   "source": [
    "# 3.0.1 cont. Execute function\n",
    "\n",
    "num_variables = qGetNumType()\n",
    "cat_variables = qGetCatType()\n",
    "print(\"\\nYour data has been split into two categories:\\nNumerical and Categorical\"+\n",
    "      \"\\nYour data set contains\", str(len(num_variables)), \"numerical and\", str(len(cat_variables)), \"categorical variables.\")"
   ]
  },
  {
   "cell_type": "markdown",
   "metadata": {},
   "source": [
    "## 3.1 Categorical Data analysis\n"
   ]
  },
  {
   "cell_type": "code",
   "execution_count": 70,
   "metadata": {},
   "outputs": [
    {
     "name": "stdout",
     "output_type": "stream",
     "text": [
      "\n",
      "Below you can explore a grid of count plots including all the categorical data of your data set:\n",
      "\n"
     ]
    },
    {
     "name": "stderr",
     "output_type": "stream",
     "text": [
      "/Users/Dada/opt/anaconda3/lib/python3.7/site-packages/seaborn/axisgrid.py:728: UserWarning: Using the countplot function without specifying `order` is likely to produce an incorrect plot.\n",
      "  warnings.warn(warning)\n"
     ]
    },
    {
     "data": {
      "image/png": "[encoded data removed]",
      "text/plain": [
       "<Figure size 864x216 with 1 Axes>"
      ]
     },
     "metadata": {},
     "output_type": "display_data"
    }
   ],
   "source": [
    "# 3.1.1 grid plotting categorical data\n",
    "# it takes all categorical variables and plots them into a histogram\n",
    "# it is sometimes messy for some variables with large number of subgroups . \n",
    "if len(cat_variables) > 0:\n",
    "    print(\"\\nBelow you can explore a grid of count plots including all the categorical data of your data set:\\n\")\n",
    "    # create identifier variables and measured variables \n",
    "    cat_melt = pd.melt(data, value_vars=sorted(cat_variables))\n",
    "    # create grid plot with all categorical variables, print max 4 plots per row \n",
    "    cat_grid = sn.FacetGrid(cat_melt, col=\"variable\", col_wrap=4, sharex=False, sharey=False)\n",
    "    # turn xticks to vertical to avoid overlapping\n",
    "    plt.xticks(rotation=\"vertical\")\n",
    "    # mapping data set on grid, define countplot to count occurences in each subgroup\n",
    "    cat_grid = cat_grid.map(sn.countplot, \"value\", color = \"lightcoral\",)\n",
    "    # set properties of xticks, rotate to vertical, apply to all axes\n",
    "    [plt.setp(ax.get_xticklabels(), rotation=90) for ax in cat_grid.axes.flat]\n",
    "    plt.show()"
   ]
  },
  {
   "cell_type": "markdown",
   "metadata": {},
   "source": [
    "### Specific categorical analysis"
   ]
  },
  {
   "cell_type": "markdown",
   "metadata": {},
   "source": [
    "Here the program starts with looking at a categorical values individually. The user chooses which and how many columns he wants to inspect."
   ]
  },
  {
   "cell_type": "code",
   "execution_count": 65,
   "metadata": {},
   "outputs": [],
   "source": [
    "## in contrast to before here only a single value is asked instead of multiple\n",
    "# the mechanism itself stays the same\n",
    "def getSingleInput():\n",
    "    global e\n",
    "    inp = str(input(\"Enter a single variable: \"))\n",
    "    e = inp\n",
    "    if e not in cat_variables:\n",
    "        print(e, \"is not given in the list for categorical columns. Please retry!\")\n",
    "        getSingleInput()"
   ]
  },
  {
   "cell_type": "code",
   "execution_count": 66,
   "metadata": {},
   "outputs": [],
   "source": [
    "## 3.1.2 value_counts \n",
    "#counts the number of each single group of category and presents result in a small df\n",
    "\n",
    "def qCat():\n",
    "    inp = str(input(\"\\nDo you want to look at a specific categorical column individually? (y/n): \")).lower()\n",
    "    if inp in yes:\n",
    "        # getSingleInput() for which varibale wants to analyse\n",
    "        countCat()\n",
    "    elif inp in no:\n",
    "        return\n",
    "    else:\n",
    "        sys.stdout.write(\"\"\"\\nPlease answer with \"yes\" or \"no\".\"\"\")\n",
    "        qCat()\n",
    "    \n",
    "def countCat():\n",
    "    # count subgroups and list a table of these\n",
    "    getSingleInput()\n",
    "    global e\n",
    "    a = data[e].value_counts()\n",
    "    return a"
   ]
  },
  {
   "cell_type": "code",
   "execution_count": 67,
   "metadata": {},
   "outputs": [],
   "source": [
    "## 3.1.3 ask for repetition\n",
    "# give user option for repeating this function indefinetely\n",
    "def AgainCat():\n",
    "    inp = str(input(\"Do you want to do the same analyis for another categorical variable? (y/n): \")).lower()\n",
    "    if inp in yes:\n",
    "        # repeat qCat() function and repeat AgainCat() to create loop\n",
    "        countCat()\n",
    "        AgainCat()\n",
    "    elif inp in no: \n",
    "        print(\"\\nWe now move on to the numerical values.\")\n",
    "    else: \n",
    "        sys.stdout.write(\"\"\"\\nPlease answer with \"yes\" or \"no\".\"\"\")\n",
    "        AgainCat()"
   ]
  },
  {
   "cell_type": "code",
   "execution_count": 49,
   "metadata": {},
   "outputs": [],
   "source": [
    "## 3.1.3 cont. Execute function\n",
    "if len(cat_variables) >0:\n",
    "    qCat()"
   ]
  },
  {
   "cell_type": "code",
   "execution_count": 50,
   "metadata": {},
   "outputs": [],
   "source": [
    "## 3.1.3 cont. Execute function\n",
    "if len(cat_variables) >0:\n",
    "    AgainCat()"
   ]
  },
  {
   "cell_type": "markdown",
   "metadata": {},
   "source": [
    "## 3.2 Numerical Data analysis"
   ]
  },
  {
   "cell_type": "code",
   "execution_count": 71,
   "metadata": {},
   "outputs": [
    {
     "name": "stdout",
     "output_type": "stream",
     "text": [
      "\n",
      "Below you can explore a grid of distribution plots including all the numerical data of your data set:\n",
      "\n"
     ]
    },
    {
     "data": {
      "image/png": "[encoded data removed]",
      "text/plain": [
       "<Figure size 864x1080 with 18 Axes>"
      ]
     },
     "metadata": {},
     "output_type": "display_data"
    }
   ],
   "source": [
    "## 3.2.1 distribution grid plot of all numerical variables\n",
    "# takes all numerical variables and plots them into an distribution plot\n",
    "if len(num_variables) >0:\n",
    "    print(\"\\nBelow you can explore a grid of distribution plots including all the numerical data of your data set:\\n\")\n",
    "    # create identifier values and measured values\n",
    "    num_melt = pd.melt(data, value_vars=sorted(num_variables))\n",
    "    # create grid plot, max 4 plots per row\n",
    "    num_grid = sn.FacetGrid(num_melt, col=\"variable\", col_wrap=4, sharex=False, sharey=False)\n",
    "    # define plots as distribution plots \n",
    "    num_grid = num_grid.map(sn.distplot, \"value\", color = \"lightcoral\")"
   ]
  },
  {
   "cell_type": "markdown",
   "metadata": {},
   "source": [
    "###  Specific Numeric analysis\n",
    "\n"
   ]
  },
  {
   "cell_type": "markdown",
   "metadata": {},
   "source": [
    "Like before for categorical data the program here asks which *numerical* columns the user wants to inspect more specifically.\n",
    "\n"
   ]
  },
  {
   "cell_type": "code",
   "execution_count": 53,
   "metadata": {},
   "outputs": [],
   "source": [
    "## 3.2.2 define function for a descriptive summary\n",
    "\n",
    "def Summary():\n",
    "    for char in c:\n",
    "        # calculate various measures such as mean, median, quantiles, and min and max\n",
    "        mean = data[char].mean()\n",
    "        median = data[char].median()\n",
    "        std = data[char].std()\n",
    "        mini = data[char].min()\n",
    "        q_25 = data[char].quantile(q=0.25)\n",
    "        q_50 = data[char].quantile(q=0.5)\n",
    "        q_75 = data[char].quantile(q=0.75)\n",
    "        maxi = data[char].max()\n",
    "        # print the results\n",
    "        print(\"\\nVariable \" +str(char)+ \" possesses the following properties:\\n\\nmean: \\t\\t\", round(mean, 2),\n",
    "              \"\\nmedian: \\t\", round(median, 2),\n",
    "             \"\\nstd: \\t\\t\", round(std, 2),\n",
    "             \"\\nmin: \\t\\t\", round(mini, 2),\n",
    "             \"\\n25%: \\t\\t\", round(q_25, 2),\n",
    "             \"\\n50%: \\t\\t\", round(q_50, 2),\n",
    "             \"\\n75%: \\t\\t\", round(q_75, 2),\n",
    "             \"\\nmax: \\t\\t\", round(maxi, 2)) \n",
    "    return  \n"
   ]
  },
  {
   "cell_type": "code",
   "execution_count": 54,
   "metadata": {},
   "outputs": [],
   "source": [
    "## 3.2.3 define function for inspecting Skew & Kurtosis\n",
    "def SkewKurtosis():\n",
    "    for char in c:\n",
    "        # calculate skew and kurtosis for each value and print results \n",
    "        skew = data[char].skew()\n",
    "        kurtosis = data[char].kurtosis()\n",
    "        print(\"\\nResults for \" + str(char) + \":\")\n",
    "        print(\"Skew: \", round(skew, 2) , \"| Kurtosis: \", round(kurtosis, 2))\n",
    "        if skew >= -0.5 and skew <= 0.5:\n",
    "            print(\"\\nA skew value of\", round(skew,2), \"indicates a fairly symmetric distribution.\")\n",
    "        elif skew > 0.5 and skew <=1:\n",
    "            print(\"\\nA skew value of\", round(skew,2), \"indicates a moderately right skewed distribution.\")\n",
    "        elif skew >1:\n",
    "            if skew > 10:\n",
    "                print(\"\\nA skew value of\", round(skew,2), \"indicates an extremely right skewed distribution.\")\n",
    "            else:\n",
    "                print(\"\\nA skew value of\", round(skew,2), \"indicates a highly right skewed distribution.\")\n",
    "        elif skew >= -1 and skew <-0.5:\n",
    "            print(\"\\nA skew value of\", round(skew,2), \"indicates a moderately left skewed distribution.\")\n",
    "        elif skew <-1:  \n",
    "            if skew <-10:\n",
    "                print(\"\\nA skew value of\", round(skew,2), \"indicates an extremely left skewed distribution.\")\n",
    "            else:\n",
    "                print(\"\\nA skew value of\", round(skew,2), \"indicates a highly left skewed distribution.\")\n",
    "        if kurtosis <2.9:\n",
    "            if kurtosis<0:\n",
    "                print(\"The kurtosis with a value of\", round(kurtosis,2), \"may indicate a bimodal distribution with two different modes.\")\n",
    "            if kurtosis >= 0:\n",
    "                print(\"The kurtosis with a value of\", round(kurtosis,2), \"is platykurtic.\\nThis indicates a low and broad peak.\\nIn addition, this means that the distribution is shorter and tails are thinner.\\nOutliers are less likely\")\n",
    "        elif kurtosis >3.1: \n",
    "            if kurtosis > 30:\n",
    "                print(\"The kurtosis with a value of\", round(kurtosis,2), \"is extremely leptokurtic.\\nThis indicates a very high and sharp peak.\\nIn addition, this means that the distribution is long and fat tails are observable.\\nOutliers are highly possible.\")\n",
    "            else:\n",
    "                print(\"The kurtosis with a value of\", round(kurtosis,2), \"is leptokurtic.\\nThis indicates a high and sharp peak.\\nIn addition, this means that the distribution is long and fat tails are observable.\\nOutliers are highly possible.\")\n",
    "        elif kurtosis >=2.9 and kurtosis <= 3.1:\n",
    "            print(\"The kurtosis with a value of\", round(kurtosis,2), \"is Mesokurtic.\\nThis indicates a similar distribution to a normal distribution.\")\n",
    "    return       \n",
    "            "
   ]
  },
  {
   "cell_type": "code",
   "execution_count": 55,
   "metadata": {},
   "outputs": [],
   "source": [
    "## 3.2.4 count outliers\n",
    "def Outliers():\n",
    "    # check for outliers in each variable\n",
    "    for char in c:\n",
    "        # outliers are defined by being smaller than 0.25 quantile or larger than 0.75 quantile\n",
    "        q_25 = data[char].quantile(q=0.25)\n",
    "        q_75 = data[char].quantile(q=0.75)\n",
    "        # print results to inform user\n",
    "        print(\"\\nThe total number of outliers for \" + str(char) + \" is\", sum((data[char]<q_25) | (data[char]>q_75)), \".\")\n",
    "    return\n",
    "        \n",
    "        "
   ]
  },
  {
   "cell_type": "code",
   "execution_count": 56,
   "metadata": {},
   "outputs": [],
   "source": [
    "## 3.2.5 plotting boxplot to further \n",
    "\n",
    "def Boxplot():\n",
    "    for char in c:\n",
    "        print(\"\\nBelow you can examine a boxplot based on the variable \" + str(char)+\":\")\n",
    "        # create boxplot, large enough to properly fit in outliers \n",
    "        plt.figure(figsize=(14,4))\n",
    "        # make boxplot horizontal to ease analysis\n",
    "        data[char].plot.box(vert = False)\n",
    "        plt.show()\n",
    "    return"
   ]
  },
  {
   "cell_type": "code",
   "execution_count": 57,
   "metadata": {},
   "outputs": [],
   "source": [
    "## 3.2.6 ask if user wants to repeat numerical analysis for other variables\n",
    "\n",
    "def AgainNum():\n",
    "    # give user option to repeat this sequence\n",
    "    inp = str(input(\"Do you want to do the same analyis for another numeric variables? (y/n): \")).lower()\n",
    "    if inp in yes:\n",
    "        # insert all functions from input to repeating this function again\n",
    "        getInput()\n",
    "        Summary()\n",
    "        SkewKurtosis()\n",
    "        Outliers()\n",
    "        Boxplot()\n",
    "        AgainNum()\n",
    "    elif inp in no: \n",
    "        print(\"\\nWe now move on to our correlation matrix.\")\n",
    "    else: \n",
    "        sys.stdout.write(\"\"\"\\nPlease answer with \"yes\" or \"no\".\"\"\")\n",
    "        AgainNum()"
   ]
  },
  {
   "cell_type": "code",
   "execution_count": 58,
   "metadata": {},
   "outputs": [],
   "source": [
    "## 3.2.7 define function to ask which variables the user wants to inspect individually\n",
    "\n",
    "def qNumValue():\n",
    "    inp = str(input(\"\\nDo you want to examine any numerical columns individually? (y/n): \").lower())\n",
    "    if inp in yes:\n",
    "        # insert all functions from input to repeating the process\n",
    "        getInput()\n",
    "        Summary()\n",
    "        SkewKurtosis()\n",
    "        Outliers()\n",
    "        Boxplot()\n",
    "        AgainNum()\n",
    "    elif inp in no:\n",
    "        return\n",
    "    else:\n",
    "        sys.stdout.write(\"\"\"\\nPlease answer with \"yes\" or \"no\".\"\"\")\n",
    "        qNumValue()"
   ]
  },
  {
   "cell_type": "code",
   "execution_count": 59,
   "metadata": {},
   "outputs": [
    {
     "name": "stdout",
     "output_type": "stream",
     "text": [
      "\n",
      "Do you want to examine any numerical columns individually? (y/n): y\n",
      "\n",
      "Enter all columns separated with space: APM HoursPerWeek\n",
      "\n",
      "Variable APM possesses the following properties:\n",
      "\n",
      "mean: \t\t 114.58 \n",
      "median: \t 107.07 \n",
      "std: \t\t 48.11 \n",
      "min: \t\t 22.06 \n",
      "25%: \t\t 79.23 \n",
      "50%: \t\t 107.07 \n",
      "75%: \t\t 140.16 \n",
      "max: \t\t 389.83\n",
      "\n",
      "Variable HoursPerWeek possesses the following properties:\n",
      "\n",
      "mean: \t\t 15.91 \n",
      "median: \t 12.0 \n",
      "std: \t\t 11.96 \n",
      "min: \t\t 0.0 \n",
      "25%: \t\t 8.0 \n",
      "50%: \t\t 12.0 \n",
      "75%: \t\t 20.0 \n",
      "max: \t\t 168.0\n",
      "\n",
      "Results for APM:\n",
      "Skew:  0.99 | Kurtosis:  1.59\n",
      "\n",
      "A skew value of 0.99 indicates a moderately right skewed distribution.\n",
      "The kurtosis with a value of 1.59 is platykurtic.\n",
      "This indicates a low and broad peak.\n",
      "In addition, this means that the distribution is shorter and tails are thinner.\n",
      "Outliers are less likely\n",
      "\n",
      "Results for HoursPerWeek:\n",
      "Skew:  2.67 | Kurtosis:  16.73\n",
      "\n",
      "A skew value of 2.67 indicates a highly right skewed distribution.\n",
      "The kurtosis with a value of 16.73 is leptokurtic.\n",
      "This indicates a high and sharp peak.\n",
      "In addition, this means that the distribution is long and fat tails are observable.\n",
      "Outliers are highly possible.\n",
      "\n",
      "The total number of outliers for APM is 1670 .\n",
      "\n",
      "The total number of outliers for HoursPerWeek is 1444 .\n",
      "\n",
      "Below you can examine a boxplot based on the variable APM:\n"
     ]
    },
    {
     "data": {
      "image/png": "[encoded data removed]",
      "text/plain": [
       "<Figure size 1008x288 with 1 Axes>"
      ]
     },
     "metadata": {},
     "output_type": "display_data"
    },
    {
     "name": "stdout",
     "output_type": "stream",
     "text": [
      "\n",
      "Below you can examine a boxplot based on the variable HoursPerWeek:\n"
     ]
    },
    {
     "data": {
      "image/png": "[encoded data removed]",
      "text/plain": [
       "<Figure size 1008x288 with 1 Axes>"
      ]
     },
     "metadata": {},
     "output_type": "display_data"
    },
    {
     "name": "stdout",
     "output_type": "stream",
     "text": [
      "Do you want to do the same analyis for another numeric variables? (y/n): n\n",
      "\n",
      "We now move on to our correlation matrix.\n"
     ]
    }
   ],
   "source": [
    "## 3.2.7 cont. Execute function\n",
    "if len(num_variables) > 0:\n",
    "    qNumValue()"
   ]
  },
  {
   "cell_type": "code",
   "execution_count": 60,
   "metadata": {
    "scrolled": false
   },
   "outputs": [
    {
     "name": "stdout",
     "output_type": "stream",
     "text": [
      "\n",
      "Lastly, you can see a correlation matrix based on the numeric variables.\n",
      "Please inspect it for potential and interesting correlations in your data set!\n"
     ]
    },
    {
     "data": {
      "image/png": "[encoded data removed]",
      "text/plain": [
       "<Figure size 1008x864 with 2 Axes>"
      ]
     },
     "metadata": {},
     "output_type": "display_data"
    }
   ],
   "source": [
    "## 3.2.8 correlation Matrix of the numerical variables\n",
    "\n",
    "print(\"\\nLastly, you can see a correlation matrix based on the numeric variables.\" +\n",
    "      \"\\nPlease inspect it for potential and interesting correlations in your data set!\")\n",
    "# plot correlation matrix \n",
    "sn.set(style=\"white\")\n",
    "# calculate correlation\n",
    "corr = data.corr()\n",
    "# set figure\n",
    "fig = plt.figure(figsize=(14,12))\n",
    "# 111 --> only one plot \n",
    "ax = fig.add_subplot(111)\n",
    "# create diverging palette of colors\n",
    "cmap = sn.diverging_palette(220, 10, as_cmap=True)\n",
    "# only show half plot\n",
    "mask = np.triu(np.ones_like(corr, dtype=np.bool))\n",
    "# create heatmap\n",
    "sn.heatmap(corr, \n",
    "           xticklabels=corr.columns.values,\n",
    "           yticklabels=corr.index.values,\n",
    "           mask=mask,\n",
    "           cmap=\"RdPu\")\n",
    "ax.xaxis.tick_bottom()\n",
    "# set labels, rotation 60 degrees\n",
    "plt.setp(ax.get_xticklabels(), rotation=60)\n",
    "plt.show()"
   ]
  },
  {
   "cell_type": "code",
   "execution_count": null,
   "metadata": {},
   "outputs": [],
   "source": [
    "print(\"You have finished the data analyis!\")"
   ]
  }
 ],
 "metadata": {
  "kernelspec": {
   "display_name": "Python 3",
   "language": "python",
   "name": "python3"
  },
  "language_info": {
   "codemirror_mode": {
    "name": "ipython",
    "version": 3
   },
   "file_extension": ".py",
   "mimetype": "text/x-python",
   "name": "python",
   "nbconvert_exporter": "python",
   "pygments_lexer": "ipython3",
   "version": "3.7.6"
  }
 },
 "nbformat": 4,
 "nbformat_minor": 4
}
