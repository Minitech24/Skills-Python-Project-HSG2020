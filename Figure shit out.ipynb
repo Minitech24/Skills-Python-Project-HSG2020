{
 "cells": [
  {
   "cell_type": "code",
   "execution_count": 1,
   "metadata": {},
   "outputs": [],
   "source": [
    "# 1.2 Imports\n",
    "import math\n",
    "import numpy as np\n",
    "import pandas as pd\n",
    "import scipy.stats\n",
    "import matplotlib.pyplot as plt\n",
    "plt.style.use('ggplot')\n",
    "import seaborn as sn\n",
    "import sys"
   ]
  },
  {
   "cell_type": "code",
   "execution_count": 94,
   "metadata": {},
   "outputs": [],
   "source": [
    "# 1.3 read data \n",
    "data = pd.read_csv(\"listings.csv\")"
   ]
  },
  {
   "cell_type": "code",
   "execution_count": 3,
   "metadata": {},
   "outputs": [],
   "source": [
    "yes = {\"yes\", \"y\"}\n",
    "no = {\"no\", \"n\"}\n",
    "columns = list(data.columns) \n",
    "c = []\n",
    "flt = {\"float, f\"}\n",
    "integer = {\"integer, int, i\"} "
   ]
  },
  {
   "cell_type": "code",
   "execution_count": 4,
   "metadata": {},
   "outputs": [
    {
     "data": {
      "text/plain": [
       "['id',\n",
       " 'name',\n",
       " 'host_id',\n",
       " 'host_name',\n",
       " 'neighbourhood_group',\n",
       " 'neighbourhood',\n",
       " 'latitude',\n",
       " 'longitude',\n",
       " 'room_type',\n",
       " 'price',\n",
       " 'minimum_nights',\n",
       " 'number_of_reviews',\n",
       " 'last_review',\n",
       " 'reviews_per_month',\n",
       " 'calculated_host_listings_count',\n",
       " 'availability_365']"
      ]
     },
     "execution_count": 4,
     "metadata": {},
     "output_type": "execute_result"
    }
   ],
   "source": [
    "columns"
   ]
  },
  {
   "cell_type": "code",
   "execution_count": 169,
   "metadata": {},
   "outputs": [
    {
     "data": {
      "text/html": [
       "<div>\n",
       "<style scoped>\n",
       "    .dataframe tbody tr th:only-of-type {\n",
       "        vertical-align: middle;\n",
       "    }\n",
       "\n",
       "    .dataframe tbody tr th {\n",
       "        vertical-align: top;\n",
       "    }\n",
       "\n",
       "    .dataframe thead th {\n",
       "        text-align: right;\n",
       "    }\n",
       "</style>\n",
       "<table border=\"1\" class=\"dataframe\">\n",
       "  <thead>\n",
       "    <tr style=\"text-align: right;\">\n",
       "      <th></th>\n",
       "      <th>identity</th>\n",
       "      <th>name</th>\n",
       "      <th>host_id</th>\n",
       "      <th>host_name</th>\n",
       "      <th>neighbourhood_group</th>\n",
       "      <th>neighbourhood</th>\n",
       "      <th>latitude</th>\n",
       "      <th>longitude</th>\n",
       "      <th>room_type</th>\n",
       "      <th>pries</th>\n",
       "      <th>minimum_nights</th>\n",
       "      <th>number_of_reviews</th>\n",
       "      <th>last_review</th>\n",
       "      <th>reviews_per_month</th>\n",
       "      <th>calculated_host_listings_count</th>\n",
       "      <th>availability_365</th>\n",
       "    </tr>\n",
       "  </thead>\n",
       "  <tbody>\n",
       "    <tr>\n",
       "      <th>0</th>\n",
       "      <td>49091</td>\n",
       "      <td>COZICOMFORT LONG TERM STAY ROOM 2</td>\n",
       "      <td>266763</td>\n",
       "      <td>Francesca</td>\n",
       "      <td>North Region</td>\n",
       "      <td>Woodlands</td>\n",
       "      <td>1.44255</td>\n",
       "      <td>103.79580</td>\n",
       "      <td>Private room</td>\n",
       "      <td>83</td>\n",
       "      <td>180</td>\n",
       "      <td>1</td>\n",
       "      <td>2013-10-21</td>\n",
       "      <td>0.01</td>\n",
       "      <td>2</td>\n",
       "      <td>365</td>\n",
       "    </tr>\n",
       "    <tr>\n",
       "      <th>1</th>\n",
       "      <td>50646</td>\n",
       "      <td>Pleasant Room along Bukit Timah</td>\n",
       "      <td>227796</td>\n",
       "      <td>Sujatha</td>\n",
       "      <td>Central Region</td>\n",
       "      <td>Bukit Timah</td>\n",
       "      <td>1.33235</td>\n",
       "      <td>103.78521</td>\n",
       "      <td>Private room</td>\n",
       "      <td>81</td>\n",
       "      <td>90</td>\n",
       "      <td>18</td>\n",
       "      <td>2014-12-26</td>\n",
       "      <td>0.28</td>\n",
       "      <td>1</td>\n",
       "      <td>365</td>\n",
       "    </tr>\n",
       "    <tr>\n",
       "      <th>2</th>\n",
       "      <td>56334</td>\n",
       "      <td>COZICOMFORT</td>\n",
       "      <td>266763</td>\n",
       "      <td>Francesca</td>\n",
       "      <td>North Region</td>\n",
       "      <td>Woodlands</td>\n",
       "      <td>1.44246</td>\n",
       "      <td>103.79667</td>\n",
       "      <td>Private room</td>\n",
       "      <td>69</td>\n",
       "      <td>6</td>\n",
       "      <td>20</td>\n",
       "      <td>2015-10-01</td>\n",
       "      <td>0.20</td>\n",
       "      <td>2</td>\n",
       "      <td>365</td>\n",
       "    </tr>\n",
       "    <tr>\n",
       "      <th>3</th>\n",
       "      <td>71609</td>\n",
       "      <td>Ensuite Room (Room 1 &amp; 2) near EXPO</td>\n",
       "      <td>367042</td>\n",
       "      <td>Belinda</td>\n",
       "      <td>East Region</td>\n",
       "      <td>Tampines</td>\n",
       "      <td>1.34541</td>\n",
       "      <td>103.95712</td>\n",
       "      <td>Private room</td>\n",
       "      <td>206</td>\n",
       "      <td>1</td>\n",
       "      <td>14</td>\n",
       "      <td>2019-08-11</td>\n",
       "      <td>0.15</td>\n",
       "      <td>9</td>\n",
       "      <td>353</td>\n",
       "    </tr>\n",
       "    <tr>\n",
       "      <th>4</th>\n",
       "      <td>71896</td>\n",
       "      <td>B&amp;B  Room 1 near Airport &amp; EXPO</td>\n",
       "      <td>367042</td>\n",
       "      <td>Belinda</td>\n",
       "      <td>East Region</td>\n",
       "      <td>Tampines</td>\n",
       "      <td>1.34567</td>\n",
       "      <td>103.95963</td>\n",
       "      <td>Private room</td>\n",
       "      <td>94</td>\n",
       "      <td>1</td>\n",
       "      <td>22</td>\n",
       "      <td>2019-07-28</td>\n",
       "      <td>0.22</td>\n",
       "      <td>9</td>\n",
       "      <td>355</td>\n",
       "    </tr>\n",
       "    <tr>\n",
       "      <th>5</th>\n",
       "      <td>71903</td>\n",
       "      <td>Room 2-near Airport &amp; EXPO</td>\n",
       "      <td>367042</td>\n",
       "      <td>Belinda</td>\n",
       "      <td>East Region</td>\n",
       "      <td>Tampines</td>\n",
       "      <td>1.34702</td>\n",
       "      <td>103.96103</td>\n",
       "      <td>Private room</td>\n",
       "      <td>104</td>\n",
       "      <td>1</td>\n",
       "      <td>39</td>\n",
       "      <td>2019-08-15</td>\n",
       "      <td>0.38</td>\n",
       "      <td>9</td>\n",
       "      <td>346</td>\n",
       "    </tr>\n",
       "  </tbody>\n",
       "</table>\n",
       "</div>"
      ],
      "text/plain": [
       "   identity                                 name  host_id  host_name  \\\n",
       "0     49091    COZICOMFORT LONG TERM STAY ROOM 2   266763  Francesca   \n",
       "1     50646      Pleasant Room along Bukit Timah   227796    Sujatha   \n",
       "2     56334                          COZICOMFORT   266763  Francesca   \n",
       "3     71609  Ensuite Room (Room 1 & 2) near EXPO   367042    Belinda   \n",
       "4     71896      B&B  Room 1 near Airport & EXPO   367042    Belinda   \n",
       "5     71903           Room 2-near Airport & EXPO   367042    Belinda   \n",
       "\n",
       "  neighbourhood_group neighbourhood  latitude  longitude     room_type  pries  \\\n",
       "0        North Region     Woodlands   1.44255  103.79580  Private room     83   \n",
       "1      Central Region   Bukit Timah   1.33235  103.78521  Private room     81   \n",
       "2        North Region     Woodlands   1.44246  103.79667  Private room     69   \n",
       "3         East Region      Tampines   1.34541  103.95712  Private room    206   \n",
       "4         East Region      Tampines   1.34567  103.95963  Private room     94   \n",
       "5         East Region      Tampines   1.34702  103.96103  Private room    104   \n",
       "\n",
       "   minimum_nights  number_of_reviews last_review  reviews_per_month  \\\n",
       "0             180                  1  2013-10-21               0.01   \n",
       "1              90                 18  2014-12-26               0.28   \n",
       "2               6                 20  2015-10-01               0.20   \n",
       "3               1                 14  2019-08-11               0.15   \n",
       "4               1                 22  2019-07-28               0.22   \n",
       "5               1                 39  2019-08-15               0.38   \n",
       "\n",
       "   calculated_host_listings_count  availability_365  \n",
       "0                               2               365  \n",
       "1                               1               365  \n",
       "2                               2               365  \n",
       "3                               9               353  \n",
       "4                               9               355  \n",
       "5                               9               346  "
      ]
     },
     "execution_count": 169,
     "metadata": {},
     "output_type": "execute_result"
    }
   ],
   "source": [
    "data.head(6)"
   ]
  },
  {
   "cell_type": "code",
   "execution_count": 197,
   "metadata": {},
   "outputs": [],
   "source": []
  },
  {
   "cell_type": "code",
   "execution_count": 198,
   "metadata": {},
   "outputs": [
    {
     "name": "stdout",
     "output_type": "stream",
     "text": [
      "\n",
      "Do you want to look at any specific categorical columns individually? (y/n): y\n",
      "\n",
      "Enter all columns separated with space: neighbourhood room_type\n"
     ]
    },
    {
     "data": {
      "text/plain": [
       "Kallang                    1043\n",
       "Geylang                     994\n",
       "Novena                      537\n",
       "Rochor                      536\n",
       "Outram                      477\n",
       "Bukit Merah                 470\n",
       "Downtown Core               428\n",
       "Bedok                       373\n",
       "River Valley                362\n",
       "Queenstown                  266\n",
       "Tanglin                     210\n",
       "Singapore River             175\n",
       "Marine Parade               171\n",
       "Jurong West                 153\n",
       "Orchard                     136\n",
       "Newton                      134\n",
       "Bukit Timah                 131\n",
       "Jurong East                 118\n",
       "Hougang                     109\n",
       "Clementi                    102\n",
       "Toa Payoh                   101\n",
       "Pasir Ris                    71\n",
       "Serangoon                    69\n",
       "Woodlands                    67\n",
       "Sengkang                     67\n",
       "Bukit Batok                  65\n",
       "Tampines                     64\n",
       "Museum                       63\n",
       "Choa Chu Kang                63\n",
       "Ang Mo Kio                   58\n",
       "Bishan                       57\n",
       "Yishun                       53\n",
       "Punggol                      43\n",
       "Sembawang                    41\n",
       "Bukit Panjang                34\n",
       "Central Water Catchment      34\n",
       "Southern Islands             17\n",
       "Sungei Kadut                  5\n",
       "Western Water Catchment       4\n",
       "Mandai                        3\n",
       "Lim Chu Kang                  1\n",
       "Marina South                  1\n",
       "Tuas                          1\n",
       "Name: neighbourhood, dtype: int64"
      ]
     },
     "execution_count": 198,
     "metadata": {},
     "output_type": "execute_result"
    }
   ],
   "source": [
    "qCat()"
   ]
  },
  {
   "cell_type": "code",
   "execution_count": 194,
   "metadata": {},
   "outputs": [
    {
     "data": {
      "text/plain": [
       "['room_type']"
      ]
     },
     "execution_count": 194,
     "metadata": {},
     "output_type": "execute_result"
    }
   ],
   "source": []
  },
  {
   "cell_type": "code",
   "execution_count": 195,
   "metadata": {},
   "outputs": [],
   "source": []
  },
  {
   "cell_type": "code",
   "execution_count": 196,
   "metadata": {},
   "outputs": [
    {
     "data": {
      "text/plain": [
       "Entire home/apt    4132\n",
       "Private room       3381\n",
       "Shared room         394\n",
       "Name: room_type, dtype: int64"
      ]
     },
     "execution_count": 196,
     "metadata": {},
     "output_type": "execute_result"
    }
   ],
   "source": []
  },
  {
   "cell_type": "markdown",
   "metadata": {},
   "source": [
    "## alternative code"
   ]
  },
  {
   "cell_type": "code",
   "execution_count": null,
   "metadata": {},
   "outputs": [],
   "source": [
    "## 3.1.2 value_counts \n",
    "#counts the number of each single group of category and presents result in a small df\n",
    "\n",
    "def qCat():\n",
    "    inp = str(input(\"\\nDo you want to look at any specific categorical columns individually? (y/n): \"))\n",
    "    if inp in yes:\n",
    "        getInput()\n",
    "        for char in c:\n",
    "            a = data[char].value_counts()\n",
    "            return a\n",
    "    elif inp in no:\n",
    "        return\n",
    "    else:\n",
    "        sys.stdout.write(\"\"\"\\nPlease answer with \"yes\" or \"no\".\"\"\")\n",
    "        qCat()\n",
    "    \n",
    "def countCat():\n",
    "    for char in c:\n",
    "        data[char].value_counts()"
   ]
  },
  {
   "cell_type": "code",
   "execution_count": null,
   "metadata": {},
   "outputs": [],
   "source": [
    "# 2.10\n",
    "def qSave():\n",
    "    inp = str(input(\"\\nDo you want to save your cleaned data set in the working directory? (y/n): \").lower())\n",
    "    if inp in yes:\n",
    "        _____\n",
    "    elif inp in no:\n",
    "        return\n",
    "    else:\n",
    "        sys.stdout.write(\"\"\"\\nPlease answer with \"yes\" or \"no\".\"\"\")\n",
    "        qSave()"
   ]
  },
  {
   "cell_type": "markdown",
   "metadata": {},
   "source": [
    "##  working code"
   ]
  },
  {
   "cell_type": "code",
   "execution_count": null,
   "metadata": {},
   "outputs": [],
   "source": [
    "def inpt():\n",
    "    input_string = input(\"Enter ALL the columns separated with space: \")\n",
    "    global c\n",
    "    c  = input_string.split(\" \")"
   ]
  },
  {
   "cell_type": "code",
   "execution_count": null,
   "metadata": {},
   "outputs": [],
   "source": [
    "inpt()"
   ]
  },
  {
   "cell_type": "code",
   "execution_count": 43,
   "metadata": {},
   "outputs": [],
   "source": [
    "def getInput():\n",
    "    input_string = input(\"\\nEnter all columns separated with space: \")\n",
    "    global c\n",
    "    c.clear()\n",
    "    c  = input_string.split(\" \")\n",
    "    for char in c: \n",
    "        if char not in columns:\n",
    "            print(char, \"is not given in data set. Please retry!\")\n",
    "            c.clear()\n",
    "            getInput()\n",
    "    return  "
   ]
  },
  {
   "cell_type": "code",
   "execution_count": null,
   "metadata": {
    "scrolled": true
   },
   "outputs": [],
   "source": [
    "getInput()"
   ]
  },
  {
   "cell_type": "code",
   "execution_count": 35,
   "metadata": {},
   "outputs": [],
   "source": [
    "def qRemove():\n",
    "    inp = str(input(\"\\nWould you like to remove columns from your data set? (y/n): \").lower())\n",
    "    if inp in yes:\n",
    "        getInput()\n",
    "        global data\n",
    "        data = data.drop(c, axis = 1) # axis = 1 --> column\n",
    "        for char in c:\n",
    "            print(char, \"has been removed from the data set!\")\n",
    "        return\n",
    "    elif inp in no:\n",
    "        return\n",
    "    else:\n",
    "        sys.stdout.write(\"\"\"\\nPlease answer with \"yes\" or \"no\".\"\"\")\n",
    "        qRemove()\n",
    "    return"
   ]
  },
  {
   "cell_type": "code",
   "execution_count": 36,
   "metadata": {
    "scrolled": true
   },
   "outputs": [
    {
     "name": "stdout",
     "output_type": "stream",
     "text": [
      "\n",
      "Would you like to remove columns from your data set? (y/n): y\n",
      "\n",
      "Enter all columns separated with space: date gaga\n",
      "date is not given in data set. Please retry!\n",
      "\n",
      "Enter all columns separated with space: name gaga \n",
      "gaga is not given in data set. Please retry!\n",
      "\n",
      "Enter all columns separated with space: name host_id\n",
      "\n",
      "name has been removed from the data set!\n",
      "\n",
      "host_id has been removed from the data set!\n"
     ]
    }
   ],
   "source": [
    "qRemove()"
   ]
  },
  {
   "cell_type": "code",
   "execution_count": 5,
   "metadata": {},
   "outputs": [],
   "source": [
    "## 2.9 remove duplicates\n",
    "\n",
    "def Key():\n",
    "    key = input(\"\\nWhat column is the primary key of your data set?: \")\n",
    "    if key not in columns:\n",
    "        print(\"\\nThere is no such column. Please try again!\")\n",
    "        Key()\n",
    "    else:\n",
    "        return key"
   ]
  },
  {
   "cell_type": "code",
   "execution_count": null,
   "metadata": {
    "scrolled": true
   },
   "outputs": [],
   "source": []
  },
  {
   "cell_type": "code",
   "execution_count": 16,
   "metadata": {},
   "outputs": [],
   "source": [
    "def removeDupl():\n",
    "    inp = str(input(\"\\nDo you want to remove the duplicates from your data set? (y/n): \").lower())\n",
    "    if inp in yes:\n",
    "        global data\n",
    "        data = data.drop_duplicates(key)\n",
    "        print(\"\\nThe duplicates have been removed.\")\n",
    "        return\n",
    "    elif inp in no:\n",
    "        return \n",
    "    else:\n",
    "        sys.stdout.write(\"\"\"\\nPlease answer with \"yes\" or \"no\".\"\"\")\n",
    "        removeDupl()\n",
    "    return"
   ]
  },
  {
   "cell_type": "code",
   "execution_count": 20,
   "metadata": {},
   "outputs": [],
   "source": [
    "def qDuplicates():\n",
    "    inp = str(input(\"\\nDo you want to check for duplicates in your data set?  (y/n): \").lower())\n",
    "    if inp in yes:\n",
    "        key = Key()\n",
    "        duplications = sum(data.duplicated(key))\n",
    "        print(\"There are\", duplications, \"duplicates in your data set.\")\n",
    "        if duplications == 0:\n",
    "            return\n",
    "        else:\n",
    "            removeDupl()\n",
    "    elif inp in no: \n",
    "        return\n",
    "    else:\n",
    "        sys.stdout.write(\"\"\"\\nPlease answer with \"yes\" or \"no\".\"\"\")\n",
    "        qDuplicates()  \n",
    "    return"
   ]
  },
  {
   "cell_type": "code",
   "execution_count": 22,
   "metadata": {},
   "outputs": [],
   "source": [
    "key =[]"
   ]
  },
  {
   "cell_type": "code",
   "execution_count": 24,
   "metadata": {
    "scrolled": true
   },
   "outputs": [
    {
     "name": "stdout",
     "output_type": "stream",
     "text": [
      "\n",
      "Do you want to check for duplicates in your data set?  (y/n): y\n",
      "\n",
      "What column is the primary key of your data set?: po\n",
      "\n",
      "There is no such column. Please try again!\n",
      "\n",
      "What column is the primary key of your data set?: pwp\n",
      "\n",
      "There is no such column. Please try again!\n",
      "\n",
      "What column is the primary key of your data set?: id\n",
      "There are 3 duplicates in your data set.\n",
      "\n",
      "Do you want to remove the duplicates from your data set? (y/n): y\n"
     ]
    },
    {
     "ename": "ValueError",
     "evalue": "not enough values to unpack (expected 2, got 0)",
     "output_type": "error",
     "traceback": [
      "\u001b[0;31m---------------------------------------------------------------------------\u001b[0m",
      "\u001b[0;31mValueError\u001b[0m                                Traceback (most recent call last)",
      "\u001b[0;32m<ipython-input-24-9b4541a767dc>\u001b[0m in \u001b[0;36m<module>\u001b[0;34m\u001b[0m\n\u001b[0;32m----> 1\u001b[0;31m \u001b[0mqDuplicates\u001b[0m\u001b[0;34m(\u001b[0m\u001b[0;34m)\u001b[0m\u001b[0;34m\u001b[0m\u001b[0;34m\u001b[0m\u001b[0m\n\u001b[0m\u001b[1;32m      2\u001b[0m \u001b[0mdata\u001b[0m\u001b[0;34m.\u001b[0m\u001b[0mtail\u001b[0m\u001b[0;34m(\u001b[0m\u001b[0;34m)\u001b[0m\u001b[0;34m\u001b[0m\u001b[0;34m\u001b[0m\u001b[0m\n\u001b[1;32m      3\u001b[0m \u001b[0;34m\u001b[0m\u001b[0m\n",
      "\u001b[0;32m<ipython-input-20-6da986e5d7e3>\u001b[0m in \u001b[0;36mqDuplicates\u001b[0;34m()\u001b[0m\n\u001b[1;32m      8\u001b[0m             \u001b[0;32mreturn\u001b[0m\u001b[0;34m\u001b[0m\u001b[0;34m\u001b[0m\u001b[0m\n\u001b[1;32m      9\u001b[0m         \u001b[0;32melse\u001b[0m\u001b[0;34m:\u001b[0m\u001b[0;34m\u001b[0m\u001b[0;34m\u001b[0m\u001b[0m\n\u001b[0;32m---> 10\u001b[0;31m             \u001b[0mremoveDupl\u001b[0m\u001b[0;34m(\u001b[0m\u001b[0;34m)\u001b[0m\u001b[0;34m\u001b[0m\u001b[0;34m\u001b[0m\u001b[0m\n\u001b[0m\u001b[1;32m     11\u001b[0m     \u001b[0;32melif\u001b[0m \u001b[0minp\u001b[0m \u001b[0;32min\u001b[0m \u001b[0mno\u001b[0m\u001b[0;34m:\u001b[0m\u001b[0;34m\u001b[0m\u001b[0;34m\u001b[0m\u001b[0m\n\u001b[1;32m     12\u001b[0m         \u001b[0;32mreturn\u001b[0m\u001b[0;34m\u001b[0m\u001b[0;34m\u001b[0m\u001b[0m\n",
      "\u001b[0;32m<ipython-input-16-11985cba5870>\u001b[0m in \u001b[0;36mremoveDupl\u001b[0;34m()\u001b[0m\n\u001b[1;32m      3\u001b[0m     \u001b[0;32mif\u001b[0m \u001b[0minp\u001b[0m \u001b[0;32min\u001b[0m \u001b[0myes\u001b[0m\u001b[0;34m:\u001b[0m\u001b[0;34m\u001b[0m\u001b[0;34m\u001b[0m\u001b[0m\n\u001b[1;32m      4\u001b[0m         \u001b[0;32mglobal\u001b[0m \u001b[0mdata\u001b[0m\u001b[0;34m\u001b[0m\u001b[0;34m\u001b[0m\u001b[0m\n\u001b[0;32m----> 5\u001b[0;31m         \u001b[0mdata\u001b[0m \u001b[0;34m=\u001b[0m \u001b[0mdata\u001b[0m\u001b[0;34m.\u001b[0m\u001b[0mdrop_duplicates\u001b[0m\u001b[0;34m(\u001b[0m\u001b[0mkey\u001b[0m\u001b[0;34m)\u001b[0m\u001b[0;34m\u001b[0m\u001b[0;34m\u001b[0m\u001b[0m\n\u001b[0m\u001b[1;32m      6\u001b[0m         \u001b[0mprint\u001b[0m\u001b[0;34m(\u001b[0m\u001b[0;34m\"\\nThe duplicates have been removed.\"\u001b[0m\u001b[0;34m)\u001b[0m\u001b[0;34m\u001b[0m\u001b[0;34m\u001b[0m\u001b[0m\n\u001b[1;32m      7\u001b[0m         \u001b[0;32mreturn\u001b[0m\u001b[0;34m\u001b[0m\u001b[0;34m\u001b[0m\u001b[0m\n",
      "\u001b[0;32m~/opt/anaconda3/lib/python3.7/site-packages/pandas/core/frame.py\u001b[0m in \u001b[0;36mdrop_duplicates\u001b[0;34m(self, subset, keep, inplace, ignore_index)\u001b[0m\n\u001b[1;32m   4809\u001b[0m \u001b[0;34m\u001b[0m\u001b[0m\n\u001b[1;32m   4810\u001b[0m         \u001b[0minplace\u001b[0m \u001b[0;34m=\u001b[0m \u001b[0mvalidate_bool_kwarg\u001b[0m\u001b[0;34m(\u001b[0m\u001b[0minplace\u001b[0m\u001b[0;34m,\u001b[0m \u001b[0;34m\"inplace\"\u001b[0m\u001b[0;34m)\u001b[0m\u001b[0;34m\u001b[0m\u001b[0;34m\u001b[0m\u001b[0m\n\u001b[0;32m-> 4811\u001b[0;31m         \u001b[0mduplicated\u001b[0m \u001b[0;34m=\u001b[0m \u001b[0mself\u001b[0m\u001b[0;34m.\u001b[0m\u001b[0mduplicated\u001b[0m\u001b[0;34m(\u001b[0m\u001b[0msubset\u001b[0m\u001b[0;34m,\u001b[0m \u001b[0mkeep\u001b[0m\u001b[0;34m=\u001b[0m\u001b[0mkeep\u001b[0m\u001b[0;34m)\u001b[0m\u001b[0;34m\u001b[0m\u001b[0;34m\u001b[0m\u001b[0m\n\u001b[0m\u001b[1;32m   4812\u001b[0m \u001b[0;34m\u001b[0m\u001b[0m\n\u001b[1;32m   4813\u001b[0m         \u001b[0;32mif\u001b[0m \u001b[0minplace\u001b[0m\u001b[0;34m:\u001b[0m\u001b[0;34m\u001b[0m\u001b[0;34m\u001b[0m\u001b[0m\n",
      "\u001b[0;32m~/opt/anaconda3/lib/python3.7/site-packages/pandas/core/frame.py\u001b[0m in \u001b[0;36mduplicated\u001b[0;34m(self, subset, keep)\u001b[0m\n\u001b[1;32m   4886\u001b[0m \u001b[0;34m\u001b[0m\u001b[0m\n\u001b[1;32m   4887\u001b[0m         \u001b[0mvals\u001b[0m \u001b[0;34m=\u001b[0m \u001b[0;34m(\u001b[0m\u001b[0mcol\u001b[0m\u001b[0;34m.\u001b[0m\u001b[0mvalues\u001b[0m \u001b[0;32mfor\u001b[0m \u001b[0mname\u001b[0m\u001b[0;34m,\u001b[0m \u001b[0mcol\u001b[0m \u001b[0;32min\u001b[0m \u001b[0mself\u001b[0m\u001b[0;34m.\u001b[0m\u001b[0mitems\u001b[0m\u001b[0;34m(\u001b[0m\u001b[0;34m)\u001b[0m \u001b[0;32mif\u001b[0m \u001b[0mname\u001b[0m \u001b[0;32min\u001b[0m \u001b[0msubset\u001b[0m\u001b[0;34m)\u001b[0m\u001b[0;34m\u001b[0m\u001b[0;34m\u001b[0m\u001b[0m\n\u001b[0;32m-> 4888\u001b[0;31m         \u001b[0mlabels\u001b[0m\u001b[0;34m,\u001b[0m \u001b[0mshape\u001b[0m \u001b[0;34m=\u001b[0m \u001b[0mmap\u001b[0m\u001b[0;34m(\u001b[0m\u001b[0mlist\u001b[0m\u001b[0;34m,\u001b[0m \u001b[0mzip\u001b[0m\u001b[0;34m(\u001b[0m\u001b[0;34m*\u001b[0m\u001b[0mmap\u001b[0m\u001b[0;34m(\u001b[0m\u001b[0mf\u001b[0m\u001b[0;34m,\u001b[0m \u001b[0mvals\u001b[0m\u001b[0;34m)\u001b[0m\u001b[0;34m)\u001b[0m\u001b[0;34m)\u001b[0m\u001b[0;34m\u001b[0m\u001b[0;34m\u001b[0m\u001b[0m\n\u001b[0m\u001b[1;32m   4889\u001b[0m \u001b[0;34m\u001b[0m\u001b[0m\n\u001b[1;32m   4890\u001b[0m         \u001b[0mids\u001b[0m \u001b[0;34m=\u001b[0m \u001b[0mget_group_index\u001b[0m\u001b[0;34m(\u001b[0m\u001b[0mlabels\u001b[0m\u001b[0;34m,\u001b[0m \u001b[0mshape\u001b[0m\u001b[0;34m,\u001b[0m \u001b[0msort\u001b[0m\u001b[0;34m=\u001b[0m\u001b[0;32mFalse\u001b[0m\u001b[0;34m,\u001b[0m \u001b[0mxnull\u001b[0m\u001b[0;34m=\u001b[0m\u001b[0;32mFalse\u001b[0m\u001b[0;34m)\u001b[0m\u001b[0;34m\u001b[0m\u001b[0;34m\u001b[0m\u001b[0m\n",
      "\u001b[0;31mValueError\u001b[0m: not enough values to unpack (expected 2, got 0)"
     ]
    }
   ],
   "source": [
    "qDuplicates()\n",
    "data.tail()\n",
    "\n"
   ]
  },
  {
   "cell_type": "code",
   "execution_count": null,
   "metadata": {},
   "outputs": [],
   "source": [
    "key = Key()\n",
    "qDuplicates()"
   ]
  },
  {
   "cell_type": "code",
   "execution_count": null,
   "metadata": {},
   "outputs": [],
   "source": [
    "## 2.7 remove NA values\n",
    "\n",
    "# get input of user if he wants to delete all the rows including null values \n",
    "\n",
    "\n",
    "listing = listing.dropna(how =\"any\", axis=0) # axis = 0 --> row"
   ]
  },
  {
   "cell_type": "code",
   "execution_count": null,
   "metadata": {},
   "outputs": [],
   "source": [
    "def qDrop():\n",
    "    inp = str(input(\"\\nDo you want to remove the null values? (y/n): \").lower())\n",
    "    if inp in yes:\n",
    "        global data\n",
    "        data = data.dropna(how=\"any\", axis=0) # axis = 0 --> row\n",
    "        print(\"\\nNull values have been removed.\")\n",
    "    elif inp in no:\n",
    "        return      \n",
    "    else:\n",
    "        sys.stdout.write(\"Please respond with 'yes' or 'no'\")\n",
    "        qDrop()"
   ]
  },
  {
   "cell_type": "code",
   "execution_count": null,
   "metadata": {},
   "outputs": [],
   "source": [
    "qDrop()"
   ]
  },
  {
   "cell_type": "code",
   "execution_count": null,
   "metadata": {},
   "outputs": [],
   "source": [
    "## 2.4 Transforming data types\n",
    "\n",
    "# ask if there are any data types that don't seem to be correct\n",
    "# we will need to get input from user and assign values which need to be transformed to lists\n",
    "# object -> int64  (.apply(lambda x: int(x)))\n",
    "# object -> float64 (.apply(lambda x: float(x)))\n",
    "# int64 or float64 --> object (.apply(lambda x: str(x))))\n",
    "\n",
    "# we need to check if the columns have been correctly written or if there are spelling mistakes!\n",
    "# don't know how to implement this as of yet \n",
    "# but main question probably is: does input exist/is equal to our given variables? \n",
    "\n",
    "# we need to loop each list, for the chance of multiple entries per list. \n",
    "\n",
    "#define category change function\n",
    "def inpCat():\n",
    "    inp =str(input(\"\\nAre there columns that need to be changed into character type? (y/n): \").lower())\n",
    "    if inp in yes:\n",
    "        getInput()\n",
    "        for char in c:\n",
    "            global data\n",
    "            data[char] = data[char].astype(str)\n",
    "            print(char, \"has been changed to character!\")\n",
    "        return\n",
    "    elif inp in no:\n",
    "        return\n",
    "    else: \n",
    "        sys.stdout.write(\"\"\"\\nPlease answer with \"yes\" or \"no\".\"\"\")\n",
    "        inpCat()\n",
    "        \n",
    "# define float change function\n",
    "def inpNum():\n",
    "    inp = str(input(\"\\nAre there columns that need to be changed into numeric? (y/n): \").lower())\n",
    "    if inp in yes:\n",
    "        getInput()\n",
    "        for char in c:\n",
    "            global data\n",
    "            data[char] = pd.to_numeric(data[char])\n",
    "            print(char, \"has been changed to numeric!\")\n",
    "        return\n",
    "    elif inp in no:\n",
    "        return\n",
    "    else: \n",
    "        sys.stdout.write(\"\"\"\\nPlease answer with \"yes\" or \"no\".\"\"\")\n",
    "        inpNum()      \n",
    "\n",
    "\n",
    "#define date change function\n",
    "def inpDate():\n",
    "    inp = str(input(\"\\nAre there columns that need to be changed into date? (y/n): \").lower())\n",
    "    if inp in yes:\n",
    "        getInput()\n",
    "        for char in c:\n",
    "            try:\n",
    "                dateFormat =str(input(\"\\nFor \" + str(char) + \", please enter the correct format of the date (eg. %Y-%m-%d): \"))\n",
    "                global data\n",
    "                data[char] = pd.to_datetime(data[char], format=dateFormat)\n",
    "                print(char, \"has been changed to date!\")\n",
    "            except ValueError:\n",
    "                print(\"Time data does not match format\", dateFormat +\". Insert correct format!\\nTry again!\")\n",
    "                inpDate()\n",
    "        return\n",
    "    elif inp in no:\n",
    "        return\n",
    "    else: \n",
    "        sys.stdout.write(\"\"\"\\nPlease answer with \"yes\" or \"no\".\"\"\")\n",
    "        inpDate()\n",
    "    \n",
    "# define Transform function\n",
    "def qTransform():\n",
    "    inp = str(input(\"\\nAre there any columns in the wrong format that need to be changed? (y/n): ?\").lower())\n",
    "    if inp in yes:\n",
    "        inpCat()\n",
    "        inpNum()\n",
    "        inpDate()\n",
    "        print(\"See your corrected table below\")\n",
    "        data.dtypes\n",
    "        qTransform()\n",
    "        return\n",
    "    elif inp in no:\n",
    "        return\n",
    "    else:\n",
    "        sys.stdout.write(\"\"\"\\nPlease answer with \"yes\" or \"no\".\"\"\")\n",
    "        qTransform()\n",
    "    return\n",
    "    \n",
    "\n"
   ]
  },
  {
   "cell_type": "code",
   "execution_count": null,
   "metadata": {},
   "outputs": [],
   "source": [
    "## 2.8 Renaming columns \n",
    "# define function to ask if user wants to rename columns\n",
    "def qRename():\n",
    "    inp = str(input(\"\\nDo you want to rename columns? (y/n): \").lower())\n",
    "    if inp in yes:\n",
    "        getInput()\n",
    "        for char in c:\n",
    "            global data\n",
    "            newname_input = str(input(\"\\nHow do you want to rename the column \" + str(char) + \"?: \"))\n",
    "            data = data.rename(columns = {char: newname_input})\n",
    "            print(str(char) +\" has been renamed to \" + str(newname_input)+\"!\")\n",
    "    elif inp in no:\n",
    "        return      \n",
    "    else:\n",
    "        sys.stdout.write(\"Please respond with 'yes' or 'no'\")\n",
    "        qRename()"
   ]
  },
  {
   "cell_type": "code",
   "execution_count": null,
   "metadata": {},
   "outputs": [],
   "source": []
  },
  {
   "cell_type": "markdown",
   "metadata": {},
   "source": [
    "## old code\n"
   ]
  },
  {
   "cell_type": "code",
   "execution_count": null,
   "metadata": {},
   "outputs": [],
   "source": []
  },
  {
   "cell_type": "code",
   "execution_count": null,
   "metadata": {},
   "outputs": [],
   "source": []
  },
  {
   "cell_type": "code",
   "execution_count": null,
   "metadata": {},
   "outputs": [],
   "source": []
  },
  {
   "cell_type": "code",
   "execution_count": null,
   "metadata": {},
   "outputs": [],
   "source": []
  },
  {
   "cell_type": "code",
   "execution_count": null,
   "metadata": {},
   "outputs": [],
   "source": []
  },
  {
   "cell_type": "code",
   "execution_count": null,
   "metadata": {},
   "outputs": [],
   "source": [
    "## 2.9 check for duplicates \n",
    "\n",
    "# To get rid of duplicates I here checked if the *key* appears more than once (here: \"id\" of airbnb offers)\n",
    "# A key in a data set is a variable which is unique. In other words, the key is the value whith which\n",
    "# you can access each single observation. \n",
    "# Thus for our program we will need to ask the user for the key. The user must know this key! \n",
    "# The program hasn't got the intelligence to figure it out by itself. \n",
    "\n",
    "def removeDupl():\n",
    "    inp = str(input(\"\\nDo you want to remove the duplicates from your data set? (y/n): \").lower())\n",
    "    if inp in yes:\n",
    "        global data\n",
    "        global key\n",
    "        data.drop_duplicates(key)\n",
    "        print(\"\\nThe duplicates have been removed.\")\n",
    "    elif inp in no:\n",
    "        return \n",
    "    else:\n",
    "        sys.stdout.write(\"Please respond with 'yes' or 'no'\")\n",
    "        removeDupl()\n",
    "    return\n",
    "\n",
    "\n",
    "def qKey():\n",
    "    key = input(\"\\nWhat column is the primary key of your data set?: \")\n",
    "    if key in columns: \n",
    "        duplications = sum(data.duplicated(key))\n",
    "        print(\"There are\", duplications, \"duplicates in your data set.\")\n",
    "        if duplications == 0:\n",
    "            return\n",
    "        else:\n",
    "            removeDupl()\n",
    "    else:\n",
    "        print(\"\\nThere is no such column. Please try again!\")\n",
    "        qKey()\n",
    "\n",
    "\n",
    "def qDuplicates():\n",
    "    inp = str(input(\"\\nDo you want to check for duplicates in your data set?  (y/n): \").lower())\n",
    "    if inp in yes:\n",
    "        qKey()\n",
    "    elif inp in no: \n",
    "        return\n",
    "    else:\n",
    "        sys.stdout.write(\"\"\"\\nPlease answer with \"yes\" or \"no\".\"\"\")\n",
    "        qDuplicates()  \n",
    "    return"
   ]
  },
  {
   "cell_type": "code",
   "execution_count": null,
   "metadata": {},
   "outputs": [],
   "source": []
  }
 ],
 "metadata": {
  "kernelspec": {
   "display_name": "Python 3",
   "language": "python",
   "name": "python3"
  },
  "language_info": {
   "codemirror_mode": {
    "name": "ipython",
    "version": 3
   },
   "file_extension": ".py",
   "mimetype": "text/x-python",
   "name": "python",
   "nbconvert_exporter": "python",
   "pygments_lexer": "ipython3",
   "version": "3.7.6"
  }
 },
 "nbformat": 4,
 "nbformat_minor": 4
}
