{
 "cells": [
  {
   "cell_type": "markdown",
   "metadata": {},
   "source": [
    "# Data Analytics Tool "
   ]
  },
  {
   "cell_type": "markdown",
   "metadata": {},
   "source": [
    "## Introduction\n",
    "\n",
    "This program is intended to complete a full data analyis.\n",
    "It is able to clean the data and give a descriptive analysis results all based on the users preferences.\n",
    "Any kind of csv file should be applicable."
   ]
  },
  {
   "cell_type": "markdown",
   "metadata": {},
   "source": [
    "## 1. Import of libraries and the data set "
   ]
  },
  {
   "cell_type": "code",
   "execution_count": 27,
   "metadata": {},
   "outputs": [],
   "source": [
    "## 1.1 get input \n",
    "# We need to get input for which csv file a user wants to upload. \n",
    "# with the given input we have to define a function that imports all libraries \n",
    "# and afterwards reads the data (\"read_csv\" needs pandas library imported to work!)\n",
    "\n",
    "# user needs to make sure that this python file as well as the desired csv file is located\n",
    "# in the same working directory! "
   ]
  },
  {
   "cell_type": "code",
   "execution_count": 28,
   "metadata": {},
   "outputs": [],
   "source": [
    "# 1.2 Imports\n",
    "import math\n",
    "import numpy as np\n",
    "import pandas as pd\n",
    "import scipy.stats\n",
    "import matplotlib.pyplot as plt\n",
    "plt.style.use('ggplot')\n",
    "import seaborn as sn"
   ]
  },
  {
   "cell_type": "code",
   "execution_count": 29,
   "metadata": {},
   "outputs": [],
   "source": [
    "# 1.3 read data \n",
    "listing = pd.read_csv(\"listings.csv\")"
   ]
  },
  {
   "cell_type": "markdown",
   "metadata": {},
   "source": [
    "## 2. Overview and Cleaning Data Set"
   ]
  },
  {
   "cell_type": "code",
   "execution_count": 30,
   "metadata": {
    "scrolled": true
   },
   "outputs": [
    {
     "name": "stdout",
     "output_type": "stream",
     "text": [
      "Your data set includes the following number of rows and columns: \n"
     ]
    },
    {
     "data": {
      "text/plain": [
       "(7907, 16)"
      ]
     },
     "execution_count": 30,
     "metadata": {},
     "output_type": "execute_result"
    }
   ],
   "source": [
    "## 2.1 showing max rows and columns of data set\n",
    "print(\"Your data set includes the following number of rows and columns: \")\n",
    "listing.shape"
   ]
  },
  {
   "cell_type": "code",
   "execution_count": 31,
   "metadata": {},
   "outputs": [
    {
     "name": "stdout",
     "output_type": "stream",
     "text": [
      "In the following table you can see the first and last eight observations of your data set.\n"
     ]
    },
    {
     "data": {
      "text/html": [
       "<div>\n",
       "<style scoped>\n",
       "    .dataframe tbody tr th:only-of-type {\n",
       "        vertical-align: middle;\n",
       "    }\n",
       "\n",
       "    .dataframe tbody tr th {\n",
       "        vertical-align: top;\n",
       "    }\n",
       "\n",
       "    .dataframe thead th {\n",
       "        text-align: right;\n",
       "    }\n",
       "</style>\n",
       "<table border=\"1\" class=\"dataframe\">\n",
       "  <thead>\n",
       "    <tr style=\"text-align: right;\">\n",
       "      <th></th>\n",
       "      <th>id</th>\n",
       "      <th>name</th>\n",
       "      <th>host_id</th>\n",
       "      <th>host_name</th>\n",
       "      <th>neighbourhood_group</th>\n",
       "      <th>neighbourhood</th>\n",
       "      <th>latitude</th>\n",
       "      <th>longitude</th>\n",
       "      <th>room_type</th>\n",
       "      <th>price</th>\n",
       "      <th>minimum_nights</th>\n",
       "      <th>number_of_reviews</th>\n",
       "      <th>last_review</th>\n",
       "      <th>reviews_per_month</th>\n",
       "      <th>calculated_host_listings_count</th>\n",
       "      <th>availability_365</th>\n",
       "    </tr>\n",
       "  </thead>\n",
       "  <tbody>\n",
       "    <tr>\n",
       "      <th>0</th>\n",
       "      <td>49091</td>\n",
       "      <td>COZICOMFORT LONG TERM STAY ROOM 2</td>\n",
       "      <td>266763</td>\n",
       "      <td>Francesca</td>\n",
       "      <td>North Region</td>\n",
       "      <td>Woodlands</td>\n",
       "      <td>1.44255</td>\n",
       "      <td>103.79580</td>\n",
       "      <td>Private room</td>\n",
       "      <td>83</td>\n",
       "      <td>180</td>\n",
       "      <td>1</td>\n",
       "      <td>2013-10-21</td>\n",
       "      <td>0.01</td>\n",
       "      <td>2</td>\n",
       "      <td>365</td>\n",
       "    </tr>\n",
       "    <tr>\n",
       "      <th>1</th>\n",
       "      <td>50646</td>\n",
       "      <td>Pleasant Room along Bukit Timah</td>\n",
       "      <td>227796</td>\n",
       "      <td>Sujatha</td>\n",
       "      <td>Central Region</td>\n",
       "      <td>Bukit Timah</td>\n",
       "      <td>1.33235</td>\n",
       "      <td>103.78521</td>\n",
       "      <td>Private room</td>\n",
       "      <td>81</td>\n",
       "      <td>90</td>\n",
       "      <td>18</td>\n",
       "      <td>2014-12-26</td>\n",
       "      <td>0.28</td>\n",
       "      <td>1</td>\n",
       "      <td>365</td>\n",
       "    </tr>\n",
       "    <tr>\n",
       "      <th>2</th>\n",
       "      <td>56334</td>\n",
       "      <td>COZICOMFORT</td>\n",
       "      <td>266763</td>\n",
       "      <td>Francesca</td>\n",
       "      <td>North Region</td>\n",
       "      <td>Woodlands</td>\n",
       "      <td>1.44246</td>\n",
       "      <td>103.79667</td>\n",
       "      <td>Private room</td>\n",
       "      <td>69</td>\n",
       "      <td>6</td>\n",
       "      <td>20</td>\n",
       "      <td>2015-10-01</td>\n",
       "      <td>0.20</td>\n",
       "      <td>2</td>\n",
       "      <td>365</td>\n",
       "    </tr>\n",
       "    <tr>\n",
       "      <th>3</th>\n",
       "      <td>71609</td>\n",
       "      <td>Ensuite Room (Room 1 &amp; 2) near EXPO</td>\n",
       "      <td>367042</td>\n",
       "      <td>Belinda</td>\n",
       "      <td>East Region</td>\n",
       "      <td>Tampines</td>\n",
       "      <td>1.34541</td>\n",
       "      <td>103.95712</td>\n",
       "      <td>Private room</td>\n",
       "      <td>206</td>\n",
       "      <td>1</td>\n",
       "      <td>14</td>\n",
       "      <td>2019-08-11</td>\n",
       "      <td>0.15</td>\n",
       "      <td>9</td>\n",
       "      <td>353</td>\n",
       "    </tr>\n",
       "    <tr>\n",
       "      <th>4</th>\n",
       "      <td>71896</td>\n",
       "      <td>B&amp;B  Room 1 near Airport &amp; EXPO</td>\n",
       "      <td>367042</td>\n",
       "      <td>Belinda</td>\n",
       "      <td>East Region</td>\n",
       "      <td>Tampines</td>\n",
       "      <td>1.34567</td>\n",
       "      <td>103.95963</td>\n",
       "      <td>Private room</td>\n",
       "      <td>94</td>\n",
       "      <td>1</td>\n",
       "      <td>22</td>\n",
       "      <td>2019-07-28</td>\n",
       "      <td>0.22</td>\n",
       "      <td>9</td>\n",
       "      <td>355</td>\n",
       "    </tr>\n",
       "    <tr>\n",
       "      <th>5</th>\n",
       "      <td>71903</td>\n",
       "      <td>Room 2-near Airport &amp; EXPO</td>\n",
       "      <td>367042</td>\n",
       "      <td>Belinda</td>\n",
       "      <td>East Region</td>\n",
       "      <td>Tampines</td>\n",
       "      <td>1.34702</td>\n",
       "      <td>103.96103</td>\n",
       "      <td>Private room</td>\n",
       "      <td>104</td>\n",
       "      <td>1</td>\n",
       "      <td>39</td>\n",
       "      <td>2019-08-15</td>\n",
       "      <td>0.38</td>\n",
       "      <td>9</td>\n",
       "      <td>346</td>\n",
       "    </tr>\n",
       "    <tr>\n",
       "      <th>6</th>\n",
       "      <td>71907</td>\n",
       "      <td>3rd level Jumbo room 5 near EXPO</td>\n",
       "      <td>367042</td>\n",
       "      <td>Belinda</td>\n",
       "      <td>East Region</td>\n",
       "      <td>Tampines</td>\n",
       "      <td>1.34348</td>\n",
       "      <td>103.96337</td>\n",
       "      <td>Private room</td>\n",
       "      <td>208</td>\n",
       "      <td>1</td>\n",
       "      <td>25</td>\n",
       "      <td>2019-07-25</td>\n",
       "      <td>0.25</td>\n",
       "      <td>9</td>\n",
       "      <td>172</td>\n",
       "    </tr>\n",
       "    <tr>\n",
       "      <th>7</th>\n",
       "      <td>241503</td>\n",
       "      <td>Long stay at The Breezy East \"Leopard\"</td>\n",
       "      <td>1017645</td>\n",
       "      <td>Bianca</td>\n",
       "      <td>East Region</td>\n",
       "      <td>Bedok</td>\n",
       "      <td>1.32304</td>\n",
       "      <td>103.91363</td>\n",
       "      <td>Private room</td>\n",
       "      <td>50</td>\n",
       "      <td>90</td>\n",
       "      <td>174</td>\n",
       "      <td>2019-05-31</td>\n",
       "      <td>1.88</td>\n",
       "      <td>4</td>\n",
       "      <td>59</td>\n",
       "    </tr>\n",
       "  </tbody>\n",
       "</table>\n",
       "</div>"
      ],
      "text/plain": [
       "       id                                    name  host_id  host_name  \\\n",
       "0   49091       COZICOMFORT LONG TERM STAY ROOM 2   266763  Francesca   \n",
       "1   50646         Pleasant Room along Bukit Timah   227796    Sujatha   \n",
       "2   56334                             COZICOMFORT   266763  Francesca   \n",
       "3   71609     Ensuite Room (Room 1 & 2) near EXPO   367042    Belinda   \n",
       "4   71896         B&B  Room 1 near Airport & EXPO   367042    Belinda   \n",
       "5   71903              Room 2-near Airport & EXPO   367042    Belinda   \n",
       "6   71907        3rd level Jumbo room 5 near EXPO   367042    Belinda   \n",
       "7  241503  Long stay at The Breezy East \"Leopard\"  1017645     Bianca   \n",
       "\n",
       "  neighbourhood_group neighbourhood  latitude  longitude     room_type  price  \\\n",
       "0        North Region     Woodlands   1.44255  103.79580  Private room     83   \n",
       "1      Central Region   Bukit Timah   1.33235  103.78521  Private room     81   \n",
       "2        North Region     Woodlands   1.44246  103.79667  Private room     69   \n",
       "3         East Region      Tampines   1.34541  103.95712  Private room    206   \n",
       "4         East Region      Tampines   1.34567  103.95963  Private room     94   \n",
       "5         East Region      Tampines   1.34702  103.96103  Private room    104   \n",
       "6         East Region      Tampines   1.34348  103.96337  Private room    208   \n",
       "7         East Region         Bedok   1.32304  103.91363  Private room     50   \n",
       "\n",
       "   minimum_nights  number_of_reviews last_review  reviews_per_month  \\\n",
       "0             180                  1  2013-10-21               0.01   \n",
       "1              90                 18  2014-12-26               0.28   \n",
       "2               6                 20  2015-10-01               0.20   \n",
       "3               1                 14  2019-08-11               0.15   \n",
       "4               1                 22  2019-07-28               0.22   \n",
       "5               1                 39  2019-08-15               0.38   \n",
       "6               1                 25  2019-07-25               0.25   \n",
       "7              90                174  2019-05-31               1.88   \n",
       "\n",
       "   calculated_host_listings_count  availability_365  \n",
       "0                               2               365  \n",
       "1                               1               365  \n",
       "2                               2               365  \n",
       "3                               9               353  \n",
       "4                               9               355  \n",
       "5                               9               346  \n",
       "6                               9               172  \n",
       "7                               4                59  "
      ]
     },
     "execution_count": 31,
     "metadata": {},
     "output_type": "execute_result"
    }
   ],
   "source": [
    "# 2.2 head\n",
    "\n",
    "print(\"In the following table you can see the first and last eight observations of your data set.\")\n",
    "listing.head(8)\n"
   ]
  },
  {
   "cell_type": "code",
   "execution_count": 32,
   "metadata": {
    "scrolled": true
   },
   "outputs": [
    {
     "data": {
      "text/html": [
       "<div>\n",
       "<style scoped>\n",
       "    .dataframe tbody tr th:only-of-type {\n",
       "        vertical-align: middle;\n",
       "    }\n",
       "\n",
       "    .dataframe tbody tr th {\n",
       "        vertical-align: top;\n",
       "    }\n",
       "\n",
       "    .dataframe thead th {\n",
       "        text-align: right;\n",
       "    }\n",
       "</style>\n",
       "<table border=\"1\" class=\"dataframe\">\n",
       "  <thead>\n",
       "    <tr style=\"text-align: right;\">\n",
       "      <th></th>\n",
       "      <th>id</th>\n",
       "      <th>name</th>\n",
       "      <th>host_id</th>\n",
       "      <th>host_name</th>\n",
       "      <th>neighbourhood_group</th>\n",
       "      <th>neighbourhood</th>\n",
       "      <th>latitude</th>\n",
       "      <th>longitude</th>\n",
       "      <th>room_type</th>\n",
       "      <th>price</th>\n",
       "      <th>minimum_nights</th>\n",
       "      <th>number_of_reviews</th>\n",
       "      <th>last_review</th>\n",
       "      <th>reviews_per_month</th>\n",
       "      <th>calculated_host_listings_count</th>\n",
       "      <th>availability_365</th>\n",
       "    </tr>\n",
       "  </thead>\n",
       "  <tbody>\n",
       "    <tr>\n",
       "      <th>7899</th>\n",
       "      <td>38094671</td>\n",
       "      <td>SMALL ROOM FOR ONE @SOMERSET/ORCHARD/CENTRAL AREA</td>\n",
       "      <td>262337792</td>\n",
       "      <td>Herman</td>\n",
       "      <td>Central Region</td>\n",
       "      <td>River Valley</td>\n",
       "      <td>1.29369</td>\n",
       "      <td>103.83768</td>\n",
       "      <td>Private room</td>\n",
       "      <td>33</td>\n",
       "      <td>7</td>\n",
       "      <td>0</td>\n",
       "      <td>NaN</td>\n",
       "      <td>NaN</td>\n",
       "      <td>11</td>\n",
       "      <td>359</td>\n",
       "    </tr>\n",
       "    <tr>\n",
       "      <th>7900</th>\n",
       "      <td>38102097</td>\n",
       "      <td>环境优雅的公寓</td>\n",
       "      <td>286260560</td>\n",
       "      <td>Bo</td>\n",
       "      <td>West Region</td>\n",
       "      <td>Bukit Batok</td>\n",
       "      <td>1.35654</td>\n",
       "      <td>103.76028</td>\n",
       "      <td>Private room</td>\n",
       "      <td>90</td>\n",
       "      <td>3</td>\n",
       "      <td>0</td>\n",
       "      <td>NaN</td>\n",
       "      <td>NaN</td>\n",
       "      <td>1</td>\n",
       "      <td>83</td>\n",
       "    </tr>\n",
       "    <tr>\n",
       "      <th>7901</th>\n",
       "      <td>38104971</td>\n",
       "      <td>2 PAX LOFT Close To Kent Ridge Park</td>\n",
       "      <td>278109833</td>\n",
       "      <td>Belle</td>\n",
       "      <td>Central Region</td>\n",
       "      <td>Queenstown</td>\n",
       "      <td>1.27973</td>\n",
       "      <td>103.78751</td>\n",
       "      <td>Entire home/apt</td>\n",
       "      <td>100</td>\n",
       "      <td>3</td>\n",
       "      <td>0</td>\n",
       "      <td>NaN</td>\n",
       "      <td>NaN</td>\n",
       "      <td>31</td>\n",
       "      <td>61</td>\n",
       "    </tr>\n",
       "    <tr>\n",
       "      <th>7902</th>\n",
       "      <td>38105126</td>\n",
       "      <td>Loft 2 pax near Haw Par / Pasir Panjang. Free ...</td>\n",
       "      <td>278109833</td>\n",
       "      <td>Belle</td>\n",
       "      <td>Central Region</td>\n",
       "      <td>Queenstown</td>\n",
       "      <td>1.27973</td>\n",
       "      <td>103.78751</td>\n",
       "      <td>Entire home/apt</td>\n",
       "      <td>100</td>\n",
       "      <td>3</td>\n",
       "      <td>0</td>\n",
       "      <td>NaN</td>\n",
       "      <td>NaN</td>\n",
       "      <td>31</td>\n",
       "      <td>61</td>\n",
       "    </tr>\n",
       "    <tr>\n",
       "      <th>7903</th>\n",
       "      <td>38108273</td>\n",
       "      <td>3bedroom luxury at Orchard</td>\n",
       "      <td>238891646</td>\n",
       "      <td>Neha</td>\n",
       "      <td>Central Region</td>\n",
       "      <td>Tanglin</td>\n",
       "      <td>1.29269</td>\n",
       "      <td>103.82623</td>\n",
       "      <td>Entire home/apt</td>\n",
       "      <td>550</td>\n",
       "      <td>6</td>\n",
       "      <td>0</td>\n",
       "      <td>NaN</td>\n",
       "      <td>NaN</td>\n",
       "      <td>34</td>\n",
       "      <td>365</td>\n",
       "    </tr>\n",
       "    <tr>\n",
       "      <th>7904</th>\n",
       "      <td>38109336</td>\n",
       "      <td>[ Farrer Park ] New City Fringe CBD Mins to MRT</td>\n",
       "      <td>281448565</td>\n",
       "      <td>Mindy</td>\n",
       "      <td>Central Region</td>\n",
       "      <td>Kallang</td>\n",
       "      <td>1.31286</td>\n",
       "      <td>103.85996</td>\n",
       "      <td>Private room</td>\n",
       "      <td>58</td>\n",
       "      <td>30</td>\n",
       "      <td>0</td>\n",
       "      <td>NaN</td>\n",
       "      <td>NaN</td>\n",
       "      <td>3</td>\n",
       "      <td>173</td>\n",
       "    </tr>\n",
       "    <tr>\n",
       "      <th>7905</th>\n",
       "      <td>38110493</td>\n",
       "      <td>Cheap Master Room in Central of Singapore</td>\n",
       "      <td>243835202</td>\n",
       "      <td>Huang</td>\n",
       "      <td>Central Region</td>\n",
       "      <td>River Valley</td>\n",
       "      <td>1.29543</td>\n",
       "      <td>103.83801</td>\n",
       "      <td>Private room</td>\n",
       "      <td>56</td>\n",
       "      <td>14</td>\n",
       "      <td>0</td>\n",
       "      <td>NaN</td>\n",
       "      <td>NaN</td>\n",
       "      <td>2</td>\n",
       "      <td>30</td>\n",
       "    </tr>\n",
       "    <tr>\n",
       "      <th>7906</th>\n",
       "      <td>38112762</td>\n",
       "      <td>Amazing room with private bathroom walk to Orc...</td>\n",
       "      <td>28788520</td>\n",
       "      <td>Terence</td>\n",
       "      <td>Central Region</td>\n",
       "      <td>River Valley</td>\n",
       "      <td>1.29672</td>\n",
       "      <td>103.83325</td>\n",
       "      <td>Private room</td>\n",
       "      <td>65</td>\n",
       "      <td>90</td>\n",
       "      <td>0</td>\n",
       "      <td>NaN</td>\n",
       "      <td>NaN</td>\n",
       "      <td>7</td>\n",
       "      <td>365</td>\n",
       "    </tr>\n",
       "  </tbody>\n",
       "</table>\n",
       "</div>"
      ],
      "text/plain": [
       "            id                                               name    host_id  \\\n",
       "7899  38094671  SMALL ROOM FOR ONE @SOMERSET/ORCHARD/CENTRAL AREA  262337792   \n",
       "7900  38102097                                            环境优雅的公寓  286260560   \n",
       "7901  38104971                2 PAX LOFT Close To Kent Ridge Park  278109833   \n",
       "7902  38105126  Loft 2 pax near Haw Par / Pasir Panjang. Free ...  278109833   \n",
       "7903  38108273                         3bedroom luxury at Orchard  238891646   \n",
       "7904  38109336    [ Farrer Park ] New City Fringe CBD Mins to MRT  281448565   \n",
       "7905  38110493          Cheap Master Room in Central of Singapore  243835202   \n",
       "7906  38112762  Amazing room with private bathroom walk to Orc...   28788520   \n",
       "\n",
       "     host_name neighbourhood_group neighbourhood  latitude  longitude  \\\n",
       "7899    Herman      Central Region  River Valley   1.29369  103.83768   \n",
       "7900        Bo         West Region   Bukit Batok   1.35654  103.76028   \n",
       "7901     Belle      Central Region    Queenstown   1.27973  103.78751   \n",
       "7902     Belle      Central Region    Queenstown   1.27973  103.78751   \n",
       "7903      Neha      Central Region       Tanglin   1.29269  103.82623   \n",
       "7904     Mindy      Central Region       Kallang   1.31286  103.85996   \n",
       "7905     Huang      Central Region  River Valley   1.29543  103.83801   \n",
       "7906   Terence      Central Region  River Valley   1.29672  103.83325   \n",
       "\n",
       "            room_type  price  minimum_nights  number_of_reviews last_review  \\\n",
       "7899     Private room     33               7                  0         NaN   \n",
       "7900     Private room     90               3                  0         NaN   \n",
       "7901  Entire home/apt    100               3                  0         NaN   \n",
       "7902  Entire home/apt    100               3                  0         NaN   \n",
       "7903  Entire home/apt    550               6                  0         NaN   \n",
       "7904     Private room     58              30                  0         NaN   \n",
       "7905     Private room     56              14                  0         NaN   \n",
       "7906     Private room     65              90                  0         NaN   \n",
       "\n",
       "      reviews_per_month  calculated_host_listings_count  availability_365  \n",
       "7899                NaN                              11               359  \n",
       "7900                NaN                               1                83  \n",
       "7901                NaN                              31                61  \n",
       "7902                NaN                              31                61  \n",
       "7903                NaN                              34               365  \n",
       "7904                NaN                               3               173  \n",
       "7905                NaN                               2                30  \n",
       "7906                NaN                               7               365  "
      ]
     },
     "execution_count": 32,
     "metadata": {},
     "output_type": "execute_result"
    }
   ],
   "source": [
    "# & tail\n",
    "listing.tail(8)"
   ]
  },
  {
   "cell_type": "code",
   "execution_count": 33,
   "metadata": {
    "scrolled": false
   },
   "outputs": [
    {
     "name": "stdout",
     "output_type": "stream",
     "text": [
      "In the table below you will find more specific information about your data set:\n",
      "(int64\" and \"float64\" stands for numeric data, whereas \"object\" denotes categorical data)\n",
      "\n"
     ]
    },
    {
     "data": {
      "text/plain": [
       "id                                  int64\n",
       "name                               object\n",
       "host_id                             int64\n",
       "host_name                          object\n",
       "neighbourhood_group                object\n",
       "neighbourhood                      object\n",
       "latitude                          float64\n",
       "longitude                         float64\n",
       "room_type                          object\n",
       "price                               int64\n",
       "minimum_nights                      int64\n",
       "number_of_reviews                   int64\n",
       "last_review                        object\n",
       "reviews_per_month                 float64\n",
       "calculated_host_listings_count      int64\n",
       "availability_365                    int64\n",
       "dtype: object"
      ]
     },
     "execution_count": 33,
     "metadata": {},
     "output_type": "execute_result"
    }
   ],
   "source": [
    "## 2.3 get further details of the data types \n",
    "\n",
    "print(\"\"\"In the table below you will find more specific information about your data set:\n",
    "(int64\" and \"float64\" stands for numeric data, whereas \"object\" denotes categorical data)\\n\"\"\")\n",
    "\n",
    "listing.dtypes\n",
    "\n",
    "# int64 and float64 stands for numeric data, where as object denotes categorical data.\n",
    "# We see that host_id is saved as a integer, yet we will need to categorize this value for our analysis\n"
   ]
  },
  {
   "cell_type": "code",
   "execution_count": 34,
   "metadata": {},
   "outputs": [],
   "source": [
    "## 2.4 Transforming data types\n",
    "\n",
    "# ask if there are any data types that don't seem to be correct\n",
    "# we will need to get input from user and assign values which need to be transformed to lists\n",
    "# object -> int64  (.apply(lambda x: int(x)))\n",
    "# object -> float64 (.apply(lambda x: float(x)))\n",
    "# int64 or float64 --> object (.apply(lambda x: str(x))))\n",
    "\n",
    "# we need to check if the columns have been correctly written or if there are spelling mistakes!\n",
    "# don't know how to implement this as of yet \n",
    "# but main question probably is: does input exist/is equal to our given variables? \n",
    "\n",
    "\n",
    "# we need to loop each list, for the chance of multiple entries per list. \n",
    "\n",
    "\n",
    "\n",
    "# transform id and host_id into categorical values\n",
    "listing[\"id\"] = listing.id.apply(lambda x: str(x))\n",
    "listing[\"host_id\"] = listing.host_id.apply(lambda x: str(x))\n",
    "\n",
    "\n",
    "## we need to loop this function by asking if everything is correct by presenting him data types again\n",
    "## \n",
    "# input(\"\\nPlease inspect if your columns possess the correct type and give us your approval:\n",
    "# listing.dtypes"
   ]
  },
  {
   "cell_type": "code",
   "execution_count": 35,
   "metadata": {
    "scrolled": true
   },
   "outputs": [],
   "source": [
    "## 2.5 removing columns\n",
    "\n",
    "# next step is to ask if user wants to delete columns\n",
    "# again we need to check if user has typed the names correctly!\n",
    "\n",
    "listing = listing.drop([\"name\", \"host_name\", \"last_review\"], axis = 1) # axis = 1 --> column"
   ]
  },
  {
   "cell_type": "code",
   "execution_count": 36,
   "metadata": {},
   "outputs": [],
   "source": [
    "## 2.5.(1/2) mutate columns\n",
    "\n",
    "# ask if user wants to mutate and add new columns to its data frame\n",
    "\n"
   ]
  },
  {
   "cell_type": "code",
   "execution_count": 37,
   "metadata": {},
   "outputs": [
    {
     "name": "stdout",
     "output_type": "stream",
     "text": [
      "In the next table the number of null values for each variable are revealed.\n"
     ]
    },
    {
     "data": {
      "text/plain": [
       "id                                   0\n",
       "host_id                              0\n",
       "neighbourhood_group                  0\n",
       "neighbourhood                        0\n",
       "latitude                             0\n",
       "longitude                            0\n",
       "room_type                            0\n",
       "price                                0\n",
       "minimum_nights                       0\n",
       "number_of_reviews                    0\n",
       "reviews_per_month                 2758\n",
       "calculated_host_listings_count       0\n",
       "availability_365                     0\n",
       "dtype: int64"
      ]
     },
     "execution_count": 37,
     "metadata": {},
     "output_type": "execute_result"
    }
   ],
   "source": [
    "## 2.6 count number of null values\n",
    "\n",
    "print(\"In the next table the number of null values for each variable are revealed.\")\n",
    "\n",
    "listing.isnull().sum()"
   ]
  },
  {
   "cell_type": "code",
   "execution_count": 38,
   "metadata": {},
   "outputs": [],
   "source": [
    "## 2.7 remove NA values\n",
    "\n",
    "# get input of user if he wants to delete all the rows including null values \n",
    "\n",
    "listing = listing.dropna(how =\"any\", axis=0) # axis = 0 --> row"
   ]
  },
  {
   "cell_type": "code",
   "execution_count": 39,
   "metadata": {},
   "outputs": [],
   "source": [
    "## 2.8 Renaming columns\n",
    "\n",
    "# again we ask which columns user wants to rename\n",
    "# check again if correctly typed\n",
    "\n",
    "# rename column \"calculated_host_listings_count\"\n",
    "listing = listing.rename(columns={\"calculated_host_listings_count\": \"listings_count\"})"
   ]
  },
  {
   "cell_type": "code",
   "execution_count": 40,
   "metadata": {},
   "outputs": [
    {
     "name": "stdout",
     "output_type": "stream",
     "text": [
      "We have 0 duplications of Airbnb offers.\n"
     ]
    }
   ],
   "source": [
    "# 2.9 check for duplicates \n",
    "\n",
    "# To get rid of duplicates I here checked if the *key* appears more than once (here: \"id\" of airbnb offers)\n",
    "# A key in a data set is a variable which is unique. In other words, the key is the value whith which\n",
    "# you can access each single observation. \n",
    "# Thus for our program we will need to ask the user for the key. The user must know this key! \n",
    "# The program hasn't got the intelligence to figure it out by itself. \n",
    "\n",
    "duplications = sum(listing.duplicated(\"id\"))\n",
    "print(\"We have\", duplications, \"duplications of Airbnb offers.\")"
   ]
  },
  {
   "cell_type": "code",
   "execution_count": 41,
   "metadata": {
    "scrolled": true
   },
   "outputs": [],
   "source": [
    "# 2.10 deleted "
   ]
  },
  {
   "cell_type": "code",
   "execution_count": 42,
   "metadata": {
    "scrolled": false
   },
   "outputs": [
    {
     "name": "stdout",
     "output_type": "stream",
     "text": [
      "\n",
      "Please view your processed data frame:\n",
      "\n"
     ]
    },
    {
     "data": {
      "text/html": [
       "<div>\n",
       "<style scoped>\n",
       "    .dataframe tbody tr th:only-of-type {\n",
       "        vertical-align: middle;\n",
       "    }\n",
       "\n",
       "    .dataframe tbody tr th {\n",
       "        vertical-align: top;\n",
       "    }\n",
       "\n",
       "    .dataframe thead th {\n",
       "        text-align: right;\n",
       "    }\n",
       "</style>\n",
       "<table border=\"1\" class=\"dataframe\">\n",
       "  <thead>\n",
       "    <tr style=\"text-align: right;\">\n",
       "      <th></th>\n",
       "      <th>id</th>\n",
       "      <th>host_id</th>\n",
       "      <th>neighbourhood_group</th>\n",
       "      <th>neighbourhood</th>\n",
       "      <th>latitude</th>\n",
       "      <th>longitude</th>\n",
       "      <th>room_type</th>\n",
       "      <th>price</th>\n",
       "      <th>minimum_nights</th>\n",
       "      <th>number_of_reviews</th>\n",
       "      <th>reviews_per_month</th>\n",
       "      <th>listings_count</th>\n",
       "      <th>availability_365</th>\n",
       "    </tr>\n",
       "  </thead>\n",
       "  <tbody>\n",
       "    <tr>\n",
       "      <th>0</th>\n",
       "      <td>49091</td>\n",
       "      <td>266763</td>\n",
       "      <td>North Region</td>\n",
       "      <td>Woodlands</td>\n",
       "      <td>1.44255</td>\n",
       "      <td>103.79580</td>\n",
       "      <td>Private room</td>\n",
       "      <td>83</td>\n",
       "      <td>180</td>\n",
       "      <td>1</td>\n",
       "      <td>0.01</td>\n",
       "      <td>2</td>\n",
       "      <td>365</td>\n",
       "    </tr>\n",
       "    <tr>\n",
       "      <th>1</th>\n",
       "      <td>50646</td>\n",
       "      <td>227796</td>\n",
       "      <td>Central Region</td>\n",
       "      <td>Bukit Timah</td>\n",
       "      <td>1.33235</td>\n",
       "      <td>103.78521</td>\n",
       "      <td>Private room</td>\n",
       "      <td>81</td>\n",
       "      <td>90</td>\n",
       "      <td>18</td>\n",
       "      <td>0.28</td>\n",
       "      <td>1</td>\n",
       "      <td>365</td>\n",
       "    </tr>\n",
       "    <tr>\n",
       "      <th>2</th>\n",
       "      <td>56334</td>\n",
       "      <td>266763</td>\n",
       "      <td>North Region</td>\n",
       "      <td>Woodlands</td>\n",
       "      <td>1.44246</td>\n",
       "      <td>103.79667</td>\n",
       "      <td>Private room</td>\n",
       "      <td>69</td>\n",
       "      <td>6</td>\n",
       "      <td>20</td>\n",
       "      <td>0.20</td>\n",
       "      <td>2</td>\n",
       "      <td>365</td>\n",
       "    </tr>\n",
       "    <tr>\n",
       "      <th>3</th>\n",
       "      <td>71609</td>\n",
       "      <td>367042</td>\n",
       "      <td>East Region</td>\n",
       "      <td>Tampines</td>\n",
       "      <td>1.34541</td>\n",
       "      <td>103.95712</td>\n",
       "      <td>Private room</td>\n",
       "      <td>206</td>\n",
       "      <td>1</td>\n",
       "      <td>14</td>\n",
       "      <td>0.15</td>\n",
       "      <td>9</td>\n",
       "      <td>353</td>\n",
       "    </tr>\n",
       "    <tr>\n",
       "      <th>4</th>\n",
       "      <td>71896</td>\n",
       "      <td>367042</td>\n",
       "      <td>East Region</td>\n",
       "      <td>Tampines</td>\n",
       "      <td>1.34567</td>\n",
       "      <td>103.95963</td>\n",
       "      <td>Private room</td>\n",
       "      <td>94</td>\n",
       "      <td>1</td>\n",
       "      <td>22</td>\n",
       "      <td>0.22</td>\n",
       "      <td>9</td>\n",
       "      <td>355</td>\n",
       "    </tr>\n",
       "    <tr>\n",
       "      <th>5</th>\n",
       "      <td>71903</td>\n",
       "      <td>367042</td>\n",
       "      <td>East Region</td>\n",
       "      <td>Tampines</td>\n",
       "      <td>1.34702</td>\n",
       "      <td>103.96103</td>\n",
       "      <td>Private room</td>\n",
       "      <td>104</td>\n",
       "      <td>1</td>\n",
       "      <td>39</td>\n",
       "      <td>0.38</td>\n",
       "      <td>9</td>\n",
       "      <td>346</td>\n",
       "    </tr>\n",
       "    <tr>\n",
       "      <th>6</th>\n",
       "      <td>71907</td>\n",
       "      <td>367042</td>\n",
       "      <td>East Region</td>\n",
       "      <td>Tampines</td>\n",
       "      <td>1.34348</td>\n",
       "      <td>103.96337</td>\n",
       "      <td>Private room</td>\n",
       "      <td>208</td>\n",
       "      <td>1</td>\n",
       "      <td>25</td>\n",
       "      <td>0.25</td>\n",
       "      <td>9</td>\n",
       "      <td>172</td>\n",
       "    </tr>\n",
       "    <tr>\n",
       "      <th>7</th>\n",
       "      <td>241503</td>\n",
       "      <td>1017645</td>\n",
       "      <td>East Region</td>\n",
       "      <td>Bedok</td>\n",
       "      <td>1.32304</td>\n",
       "      <td>103.91363</td>\n",
       "      <td>Private room</td>\n",
       "      <td>50</td>\n",
       "      <td>90</td>\n",
       "      <td>174</td>\n",
       "      <td>1.88</td>\n",
       "      <td>4</td>\n",
       "      <td>59</td>\n",
       "    </tr>\n",
       "  </tbody>\n",
       "</table>\n",
       "</div>"
      ],
      "text/plain": [
       "       id  host_id neighbourhood_group neighbourhood  latitude  longitude  \\\n",
       "0   49091   266763        North Region     Woodlands   1.44255  103.79580   \n",
       "1   50646   227796      Central Region   Bukit Timah   1.33235  103.78521   \n",
       "2   56334   266763        North Region     Woodlands   1.44246  103.79667   \n",
       "3   71609   367042         East Region      Tampines   1.34541  103.95712   \n",
       "4   71896   367042         East Region      Tampines   1.34567  103.95963   \n",
       "5   71903   367042         East Region      Tampines   1.34702  103.96103   \n",
       "6   71907   367042         East Region      Tampines   1.34348  103.96337   \n",
       "7  241503  1017645         East Region         Bedok   1.32304  103.91363   \n",
       "\n",
       "      room_type  price  minimum_nights  number_of_reviews  reviews_per_month  \\\n",
       "0  Private room     83             180                  1               0.01   \n",
       "1  Private room     81              90                 18               0.28   \n",
       "2  Private room     69               6                 20               0.20   \n",
       "3  Private room    206               1                 14               0.15   \n",
       "4  Private room     94               1                 22               0.22   \n",
       "5  Private room    104               1                 39               0.38   \n",
       "6  Private room    208               1                 25               0.25   \n",
       "7  Private room     50              90                174               1.88   \n",
       "\n",
       "   listings_count  availability_365  \n",
       "0               2               365  \n",
       "1               1               365  \n",
       "2               2               365  \n",
       "3               9               353  \n",
       "4               9               355  \n",
       "5               9               346  \n",
       "6               9               172  \n",
       "7               4                59  "
      ]
     },
     "execution_count": 42,
     "metadata": {},
     "output_type": "execute_result"
    }
   ],
   "source": [
    "# 2.11 quick overview of our cleaned data set\n",
    "print(\"\\nPlease view your processed data frame:\\n\")\n",
    "listing.head(8)"
   ]
  },
  {
   "cell_type": "code",
   "execution_count": 43,
   "metadata": {},
   "outputs": [
    {
     "name": "stdout",
     "output_type": "stream",
     "text": [
      "\n",
      "Perfect!\n",
      "We are left with the following number of observations and variables: \n"
     ]
    },
    {
     "data": {
      "text/plain": [
       "(5149, 13)"
      ]
     },
     "execution_count": 43,
     "metadata": {},
     "output_type": "execute_result"
    }
   ],
   "source": [
    "# 2.12 maybe include if everything is alright? if not we could repeat the process somehow\n",
    "# for example if user says there is an error we start again somewhere above,\n",
    "# and if everything is fine execute the code below:\n",
    "\n",
    "# input (\"Is everything correct?\")\n",
    "# try:\n",
    "# if input == yes: \n",
    "print(\"\\nPerfect!\\nWe are left with the following number of observations and variables: \")\n",
    "listing.shape\n",
    "# if input == no: repeat? \n",
    "# excerpt: valuerror   etc."
   ]
  },
  {
   "cell_type": "markdown",
   "metadata": {},
   "source": [
    "## 3. Univariate Analysis"
   ]
  },
  {
   "cell_type": "markdown",
   "metadata": {},
   "source": [
    "Taking a closer look at each single variable."
   ]
  },
  {
   "cell_type": "code",
   "execution_count": 44,
   "metadata": {},
   "outputs": [
    {
     "name": "stdout",
     "output_type": "stream",
     "text": [
      "\n",
      "We now continue with our analyis of the data.\n"
     ]
    }
   ],
   "source": [
    "##  3.0.1 split numerical and categorical data into two lists\n",
    "print(\"\\nWe now continue with our analyis of the data.\")\n",
    "# need to make this automatic, if necessary we can write it differently including removing the \"def\" function\n",
    "\n",
    "def get_variable_type():   \n",
    "     # numerical variables\n",
    "    num_variables = listing.select_dtypes(include=[\"int64\",\"float64\"]).columns\n",
    "\n",
    "    # categorical variables\n",
    "    cat_variables = listing.select_dtypes(include=[\"object\"]).columns\n",
    "    cat_variables = cat_variables.drop([\"id\",\"host_id\"])\n",
    "    return list(num_variables), list(cat_variables)\n",
    "\n",
    "num_variables, cat_variables = get_variable_type()"
   ]
  },
  {
   "cell_type": "code",
   "execution_count": 46,
   "metadata": {},
   "outputs": [
    {
     "name": "stdout",
     "output_type": "stream",
     "text": [
      "\n",
      "We have split your data into two categories:\n",
      "Numerical and Categorical.\n",
      "Your cleaned data set contains 8 numerical and 3 categorical variables.\n"
     ]
    }
   ],
   "source": [
    "# 3.0.2 update\n",
    "\n",
    "print(\"\\nWe have split your data into two categories:\\nNumerical and Categorical.\\nYour cleaned data set contains\", str(len(num_variables)), \"numerical and\", str(len(cat_variables)), \"categorical variables.\")"
   ]
  },
  {
   "cell_type": "markdown",
   "metadata": {},
   "source": [
    "## 3.1 Categorical Data analysis"
   ]
  },
  {
   "cell_type": "code",
   "execution_count": 52,
   "metadata": {},
   "outputs": [
    {
     "name": "stdout",
     "output_type": "stream",
     "text": [
      "\n",
      "Below you can explore a grid of count plots including all the categorical data of your data set:\n",
      "\n"
     ]
    },
    {
     "data": {
      "image/png": "[encoded data removed]",
      "text/plain": [
       "<Figure size 864x216 with 3 Axes>"
      ]
     },
     "metadata": {},
     "output_type": "display_data"
    }
   ],
   "source": [
    "# 3.1.1 this first code should execute automatically\n",
    "# it takes all categorical variables and plots them into a histogram\n",
    "# it is kinda messy for some variables but I guess this is just how it is. \n",
    "\n",
    "print(\"\\nBelow you can explore a grid of count plots including all the categorical data of your data set:\\n\")\n",
    "\n",
    "cat_melt = pd.melt(listing, value_vars=sorted(cat_variables))\n",
    "cat_grid = sn.FacetGrid(cat_melt, col=\"variable\", col_wrap=4, sharex=False, sharey=False)\n",
    "plt.xticks(rotation=\"vertical\")\n",
    "cat_grid = cat_grid.map(sn.countplot, \"value\", color = \"lightcoral\",)\n",
    "[plt.setp(ax.get_xticklabels(), rotation=90) for ax in cat_grid.axes.flat]\n",
    "plt.show()"
   ]
  },
  {
   "cell_type": "markdown",
   "metadata": {},
   "source": [
    "### Specific categorical analysis"
   ]
  },
  {
   "cell_type": "code",
   "execution_count": 434,
   "metadata": {},
   "outputs": [],
   "source": [
    "# Here we need to ask which *categorical* columns the user wants to inspect more specifically.\n",
    "# Asking for input and creating a list. correctly written is important once again!! \n",
    "# (we need to test for that somehow)\n",
    "# However, here we can use a simple loop as we're just dealing with one function only\n",
    "# (I use neighbourhood_group as an example to test the code)"
   ]
  },
  {
   "cell_type": "code",
   "execution_count": 435,
   "metadata": {},
   "outputs": [
    {
     "name": "stdout",
     "output_type": "stream",
     "text": [
      "\n",
      "Here you can see the different groups and their occurences in the data set:\n"
     ]
    },
    {
     "data": {
      "text/plain": [
       "Central Region       4144\n",
       "East Region           345\n",
       "West Region           337\n",
       "North-East Region     215\n",
       "North Region          108\n",
       "Name: neighbourhood_group, dtype: int64"
      ]
     },
     "execution_count": 435,
     "metadata": {},
     "output_type": "execute_result"
    }
   ],
   "source": [
    "## 3.1.2 value_counts \n",
    "#counts the number of each single group of category and presents result in a small df\n",
    "\n",
    "print(\"\\nHere you can see the different groups and their occurences in the data set:\")\n",
    "listing.neighbourhood_group.value_counts()"
   ]
  },
  {
   "cell_type": "code",
   "execution_count": 436,
   "metadata": {},
   "outputs": [
    {
     "data": {
      "text/html": [
       "<div>\n",
       "<style scoped>\n",
       "    .dataframe tbody tr th:only-of-type {\n",
       "        vertical-align: middle;\n",
       "    }\n",
       "\n",
       "    .dataframe tbody tr th {\n",
       "        vertical-align: top;\n",
       "    }\n",
       "\n",
       "    .dataframe thead th {\n",
       "        text-align: right;\n",
       "    }\n",
       "</style>\n",
       "<table border=\"1\" class=\"dataframe\">\n",
       "  <thead>\n",
       "    <tr style=\"text-align: right;\">\n",
       "      <th></th>\n",
       "      <th>host_id</th>\n",
       "      <th>listings_count</th>\n",
       "    </tr>\n",
       "  </thead>\n",
       "  <tbody>\n",
       "    <tr>\n",
       "      <th>5235</th>\n",
       "      <td>66406177</td>\n",
       "      <td>274</td>\n",
       "    </tr>\n",
       "    <tr>\n",
       "      <th>1852</th>\n",
       "      <td>8492007</td>\n",
       "      <td>203</td>\n",
       "    </tr>\n",
       "    <tr>\n",
       "      <th>5053</th>\n",
       "      <td>209913841</td>\n",
       "      <td>157</td>\n",
       "    </tr>\n",
       "    <tr>\n",
       "      <th>4484</th>\n",
       "      <td>29420853</td>\n",
       "      <td>141</td>\n",
       "    </tr>\n",
       "    <tr>\n",
       "      <th>4621</th>\n",
       "      <td>31464513</td>\n",
       "      <td>114</td>\n",
       "    </tr>\n",
       "    <tr>\n",
       "      <th>6355</th>\n",
       "      <td>219550151</td>\n",
       "      <td>113</td>\n",
       "    </tr>\n",
       "    <tr>\n",
       "      <th>1785</th>\n",
       "      <td>2413412</td>\n",
       "      <td>112</td>\n",
       "    </tr>\n",
       "    <tr>\n",
       "      <th>3754</th>\n",
       "      <td>108773366</td>\n",
       "      <td>109</td>\n",
       "    </tr>\n",
       "    <tr>\n",
       "      <th>1589</th>\n",
       "      <td>23722617</td>\n",
       "      <td>84</td>\n",
       "    </tr>\n",
       "    <tr>\n",
       "      <th>6598</th>\n",
       "      <td>8948251</td>\n",
       "      <td>83</td>\n",
       "    </tr>\n",
       "    <tr>\n",
       "      <th>4327</th>\n",
       "      <td>159804766</td>\n",
       "      <td>79</td>\n",
       "    </tr>\n",
       "    <tr>\n",
       "      <th>5582</th>\n",
       "      <td>156409670</td>\n",
       "      <td>78</td>\n",
       "    </tr>\n",
       "    <tr>\n",
       "      <th>3834</th>\n",
       "      <td>138649185</td>\n",
       "      <td>76</td>\n",
       "    </tr>\n",
       "    <tr>\n",
       "      <th>373</th>\n",
       "      <td>14521708</td>\n",
       "      <td>67</td>\n",
       "    </tr>\n",
       "    <tr>\n",
       "      <th>6841</th>\n",
       "      <td>201034613</td>\n",
       "      <td>67</td>\n",
       "    </tr>\n",
       "  </tbody>\n",
       "</table>\n",
       "</div>"
      ],
      "text/plain": [
       "        host_id  listings_count\n",
       "5235   66406177             274\n",
       "1852    8492007             203\n",
       "5053  209913841             157\n",
       "4484   29420853             141\n",
       "4621   31464513             114\n",
       "6355  219550151             113\n",
       "1785    2413412             112\n",
       "3754  108773366             109\n",
       "1589   23722617              84\n",
       "6598    8948251              83\n",
       "4327  159804766              79\n",
       "5582  156409670              78\n",
       "3834  138649185              76\n",
       "373    14521708              67\n",
       "6841  201034613              67"
      ]
     },
     "execution_count": 436,
     "metadata": {},
     "output_type": "execute_result"
    }
   ],
   "source": [
    "## 3.1.3 listings_count and host_id\n",
    "# I'd like to inlcude this somehow into the program because otherwise the categorical data seems kind of short\n",
    "# it combines a categorical variable with a numeric, groups them by cat grups and delivers the numeric value\n",
    "# however this code works because listings_count is the same for every host_id \n",
    "# I'm unsure how we can do this as every numeric variable can be different \n",
    "# we probably have to leave this out otherwise. \n",
    "\n",
    "l_count = listing.sort_values(\"listings_count\").drop_duplicates([\"host_id\"])\n",
    "l_count = l_count[[\"host_id\", \"listings_count\"]]\n",
    "l_count.sort_values(\"listings_count\", ascending =False).head(15)"
   ]
  },
  {
   "cell_type": "code",
   "execution_count": 437,
   "metadata": {},
   "outputs": [
    {
     "name": "stdout",
     "output_type": "stream",
     "text": [
      "\n",
      "As we have finished analysing the categorical variables we can now move on to the numerical variables.\n"
     ]
    }
   ],
   "source": [
    "# 3.1.4 update\n",
    "print(\"\\nAs we have finished analysing the categorical variables we can now move on to the numerical variables.\")"
   ]
  },
  {
   "cell_type": "markdown",
   "metadata": {},
   "source": [
    "## 3.2 Numerical Data analysis"
   ]
  },
  {
   "cell_type": "code",
   "execution_count": 438,
   "metadata": {
    "scrolled": false
   },
   "outputs": [
    {
     "name": "stdout",
     "output_type": "stream",
     "text": [
      "\n",
      "Below you can explore a grid of distribution plots including all the numerical data of your data set:\n",
      "\n"
     ]
    },
    {
     "data": {
      "image/png": "[encoded data removed]",
      "text/plain": [
       "<Figure size 864x432 with 8 Axes>"
      ]
     },
     "metadata": {},
     "output_type": "display_data"
    }
   ],
   "source": [
    "## 3.2.1 distribution grid plot of all numerical variables\n",
    "\n",
    "print(\"\\nBelow you can explore a grid of distribution plots including all the numerical data of your data set:\\n\")\n",
    "\n",
    "# this code should be executed automatically\n",
    "# it takes all numerical variables and plots them into an distribution plot\n",
    "\n",
    "num_melt = pd.melt(listing, value_vars=sorted(num_variables))\n",
    "num_grid = sn.FacetGrid(num_melt, col=\"variable\", col_wrap=4, sharex=False, sharey=False)\n",
    "num_grid = num_grid.map(sn.distplot, \"value\", color = \"lightcoral\")"
   ]
  },
  {
   "cell_type": "markdown",
   "metadata": {},
   "source": [
    "###  Specific Numeric analysis\n"
   ]
  },
  {
   "cell_type": "code",
   "execution_count": 439,
   "metadata": {},
   "outputs": [],
   "source": [
    "# Here we have to ask which *numerical* columns the user wants to insepct more specifically.\n",
    "# Asking for input and creating a list. correctly written is important once again. \n",
    "# we need to use a loop such that it gives the output for each value in the list. \n",
    "# the loop should include all of the following steps before it moves on to the next value in the list. \n",
    "\n",
    "\n",
    "# in the follwing codes I will mostly use price to test the code"
   ]
  },
  {
   "cell_type": "code",
   "execution_count": 23,
   "metadata": {},
   "outputs": [
    {
     "name": "stdout",
     "output_type": "stream",
     "text": [
      "\n",
      "Variable *price* possesses the following properties:\n",
      "\n",
      "mean: \t\t 169.33 \n",
      "median: \t 124.0 \n",
      "std: \t\t 340.19 \n",
      "min: \t\t 0 \n",
      "25%: \t\t 65.0 \n",
      "50%: \t\t 124.0 \n",
      "75%: \t\t 199.0 \n",
      "max: \t\t 10000\n"
     ]
    }
   ],
   "source": [
    "## 3.2.2 summary\n",
    "# this part should come automatically, no user input required\n",
    "# instead of price we need the specific variable the user wants to inspect\n",
    "\n",
    "mean = listing.price.mean()\n",
    "median = listing.price.median()\n",
    "std = listing.price.std()\n",
    "mini = listing.price.min()\n",
    "q_25 = listing.price.quantile(q=0.25)\n",
    "q_50 = listing.price.quantile(q=0.5)\n",
    "q_75 = listing.price.quantile(q=0.75)\n",
    "maxi = listing.price.max()\n",
    "\n",
    "print(\"\\nVariable *price* possesses the following properties:\\n\\nmean: \\t\\t\", round(mean, 2),\n",
    "      \"\\nmedian: \\t\", round(median, 2),\n",
    "     \"\\nstd: \\t\\t\", round(std, 2),\n",
    "     \"\\nmin: \\t\\t\", round(mini, 2),\n",
    "     \"\\n25%: \\t\\t\", round(q_25, 2),\n",
    "     \"\\n50%: \\t\\t\", round(q_50, 2),\n",
    "     \"\\n75%: \\t\\t\", round(q_75, 2),\n",
    "     \"\\nmax: \\t\\t\", round(maxi, 2))"
   ]
  },
  {
   "cell_type": "code",
   "execution_count": 441,
   "metadata": {
    "scrolled": true
   },
   "outputs": [
    {
     "name": "stdout",
     "output_type": "stream",
     "text": [
      "\n",
      "Skew:  27.45 | Kurtosis:  990.18\n",
      "\n",
      "A skew value of 27.45 indicates an extremely right skewed distribution.\n",
      "The kurtosis with a value of 990.18 is extremely leptokurtic.\n",
      "This indicates a very high and sharp peak.\n",
      "In addition, this means that the distribution is long and fat tails are observable.\n",
      "Outliers are highly possible.\n"
     ]
    }
   ],
   "source": [
    "## 3.2.3 skew & Kurtosis\n",
    "# this part should come automatically, no user input required\n",
    "# again instead of (here) latitude and av\n",
    "\n",
    "skew = listing.price.skew()\n",
    "kurtosis = listing.price.kurtosis()\n",
    "\n",
    "print(\"\\nSkew: \", round(skew, 2) , \"| Kurtosis: \", round(kurtosis, 2))\n",
    "\n",
    "if skew >= -0.5 and skew <= 0.5:\n",
    "    print(\"\\nA skew value of\", round(skew,2), \"indicates a fairly symmetric distribution.\")\n",
    "if skew > 0.5 and skew <=1:\n",
    "    print(\"\\nA skew value of\", round(skew,2), \"indicates a moderately right skewed distribution.\")\n",
    "if skew >1:\n",
    "    if skew > 10:\n",
    "        print(\"\\nA skew value of\", round(skew,2), \"indicates an extremely right skewed distribution.\")\n",
    "    else:\n",
    "        print(\"\\nA skew value of\", round(skew,2), \"indicates a highly right skewed distribution.\")\n",
    "if skew >= -1 and skew <-0.5:\n",
    "    print(\"\\nA skew value of\", round(skew,2), \"indicates a moderately left skewed distribution.\")\n",
    "if skew <-1:  \n",
    "    if skew <-10:\n",
    "        print(\"\\nA skew value of\", round(skew,2), \"indicates an extremely left skewed distribution.\")\n",
    "    else:\n",
    "        print(\"\\nA skew value of\", round(skew,2), \"indicates a highly left skewed distribution.\")\n",
    "if kurtosis <2.9:\n",
    "    if kurtosis<0:\n",
    "        print(\"The kurtosis with a value of\", round(kurtosis,2), \"may indicate a bimodal distribution with two different modes.\")\n",
    "    if kurtosis >= 0:\n",
    "        print(\"The kurtosis with a value of\", round(kurtosis,2), \"is platykurtic.\\nThis indicates a low and broad peak.\\nIn addition, this means that the distribution is shorter and tails are thinner.\\nOutliers are less likely\")\n",
    "if kurtosis >3.1: \n",
    "    if kurtosis > 30:\n",
    "        print(\"The kurtosis with a value of\", round(kurtosis,2), \"is extremely leptokurtic.\\nThis indicates a very high and sharp peak.\\nIn addition, this means that the distribution is long and fat tails are observable.\\nOutliers are highly possible.\")\n",
    "    else:\n",
    "        print(\"The kurtosis with a value of\", round(kurtosis,2), \"is leptokurtic.\\nThis indicates a high and sharp peak.\\nIn addition, this means that the distribution is long and fat tails are observable.\\nOutliers are highly possible.\")\n",
    "if kurtosis >=2.9 and kurtosis <= 3.1:\n",
    "    print(\"The kurtosis with a value of\", round(kurtosis,2), \"is Mesokurtic.\\nThis indicates a similar distribution to a normal distribution.\")"
   ]
  },
  {
   "cell_type": "code",
   "execution_count": 54,
   "metadata": {
    "scrolled": true
   },
   "outputs": [
    {
     "name": "stdout",
     "output_type": "stream",
     "text": [
      "\n",
      "The number of outliers of this variable is total of 2494 .\n"
     ]
    }
   ],
   "source": [
    "## 3.2.4 count outliers\n",
    "\n",
    "print(\"\\nThe number of outliers of this variable is total of\", sum((listing.price<q_25) | (listing.price>q_75)), \".\")\n",
    "    "
   ]
  },
  {
   "cell_type": "code",
   "execution_count": 443,
   "metadata": {
    "scrolled": false
   },
   "outputs": [
    {
     "name": "stdout",
     "output_type": "stream",
     "text": [
      "\n",
      "Below you can examine a boxplot based on the variable *price*:\n"
     ]
    },
    {
     "data": {
      "image/png": "[encoded data removed]",
      "text/plain": [
       "<Figure size 1008x288 with 1 Axes>"
      ]
     },
     "metadata": {},
     "output_type": "display_data"
    }
   ],
   "source": [
    "## 3.2.5 plotting boxplot to further \n",
    "# price should equal chosen variable\n",
    "\n",
    "print(\"\\nBelow you can examine a boxplot based on the variable *price*:\")\n",
    "\n",
    "plt.figure(figsize=(14,4))\n",
    "listing.price.plot.box(vert = False)\n",
    "plt.show()"
   ]
  },
  {
   "cell_type": "code",
   "execution_count": 444,
   "metadata": {},
   "outputs": [],
   "source": [
    "# 3.2.6 maybe we ask if user wants to inspect more variables or if he is done examining the numerical values\n",
    "# so we can move on to the corr matrix and then to the categorical data. "
   ]
  },
  {
   "cell_type": "code",
   "execution_count": 445,
   "metadata": {
    "scrolled": false
   },
   "outputs": [
    {
     "name": "stdout",
     "output_type": "stream",
     "text": [
      "\n",
      "Lastly, you can see a correlation matrix based on the numeric variables.\n",
      "Please inspect it for potential and interesting correlations in your data set!\n"
     ]
    },
    {
     "data": {
      "image/png": "[encoded data removed]",
      "text/plain": [
       "<Figure size 1008x864 with 2 Axes>"
      ]
     },
     "metadata": {},
     "output_type": "display_data"
    }
   ],
   "source": [
    "## 3.2.7 correlation Matrix of the numerical variables\n",
    "\n",
    "# my idea is that this should come after the loop has ended to act as somekind of finisher. \n",
    "# it just needs to be executed automatically, the user then can make his findings by himself. \n",
    "\n",
    "print(\"\\nLastly, you can see a correlation matrix based on the numeric variables.\\nPlease inspect it for potential and interesting correlations in your data set!\")\n",
    "\n",
    "sn.set(style=\"white\")\n",
    "corr = listing.corr()\n",
    "fig = plt.figure(figsize=(14,12))\n",
    "ax = fig.add_subplot(111)\n",
    "cmap = sn.diverging_palette(220, 10, as_cmap=True)\n",
    "mask = np.triu(np.ones_like(corr, dtype=np.bool))\n",
    "sn.heatmap(corr, \n",
    "           xticklabels=corr.columns.values,\n",
    "           yticklabels=corr.index.values,\n",
    "           mask=mask,\n",
    "           cmap=\"RdPu\")\n",
    "ax.xaxis.tick_bottom()\n",
    "plt.setp(ax.get_xticklabels(), rotation=60)\n",
    "plt.show()"
   ]
  },
  {
   "cell_type": "markdown",
   "metadata": {},
   "source": [
    "## 4. Conlcusion"
   ]
  },
  {
   "cell_type": "code",
   "execution_count": 449,
   "metadata": {
    "scrolled": false
   },
   "outputs": [
    {
     "name": "stdout",
     "output_type": "stream",
     "text": [
      "\n",
      "We hope you were able to get a deeper insight into your data set and are satisfied with the results.\n",
      "\n",
      "In case you have other sets you would like to do an analyisis on don't hesitate and upload it to this program!\n"
     ]
    }
   ],
   "source": [
    "# 4.1 last message\n",
    "\n",
    "# maybe ask for yes and no, if yes go back to the very beginning?\n",
    "# not sure how to implement this, just an idea \n",
    "\n",
    "print(\"\\nWe hope you were able to get a deeper insight into your data set and are satisfied with the results.\\n\\nIn case you have other sets you would like to perform an analyisis on, don't hesitate and upload it to this program!\")"
   ]
  },
  {
   "cell_type": "markdown",
   "metadata": {},
   "source": [
    "## *Everything below is probably unnecessary code for the program and mainly used for back up and testing*"
   ]
  },
  {
   "cell_type": "code",
   "execution_count": 447,
   "metadata": {
    "scrolled": true
   },
   "outputs": [
    {
     "data": {
      "image/png": "[encoded data removed]",
      "text/plain": [
       "<Figure size 1008x288 with 1 Axes>"
      ]
     },
     "metadata": {},
     "output_type": "display_data"
    }
   ],
   "source": [
    "# second example with number of reviews just for testing \n",
    "\n",
    "plt.figure(figsize=(14,4))\n",
    "listing.number_of_reviews.plot.box(vert = False)\n",
    "plt.show()"
   ]
  },
  {
   "cell_type": "code",
   "execution_count": 450,
   "metadata": {
    "scrolled": false
   },
   "outputs": [
    {
     "data": {
      "image/png": "[encoded data removed]",
      "text/plain": [
       "<Figure size 842.4x595.44 with 1 Axes>"
      ]
     },
     "metadata": {},
     "output_type": "display_data"
    }
   ],
   "source": [
    "##  .hist  or plt.hist() plots histogramm for the counts of each group within the category\n",
    "# \n",
    "\n",
    "listing.neighbourhood_group.hist(color=\"lightcoral\", alpha=0.8)\n",
    "plt.ylabel(\"Count\")\n",
    "plt.title(\"Histogram Regions\")\n",
    "plt.show()"
   ]
  },
  {
   "cell_type": "code",
   "execution_count": null,
   "metadata": {},
   "outputs": [],
   "source": [
    "#### listings_count and host_id\n",
    "l_count = listing.sort_values(\"listings_count\").drop_duplicates([\"host_id\"])\n",
    "l_count = l_count[[\"host_id\", \"listings_count\"]]\n",
    "l_count.sort_values(\"listings_count\", ascending =False).head(15)\n",
    "\n",
    "#### apparently we have many individuals that offer dozens if not hundreds of Airbnb "
   ]
  },
  {
   "cell_type": "code",
   "execution_count": null,
   "metadata": {},
   "outputs": [],
   "source": [
    "# Feature sorted by correlation to Price, from positive to negative\n",
    "corr = corr.sort_values('price', ascending=False)\n",
    "plt.figure(figsize=(10,12))\n",
    "sn.barplot(corr.price[1:], corr.index[1:], orient='h', color=\"lightcoral\")\n",
    "plt.show()"
   ]
  },
  {
   "cell_type": "markdown",
   "metadata": {},
   "source": [
    "## 2. Prediction"
   ]
  },
  {
   "cell_type": "markdown",
   "metadata": {},
   "source": [
    "### 2.1 Prepare data"
   ]
  },
  {
   "cell_type": "code",
   "execution_count": null,
   "metadata": {},
   "outputs": [],
   "source": [
    "# Log transform of the skewed numerical features to lessen impact of outliers\n",
    "# Inspired by Alexandru Papiu's script : https://www.kaggle.com/apapiu/house-prices-advanced-regression-techniques/regularized-linear-models\n",
    "# As a general rule of thumb, a skewness with an absolute value > 0.5 is considered at least moderately skewed\n",
    "#skewness = train_num.apply(lambda x: skew(x))\n",
    "#skewness = skewness[abs(skewness) > 0.5]\n",
    "#print(str(skewness.shape[0]) + \" skewed numerical features to log transform\")\n",
    "#skewed_features = skewness.index\n",
    "#train_num[skewed_features] = np.log1p(train_num[skewed_features])"
   ]
  },
  {
   "cell_type": "markdown",
   "metadata": {},
   "source": [
    "### 2.2 Linear Regression"
   ]
  },
  {
   "cell_type": "markdown",
   "metadata": {},
   "source": [
    "### 2.3 Ridge"
   ]
  },
  {
   "cell_type": "markdown",
   "metadata": {},
   "source": [
    "### 2.4 Lasso"
   ]
  },
  {
   "cell_type": "markdown",
   "metadata": {},
   "source": [
    "## 3. Conclusion"
   ]
  }
 ],
 "metadata": {
  "kernelspec": {
   "display_name": "Python 3",
   "language": "python",
   "name": "python3"
  },
  "language_info": {
   "codemirror_mode": {
    "name": "ipython",
    "version": 3
   },
   "file_extension": ".py",
   "mimetype": "text/x-python",
   "name": "python",
   "nbconvert_exporter": "python",
   "pygments_lexer": "ipython3",
   "version": "3.7.6"
  }
 },
 "nbformat": 4,
 "nbformat_minor": 4
}
