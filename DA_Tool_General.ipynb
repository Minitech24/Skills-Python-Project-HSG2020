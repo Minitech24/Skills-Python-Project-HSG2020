{
 "cells": [
  {
   "cell_type": "markdown",
   "metadata": {},
   "source": [
    "# Data Analytics Tool "
   ]
  },
  {
   "cell_type": "markdown",
   "metadata": {},
   "source": [
    "## Introduction\n",
    "\n",
    "This program is intended to complete a full data analyis.\n",
    "It is able to pre-process the data set and give descriptive analysis results, all based on the users preferences.\n",
    "\n",
    "The focus lies on being interactive and automated. In other words, the program contains specifically designed function for which it asks the user desires to perform these on her data set.\n",
    "\n",
    "Any kind of csv file should be applicable. The user needs make sure the csv file is located in the correct directory."
   ]
  },
  {
   "cell_type": "markdown",
   "metadata": {},
   "source": [
    "## 1. Import of libraries and the data set "
   ]
  },
  {
   "cell_type": "code",
   "execution_count": 1,
   "metadata": {},
   "outputs": [],
   "source": [
    "# 1.1 Imports\n",
    "import sys\n",
    "import math\n",
    "import numpy as np\n",
    "import pandas as pd\n",
    "import scipy.stats\n",
    "import matplotlib.pyplot as plt\n",
    "plt.style.use('ggplot')\n",
    "import seaborn as sn"
   ]
  },
  {
   "cell_type": "code",
   "execution_count": 2,
   "metadata": {},
   "outputs": [
    {
     "name": "stdout",
     "output_type": "stream",
     "text": [
      "Hello User!\n",
      "Let us begin analysing your data!\n"
     ]
    }
   ],
   "source": [
    "print(\"Hello User!\\nLet's begin analysing your data!\")"
   ]
  },
  {
   "cell_type": "code",
   "execution_count": 44,
   "metadata": {},
   "outputs": [],
   "source": [
    "# 1.2 preparing answers for y/n questions and colums list needed for \n",
    "yes = {\"yes\", \"y\"}\n",
    "no = {\"no\", \"n\"}\n",
    "cancel = {\"cancel\", \"c\"}"
   ]
  },
  {
   "cell_type": "code",
   "execution_count": 6,
   "metadata": {},
   "outputs": [],
   "source": [
    "# 1.3 define function for reading data \n",
    "def start():\n",
    "    inp = input(\"\\nIs your csv file located in the correct working directory?(y/n): \")\n",
    "    if inp in yes:\n",
    "        global data\n",
    "        data = pd.read_csv(\"listings.csv\")\n",
    "        print(\"In the following tables you get an overview of your data including the head and tail:\")\n",
    "        return\n",
    "    elif start in no:\n",
    "        print(\"\\nPlease put your csv file in the correct working directory!\")\n",
    "        start()\n",
    "    else: \n",
    "        sys.stdout.write(\"\"\"\\nPlease answer with \"yes\" or \"no\".\"\"\")\n",
    "        start()"
   ]
  },
  {
   "cell_type": "code",
   "execution_count": 7,
   "metadata": {},
   "outputs": [
    {
     "name": "stdout",
     "output_type": "stream",
     "text": [
      "\n",
      "Is your csv file located in the correct working directory?(y/n): y\n",
      "In the following tables you get an overview of your data including the head and tail:\n"
     ]
    },
    {
     "data": {
      "text/html": [
       "<div>\n",
       "<style scoped>\n",
       "    .dataframe tbody tr th:only-of-type {\n",
       "        vertical-align: middle;\n",
       "    }\n",
       "\n",
       "    .dataframe tbody tr th {\n",
       "        vertical-align: top;\n",
       "    }\n",
       "\n",
       "    .dataframe thead th {\n",
       "        text-align: right;\n",
       "    }\n",
       "</style>\n",
       "<table border=\"1\" class=\"dataframe\">\n",
       "  <thead>\n",
       "    <tr style=\"text-align: right;\">\n",
       "      <th></th>\n",
       "      <th>id</th>\n",
       "      <th>name</th>\n",
       "      <th>host_id</th>\n",
       "      <th>host_name</th>\n",
       "      <th>neighbourhood_group</th>\n",
       "      <th>neighbourhood</th>\n",
       "      <th>latitude</th>\n",
       "      <th>longitude</th>\n",
       "      <th>room_type</th>\n",
       "      <th>price</th>\n",
       "      <th>minimum_nights</th>\n",
       "      <th>number_of_reviews</th>\n",
       "      <th>last_review</th>\n",
       "      <th>reviews_per_month</th>\n",
       "      <th>calculated_host_listings_count</th>\n",
       "      <th>availability_365</th>\n",
       "    </tr>\n",
       "  </thead>\n",
       "  <tbody>\n",
       "    <tr>\n",
       "      <th>7902</th>\n",
       "      <td>38105126</td>\n",
       "      <td>Loft 2 pax near Haw Par / Pasir Panjang. Free ...</td>\n",
       "      <td>278109833</td>\n",
       "      <td>Belle</td>\n",
       "      <td>Central Region</td>\n",
       "      <td>Queenstown</td>\n",
       "      <td>1.27973</td>\n",
       "      <td>103.78751</td>\n",
       "      <td>Entire home/apt</td>\n",
       "      <td>100</td>\n",
       "      <td>3</td>\n",
       "      <td>0</td>\n",
       "      <td>NaN</td>\n",
       "      <td>NaN</td>\n",
       "      <td>31</td>\n",
       "      <td>61</td>\n",
       "    </tr>\n",
       "    <tr>\n",
       "      <th>7903</th>\n",
       "      <td>38108273</td>\n",
       "      <td>3bedroom luxury at Orchard</td>\n",
       "      <td>238891646</td>\n",
       "      <td>Neha</td>\n",
       "      <td>Central Region</td>\n",
       "      <td>Tanglin</td>\n",
       "      <td>1.29269</td>\n",
       "      <td>103.82623</td>\n",
       "      <td>Entire home/apt</td>\n",
       "      <td>550</td>\n",
       "      <td>6</td>\n",
       "      <td>0</td>\n",
       "      <td>NaN</td>\n",
       "      <td>NaN</td>\n",
       "      <td>34</td>\n",
       "      <td>365</td>\n",
       "    </tr>\n",
       "    <tr>\n",
       "      <th>7904</th>\n",
       "      <td>38109336</td>\n",
       "      <td>[ Farrer Park ] New City Fringe CBD Mins to MRT</td>\n",
       "      <td>281448565</td>\n",
       "      <td>Mindy</td>\n",
       "      <td>Central Region</td>\n",
       "      <td>Kallang</td>\n",
       "      <td>1.31286</td>\n",
       "      <td>103.85996</td>\n",
       "      <td>Private room</td>\n",
       "      <td>58</td>\n",
       "      <td>30</td>\n",
       "      <td>0</td>\n",
       "      <td>NaN</td>\n",
       "      <td>NaN</td>\n",
       "      <td>3</td>\n",
       "      <td>173</td>\n",
       "    </tr>\n",
       "    <tr>\n",
       "      <th>7905</th>\n",
       "      <td>38110493</td>\n",
       "      <td>Cheap Master Room in Central of Singapore</td>\n",
       "      <td>243835202</td>\n",
       "      <td>Huang</td>\n",
       "      <td>Central Region</td>\n",
       "      <td>River Valley</td>\n",
       "      <td>1.29543</td>\n",
       "      <td>103.83801</td>\n",
       "      <td>Private room</td>\n",
       "      <td>56</td>\n",
       "      <td>14</td>\n",
       "      <td>0</td>\n",
       "      <td>NaN</td>\n",
       "      <td>NaN</td>\n",
       "      <td>2</td>\n",
       "      <td>30</td>\n",
       "    </tr>\n",
       "    <tr>\n",
       "      <th>7906</th>\n",
       "      <td>38112762</td>\n",
       "      <td>Amazing room with private bathroom walk to Orc...</td>\n",
       "      <td>28788520</td>\n",
       "      <td>Terence</td>\n",
       "      <td>Central Region</td>\n",
       "      <td>River Valley</td>\n",
       "      <td>1.29672</td>\n",
       "      <td>103.83325</td>\n",
       "      <td>Private room</td>\n",
       "      <td>65</td>\n",
       "      <td>90</td>\n",
       "      <td>0</td>\n",
       "      <td>NaN</td>\n",
       "      <td>NaN</td>\n",
       "      <td>7</td>\n",
       "      <td>365</td>\n",
       "    </tr>\n",
       "  </tbody>\n",
       "</table>\n",
       "</div>"
      ],
      "text/plain": [
       "            id                                               name    host_id  \\\n",
       "7902  38105126  Loft 2 pax near Haw Par / Pasir Panjang. Free ...  278109833   \n",
       "7903  38108273                         3bedroom luxury at Orchard  238891646   \n",
       "7904  38109336    [ Farrer Park ] New City Fringe CBD Mins to MRT  281448565   \n",
       "7905  38110493          Cheap Master Room in Central of Singapore  243835202   \n",
       "7906  38112762  Amazing room with private bathroom walk to Orc...   28788520   \n",
       "\n",
       "     host_name neighbourhood_group neighbourhood  latitude  longitude  \\\n",
       "7902     Belle      Central Region    Queenstown   1.27973  103.78751   \n",
       "7903      Neha      Central Region       Tanglin   1.29269  103.82623   \n",
       "7904     Mindy      Central Region       Kallang   1.31286  103.85996   \n",
       "7905     Huang      Central Region  River Valley   1.29543  103.83801   \n",
       "7906   Terence      Central Region  River Valley   1.29672  103.83325   \n",
       "\n",
       "            room_type  price  minimum_nights  number_of_reviews last_review  \\\n",
       "7902  Entire home/apt    100               3                  0         NaN   \n",
       "7903  Entire home/apt    550               6                  0         NaN   \n",
       "7904     Private room     58              30                  0         NaN   \n",
       "7905     Private room     56              14                  0         NaN   \n",
       "7906     Private room     65              90                  0         NaN   \n",
       "\n",
       "      reviews_per_month  calculated_host_listings_count  availability_365  \n",
       "7902                NaN                              31                61  \n",
       "7903                NaN                              34               365  \n",
       "7904                NaN                               3               173  \n",
       "7905                NaN                               2                30  \n",
       "7906                NaN                               7               365  "
      ]
     },
     "execution_count": 7,
     "metadata": {},
     "output_type": "execute_result"
    }
   ],
   "source": [
    "# 1.3 cont. Execute function\n",
    "\n",
    "start()\n",
    "data.head()\n",
    "data.tail()"
   ]
  },
  {
   "cell_type": "code",
   "execution_count": 8,
   "metadata": {},
   "outputs": [],
   "source": [
    "# 1.4 more preparation\n",
    "columns = list(data.columns) \n",
    "c = []\n",
    "d = []"
   ]
  },
  {
   "cell_type": "code",
   "execution_count": null,
   "metadata": {},
   "outputs": [],
   "source": [
    "## 1.5 showing max rows and columns of data set\n",
    "print(\"\\nYour data set includes the following number of rows and columns: \")\n",
    "data.shape"
   ]
  },
  {
   "cell_type": "markdown",
   "metadata": {},
   "source": [
    "## 2. Cleaning Data Set"
   ]
  },
  {
   "cell_type": "markdown",
   "metadata": {},
   "source": [
    "The program continues with the data pre-processing, an important part for data analytics.  \n",
    "It is able to various common commands of data analytics and will ask the user for the necessary inputs. "
   ]
  },
  {
   "cell_type": "code",
   "execution_count": 37,
   "metadata": {},
   "outputs": [],
   "source": [
    "## 2.1 defining an input function such that we can run this everytime the program needs to ask the user for columns \n",
    "## the user may like to edit\n",
    "\n",
    "def getInput():\n",
    "    global c\n",
    "    c.clear()\n",
    "    input_string = input(\"\\nEnter all columns separated with space: \")\n",
    "    c  = input_string.split(\" \")\n",
    "    if input_string in cancel:\n",
    "        return\n",
    "    for char in c: \n",
    "        if char not in columns:\n",
    "            print(char, \"is not given in data set. Please retry!\")\n",
    "            getInput()\n",
    "    return "
   ]
  },
  {
   "cell_type": "code",
   "execution_count": null,
   "metadata": {},
   "outputs": [],
   "source": [
    "## 2.2 removing columns\n",
    "# define function that asks for columns and deletes them \n",
    "\n",
    "def qRemove():\n",
    "    inp = str(input(\"\\nWould you like to remove columns from your data set? (y/n): \").lower())\n",
    "    if inp in yes:\n",
    "        getInput()\n",
    "        global data\n",
    "        data = data.drop(c, axis = 1) # axis = 1 --> column\n",
    "        for char in c:\n",
    "            print(\"\\n\" + char, \"has been removed from the data set!\")\n",
    "        return \n",
    "    elif inp in no:\n",
    "        return\n",
    "    else:\n",
    "        sys.stdout.write\"\"\"\\nPlease answer with \"yes\" or \"no\".\"\"\")\n",
    "        qRemove()\n",
    "    return"
   ]
  },
  {
   "cell_type": "code",
   "execution_count": null,
   "metadata": {
    "scrolled": true
   },
   "outputs": [],
   "source": [
    "## 2.2 cont. Execute function\n",
    "qRemove()"
   ]
  },
  {
   "cell_type": "code",
   "execution_count": null,
   "metadata": {},
   "outputs": [],
   "source": [
    "## 2.3 get further details of the data types \n",
    "\n",
    "print(\"\"\"In the next table you will find more specific information about your data set:\n",
    "(\"datetime64\" stands for date data, int64\" and \"float64\" stands for numeric data,\\nwhereas \"object\" denotes categorical data)\\n\"\"\")\n",
    "\n",
    "data.dtypes"
   ]
  },
  {
   "cell_type": "code",
   "execution_count": null,
   "metadata": {
    "scrolled": true
   },
   "outputs": [],
   "source": [
    "## 2.4 Transforming data types\n",
    "# here we want to ask the user if there are columns present that the user wants to change the type in\n",
    "# for this we create define functions for each column type and insert these into our main function \n",
    "\n",
    "#define category change function\n",
    "def inpCat():\n",
    "    inp =str(input(\"\\nAre there columns that need to be changed into character type? (y/n): \").lower())\n",
    "    if inp in yes:\n",
    "        getInput()\n",
    "        for char in c:\n",
    "            global data\n",
    "            data[char] = data[char].astype(str)\n",
    "            print(char, \"has been changed to character!\")\n",
    "        return\n",
    "    elif inp in no:\n",
    "        return\n",
    "    else: \n",
    "        sys.stdout.write(\"\"\"\\nPlease answer with \"yes\" or \"no\".\"\"\")\n",
    "        inpCat()\n",
    "        \n",
    "# define float change function\n",
    "def inpNum():\n",
    "    inp = str(input(\"\\nAre there columns that need to be changed into numeric? (y/n): \").lower())\n",
    "    if inp in yes:\n",
    "        getInput()\n",
    "        for char in c:\n",
    "            global data\n",
    "            data[char] = pd.to_numeric(data[char])\n",
    "            print(char, \"has been changed to numeric!\")\n",
    "        return\n",
    "    elif inp in no:\n",
    "        return\n",
    "    else: \n",
    "        sys.stdout.write(\"\"\"\\nPlease answer with \"yes\" or \"no\".\"\"\")\n",
    "        inpNum()      \n",
    "\n",
    "\n",
    "#define date change function\n",
    "def inpDate():\n",
    "    inp = str(input(\"\\nAre there columns that need to be changed into date? (y/n): \").lower())\n",
    "    if inp in yes:\n",
    "        getInput()\n",
    "        for char in c:\n",
    "            try:\n",
    "                dateFormat =str(input(\"\\nFor \" + str(char) + \", please enter the correct format of the date (eg. %Y-%m-%d): \"))\n",
    "                global data\n",
    "                data[char] = pd.to_datetime(data[char], format=dateFormat)\n",
    "                print(char, \"has been changed to date!\")\n",
    "            except ValueError:\n",
    "                print(\"Time data does not match format\", dateFormat +\". Insert correct format!\\nTry again!\")\n",
    "                inpDate()\n",
    "        return\n",
    "    elif inp in no:\n",
    "        return\n",
    "    else: \n",
    "        sys.stdout.write(\"\"\"\\nPlease answer with \"yes\" or \"no\".\"\"\")\n",
    "        inpDate()\n",
    "    \n",
    "# define main Transform function\n",
    "def qTransform():\n",
    "    inp = str(input(\"\\nAre there any columns in the wrong format that need to be changed? (y/n): ?\").lower())\n",
    "    if inp in yes:\n",
    "        inpCat()\n",
    "        inpNum()\n",
    "        inpDate()\n",
    "        return\n",
    "    elif inp in no:\n",
    "        return\n",
    "    else:\n",
    "        sys.stdout.write(\"\"\"\\nPlease answer with \"yes\" or \"no\".\"\"\")\n",
    "        qTransform()\n",
    "    return\n"
   ]
  },
  {
   "cell_type": "code",
   "execution_count": null,
   "metadata": {},
   "outputs": [],
   "source": [
    "# 2.4 cont. Execute function\n",
    "qTransform()\n",
    "print(\"\\nSee the table with your prefered types:\")\n",
    "data.dtypes"
   ]
  },
  {
   "cell_type": "code",
   "execution_count": null,
   "metadata": {},
   "outputs": [],
   "source": [
    "## 2.5 count number of null values\n",
    "\n",
    "print(\"Here you see the number of null values for each variable.\")\n",
    "\n",
    "data.isnull().sum()"
   ]
  },
  {
   "cell_type": "code",
   "execution_count": null,
   "metadata": {},
   "outputs": [],
   "source": [
    "## 2.6 remove NA values\n",
    "\n",
    "# define function to ask if user wants to remove null values\n",
    "def qDrop():\n",
    "    inp = str(input(\"\\nDo you want to remove the null values? (y/n): \").lower())\n",
    "    if inp in yes:\n",
    "        global data\n",
    "        data = data.dropna(how=\"any\", axis=0) # axis = 0 --> row\n",
    "        print(\"\\nNull values have been removed!\")\n",
    "    elif inp in no:\n",
    "        return      \n",
    "    else:\n",
    "        sys.stdout.write(\"\"\"\\nPlease answer with \"yes\" or \"no\".\"\"\")\n",
    "        qDrop()"
   ]
  },
  {
   "cell_type": "code",
   "execution_count": null,
   "metadata": {},
   "outputs": [],
   "source": [
    "# 2.6 cont. Execute function        \n",
    "qDrop()"
   ]
  },
  {
   "cell_type": "code",
   "execution_count": null,
   "metadata": {},
   "outputs": [],
   "source": [
    "## 2.7 Renaming columns \n",
    "# define function to ask if user wants to rename columns\n",
    "\n",
    "def qRename():\n",
    "    inp = str(input(\"\\nDo you want to rename columns? (y/n): \").lower())\n",
    "    if inp in yes:\n",
    "        getInput()\n",
    "        for char in c:\n",
    "            global data\n",
    "            newname_input = str(input(\"\\nHow do you want to rename the column \" + str(char) + \"?: \"))\n",
    "            data = data.rename(columns = {char: newname_input})\n",
    "            print(str(char) +\" has been renamed to \" + str(newname_input)+\"!\")\n",
    "    elif inp in no:\n",
    "        return      \n",
    "    else:\n",
    "        sys.stdout.write(\"\"\"\\nPlease answer with \"yes\" or \"no\".\"\"\")\n",
    "        qRename()\n"
   ]
  },
  {
   "cell_type": "code",
   "execution_count": null,
   "metadata": {},
   "outputs": [],
   "source": [
    "## 2.7 cont. Execute function\n",
    "qRename()"
   ]
  },
  {
   "cell_type": "code",
   "execution_count": null,
   "metadata": {},
   "outputs": [],
   "source": [
    "## 2.8 check for duplicates \n",
    "\n",
    "# To get rid of duplicates we check if the *key* appears more than once\n",
    "# A key in a data set is a variable which is unique. In other words, the key is the value whith which\n",
    "# you can access each single observation. \n",
    "# Thus the program asks the user for the key. The user must know this key! \n",
    "# The program hasn't got the intelligence to figure it out by itself. \n",
    "\n",
    "# defining question for key\n",
    "def Key():\n",
    "    key = input(\"\\nWhat column is the primary key of your data set?: \")\n",
    "    if key in cancel:\n",
    "        return\n",
    "    elif key not in columns:\n",
    "        print(\"\\nThere is no such column. Please try again!\")\n",
    "        qKey()\n",
    "    else:\n",
    "        return key\n",
    "\n",
    "\n",
    "# defining removal of duplicates \n",
    "def removeDupl():\n",
    "    inp = str(input(\"\\nDo you want to remove the duplicates from your data set? (y/n): \").lower())\n",
    "    if inp in yes:\n",
    "        global data\n",
    "        data = data.drop_duplicates(key)\n",
    "        print(\"\\nThe duplicates have been removed!\")\n",
    "    elif inp in no:\n",
    "        return \n",
    "    else:\n",
    "        sys.stdout.write(\"\"\"\\nPlease answer with \"yes\" or \"no\".\"\"\")\n",
    "        removeDupl()\n",
    "    return\n",
    "\n",
    "#defining overall question for handling duplicates\n",
    "def qDuplicates():\n",
    "    inp = str(input(\"\\nDo you want to check for duplicates in your data set? (y/n): \").lower())\n",
    "    if inp in yes:\n",
    "        global key\n",
    "        key = Key()\n",
    "        duplications = sum(data.duplicated(key))\n",
    "        print(\"There are\", duplications, \"duplicates in your data set.\")\n",
    "        if duplications == 0:\n",
    "            return\n",
    "        else:\n",
    "            removeDupl()\n",
    "    elif inp in no: \n",
    "        return\n",
    "    else:\n",
    "        sys.stdout.write(\"\"\"\\nPlease answer with \"yes\" or \"no\".\"\"\")\n",
    "        qDuplicates()  \n",
    "    return"
   ]
  },
  {
   "cell_type": "code",
   "execution_count": null,
   "metadata": {},
   "outputs": [],
   "source": [
    "# 2.8 cont. Execute functions\n",
    "qDuplicates()"
   ]
  },
  {
   "cell_type": "code",
   "execution_count": null,
   "metadata": {},
   "outputs": [],
   "source": [
    "## 2.9 asking if everything is correct and give user the possibility to repeat corrections\n",
    "def qAgainNested():\n",
    "    again = str(input(\"What would you like to repeat? Enter the corresponding letter (a-e): \").lower())        \n",
    "    if again == \"cancel\":\n",
    "        q2Again()\n",
    "        return\n",
    "    elif again == \"a\":\n",
    "        qRemove()\n",
    "        q2Again()\n",
    "    elif again == \"b\":\n",
    "        qTransform()\n",
    "        q2Again()\n",
    "    elif again == \"c\":\n",
    "        qDrop()\n",
    "        q2Again()\n",
    "    elif again == \"d\":\n",
    "        qRename()\n",
    "        q2Again()\n",
    "    elif again == \"e\":\n",
    "        qDuplicates()\n",
    "        q2Again()\n",
    "    else: \n",
    "        sys.stdout.write(\"\"\"\\nPlease answer with a letter between \"(a-e)\".\"\"\")\n",
    "        qAgainNested()\n",
    "\n",
    "def q2Again():\n",
    "    inp2 = str(input(\"\\nDo you want to repeat another function? (y/n): \").lower())\n",
    "    if inp2 in yes:\n",
    "        qAgain()\n",
    "    elif inp2 in no:\n",
    "        print(\"\\nPerfect!\\nWe are left with the following number of observations and variables:\\n\" + \n",
    "              str(data.shape[0]) + \" | \" + str(data.shape[1]))\n",
    "    else:\n",
    "        sys.stdout.write(\"\"\"\\nPlease answer with \"yes\" or \"no\".\"\"\")\n",
    "        q2Again()  \n",
    "\n",
    "def qAgain():\n",
    "    inp = str(input(\"\\nDo you want to repeat one of these listed functions?\"+\n",
    "                    \"\\na) Removing Columns\" + \n",
    "                    \"\\nb) Transforming data types\"+\n",
    "                    \"\\nc) remove NA values\"+\n",
    "                    \"\\nd) Renaming columns\"+\n",
    "                    \"\\ne) Check for duplicates\"+\n",
    "                    \"\\n (y/n): \")).lower()\n",
    "    if inp in yes:\n",
    "        qAgainNested()\n",
    "    elif inp in no:\n",
    "        print(\"\\nPerfect!\\nWe are left with the following number of observations and variables:\\n\" + \n",
    "              str(data.shape[0]) + \" | \" + str(data.shape[1]))\n",
    "    else:\n",
    "        sys.stdout.write(\"\"\"\\nPlease answer with \"yes\" or \"no\".\"\"\")\n",
    "        qAgain()\n",
    "        "
   ]
  },
  {
   "cell_type": "code",
   "execution_count": null,
   "metadata": {},
   "outputs": [],
   "source": [
    "## 2.9 cont. Exectute functions\n",
    "\n",
    "qAgain()"
   ]
  },
  {
   "cell_type": "markdown",
   "metadata": {},
   "source": [
    "## 3. Univariate Analysis"
   ]
  },
  {
   "cell_type": "markdown",
   "metadata": {},
   "source": [
    "After the data processing we now start with descriptive analysis of the data set.  \n",
    "The program starts with categorical data and then switches to numerical data.  \n",
    "The program gives the chance to examine each value individually."
   ]
  },
  {
   "cell_type": "code",
   "execution_count": 41,
   "metadata": {},
   "outputs": [],
   "source": [
    "def getCat():\n",
    "    global d\n",
    "    d.clear()\n",
    "    input_string = input(\"\\nEnter all key related character type columns: \")\n",
    "    d  = input_string.split(\" \")\n",
    "    if d in cancel:\n",
    "        return"
   ]
  },
  {
   "cell_type": "code",
   "execution_count": 39,
   "metadata": {},
   "outputs": [
    {
     "name": "stdout",
     "output_type": "stream",
     "text": [
      "\n",
      "We now continue with our analyis of the data.\n",
      "For the next step please enter all key related character type columns and other character type columns in the next field that you think have *subgroups > 80*!\n",
      "Otherwise the results for plotting may become unsatisfying and even lead to errors.\n"
     ]
    }
   ],
   "source": [
    "##  3.0.1 split numerical and categorical data into two lists\n",
    "print(\"\\nWe now continue with our analyis of the data.\"+\n",
    "     \"\\nFor the next step please enter all key related character type columns and\" +\n",
    "      \" other character type columns in the next field that you think have *subgroups > 80*!\" +\n",
    "     \"\\nOtherwise the results for plotting may become unsatisfying and even lead to errors.\")\n",
    "\n",
    "# define function to separate numerical and categorical data into two lists\n",
    "\n",
    "def qVariableType():   \n",
    "     # numerical variables\n",
    "    num_variables = data.select_dtypes(include=[\"int64\",\"float64\"]).columns\n",
    "    # categorical variables\n",
    "    cat_variables = data.select_dtypes(include=[\"object\"]).columns\n",
    "    getCat()\n",
    "    try:\n",
    "        cat_variables = cat_variables.drop(d)\n",
    "    except KeyError:\n",
    "        print(\"You have entered a non categorical column. Please retry!\")\n",
    "        qVariableType()\n",
    "    return list(num_variables), list(cat_variables)\n"
   ]
  },
  {
   "cell_type": "code",
   "execution_count": 42,
   "metadata": {},
   "outputs": [
    {
     "name": "stdout",
     "output_type": "stream",
     "text": [
      "\n",
      "Enter all key related character type columns: cancel\n"
     ]
    },
    {
     "ename": "NameError",
     "evalue": "name 'cancel' is not defined",
     "output_type": "error",
     "traceback": [
      "\u001b[0;31m---------------------------------------------------------------------------\u001b[0m",
      "\u001b[0;31mNameError\u001b[0m                                 Traceback (most recent call last)",
      "\u001b[0;32m<ipython-input-42-36e69b7a2b05>\u001b[0m in \u001b[0;36m<module>\u001b[0;34m\u001b[0m\n\u001b[1;32m      1\u001b[0m \u001b[0;31m# 3.0.1 cont. Execute function\u001b[0m\u001b[0;34m\u001b[0m\u001b[0;34m\u001b[0m\u001b[0;34m\u001b[0m\u001b[0m\n\u001b[1;32m      2\u001b[0m \u001b[0;34m\u001b[0m\u001b[0m\n\u001b[0;32m----> 3\u001b[0;31m \u001b[0mnum_variables\u001b[0m\u001b[0;34m,\u001b[0m \u001b[0mcat_variables\u001b[0m \u001b[0;34m=\u001b[0m \u001b[0mget_variable_type\u001b[0m\u001b[0;34m(\u001b[0m\u001b[0;34m)\u001b[0m\u001b[0;34m\u001b[0m\u001b[0;34m\u001b[0m\u001b[0m\n\u001b[0m\u001b[1;32m      4\u001b[0m print(\"\\nYour data has been split into two categories:\\nNumerical and Categorical\"+\n\u001b[1;32m      5\u001b[0m       \"\\nYour data set contains\", str(len(num_variables)), \"numerical and\", str(len(cat_variables)), \"categorical variables.\")\n",
      "\u001b[0;32m<ipython-input-27-8c8d2985eed7>\u001b[0m in \u001b[0;36mget_variable_type\u001b[0;34m()\u001b[0m\n\u001b[1;32m     12\u001b[0m     \u001b[0;31m# categorical variables\u001b[0m\u001b[0;34m\u001b[0m\u001b[0;34m\u001b[0m\u001b[0;34m\u001b[0m\u001b[0m\n\u001b[1;32m     13\u001b[0m     \u001b[0mcat_variables\u001b[0m \u001b[0;34m=\u001b[0m \u001b[0mdata\u001b[0m\u001b[0;34m.\u001b[0m\u001b[0mselect_dtypes\u001b[0m\u001b[0;34m(\u001b[0m\u001b[0minclude\u001b[0m\u001b[0;34m=\u001b[0m\u001b[0;34m[\u001b[0m\u001b[0;34m\"object\"\u001b[0m\u001b[0;34m]\u001b[0m\u001b[0;34m)\u001b[0m\u001b[0;34m.\u001b[0m\u001b[0mcolumns\u001b[0m\u001b[0;34m\u001b[0m\u001b[0;34m\u001b[0m\u001b[0m\n\u001b[0;32m---> 14\u001b[0;31m     \u001b[0mgetCat\u001b[0m\u001b[0;34m(\u001b[0m\u001b[0;34m)\u001b[0m\u001b[0;34m\u001b[0m\u001b[0;34m\u001b[0m\u001b[0m\n\u001b[0m\u001b[1;32m     15\u001b[0m     \u001b[0;32mtry\u001b[0m\u001b[0;34m:\u001b[0m\u001b[0;34m\u001b[0m\u001b[0;34m\u001b[0m\u001b[0m\n\u001b[1;32m     16\u001b[0m         \u001b[0mcat_variables\u001b[0m \u001b[0;34m=\u001b[0m \u001b[0mcat_variables\u001b[0m\u001b[0;34m.\u001b[0m\u001b[0mdrop\u001b[0m\u001b[0;34m(\u001b[0m\u001b[0md\u001b[0m\u001b[0;34m)\u001b[0m\u001b[0;34m\u001b[0m\u001b[0;34m\u001b[0m\u001b[0m\n",
      "\u001b[0;32m<ipython-input-41-1943d5927d14>\u001b[0m in \u001b[0;36mgetCat\u001b[0;34m()\u001b[0m\n\u001b[1;32m      4\u001b[0m     \u001b[0minput_string\u001b[0m \u001b[0;34m=\u001b[0m \u001b[0minput\u001b[0m\u001b[0;34m(\u001b[0m\u001b[0;34m\"\\nEnter all key related character type columns: \"\u001b[0m\u001b[0;34m)\u001b[0m\u001b[0;34m\u001b[0m\u001b[0;34m\u001b[0m\u001b[0m\n\u001b[1;32m      5\u001b[0m     \u001b[0md\u001b[0m  \u001b[0;34m=\u001b[0m \u001b[0minput_string\u001b[0m\u001b[0;34m.\u001b[0m\u001b[0msplit\u001b[0m\u001b[0;34m(\u001b[0m\u001b[0;34m\" \"\u001b[0m\u001b[0;34m)\u001b[0m\u001b[0;34m\u001b[0m\u001b[0;34m\u001b[0m\u001b[0m\n\u001b[0;32m----> 6\u001b[0;31m     \u001b[0;32mif\u001b[0m \u001b[0md\u001b[0m \u001b[0;32min\u001b[0m \u001b[0mcancel\u001b[0m\u001b[0;34m:\u001b[0m\u001b[0;34m\u001b[0m\u001b[0;34m\u001b[0m\u001b[0m\n\u001b[0m\u001b[1;32m      7\u001b[0m         \u001b[0;32mreturn\u001b[0m\u001b[0;34m\u001b[0m\u001b[0;34m\u001b[0m\u001b[0m\n",
      "\u001b[0;31mNameError\u001b[0m: name 'cancel' is not defined"
     ]
    }
   ],
   "source": [
    "# 3.0.1 cont. Execute function\n",
    "\n",
    "num_variables, cat_variables = get_variable_type()\n",
    "print(\"\\nYour data has been split into two categories:\\nNumerical and Categorical\"+\n",
    "      \"\\nYour data set contains\", str(len(num_variables)), \"numerical and\", str(len(cat_variables)), \"categorical variables.\")"
   ]
  },
  {
   "cell_type": "markdown",
   "metadata": {},
   "source": [
    "## 3.1 Categorical Data analysis\n"
   ]
  },
  {
   "cell_type": "code",
   "execution_count": null,
   "metadata": {},
   "outputs": [],
   "source": [
    "# 3.1.1 grid plotting categorical data\n",
    "# it takes all categorical variables and plots them into a histogram\n",
    "# it is kinda messy for some variables but I guess this is just how it is. \n",
    "\n",
    "print(\"\\nBelow you can explore a grid of count plots including all the categorical data of your data set:\\n\")\n",
    "\n",
    "cat_melt = pd.melt(data, value_vars=sorted(cat_variables))\n",
    "cat_grid = sn.FacetGrid(cat_melt, col=\"variable\", col_wrap=4, sharex=False, sharey=False)\n",
    "plt.xticks(rotation=\"vertical\")\n",
    "cat_grid = cat_grid.map(sn.countplot, \"value\", color = \"lightcoral\",)\n",
    "[plt.setp(ax.get_xticklabels(), rotation=90) for ax in cat_grid.axes.flat]\n",
    "plt.show()"
   ]
  },
  {
   "cell_type": "markdown",
   "metadata": {},
   "source": [
    "### Specific categorical analysis"
   ]
  },
  {
   "cell_type": "markdown",
   "metadata": {},
   "source": [
    "Here the program starts with looking at a categorical values individually. The user chooses which and how many columns he wants to inspect."
   ]
  },
  {
   "cell_type": "code",
   "execution_count": 46,
   "metadata": {},
   "outputs": [],
   "source": [
    "def getSingleInput():\n",
    "    global e\n",
    "    inp = str(input(\"Enter a single variable: \"))\n",
    "    e = inp\n",
    "    if e in cancel:\n",
    "        return\n",
    "    elif e not in d:\n",
    "        print(e, \"is not given in the list for categorical columns. Please retry!\")\n",
    "        getSingleInput()"
   ]
  },
  {
   "cell_type": "code",
   "execution_count": 47,
   "metadata": {},
   "outputs": [
    {
     "name": "stdout",
     "output_type": "stream",
     "text": [
      "Enter a single variable: cancel\n"
     ]
    }
   ],
   "source": [
    "getSingleInput()"
   ]
  },
  {
   "cell_type": "code",
   "execution_count": null,
   "metadata": {},
   "outputs": [],
   "source": [
    "## 3.1.2 value_counts \n",
    "#counts the number of each single group of category and presents result in a small df\n",
    "\n",
    "def qCat():\n",
    "    inp = str(input(\"\\nDo you want to look at a specific categorical column individually? (y/n): \")).lower()\n",
    "    if inp in yes:\n",
    "        getInput()\n",
    "        countCat()\n",
    "    elif inp in no:\n",
    "        return\n",
    "    else:\n",
    "        sys.stdout.write(\"\"\"\\nPlease answer with \"yes\" or \"no\".\"\"\")\n",
    "        qCat()\n",
    "    \n",
    "def countCat():\n",
    "    for char in c:\n",
    "        a = data[char].value_counts()\n",
    "        return a\n",
    "    return"
   ]
  },
  {
   "cell_type": "code",
   "execution_count": null,
   "metadata": {},
   "outputs": [],
   "source": [
    "countCat()"
   ]
  },
  {
   "cell_type": "code",
   "execution_count": null,
   "metadata": {},
   "outputs": [],
   "source": [
    "## 3.1.3 ask for repetition\n",
    "\n",
    "def AgainCat():\n",
    "    inp = str(input(\"Do you want to do the same analyis for another categorical variable? (y/n): \")).lower()\n",
    "    if inp in yes:\n",
    "        qCat()\n",
    "        AgainCat()\n",
    "    elif inp in no: \n",
    "        print(\"\\nWe now move on to the numerical values.\")\n",
    "    else: \n",
    "        sys.stdout.write(\"\"\"\\nPlease answer with \"yes\" or \"no\".\"\"\")\n",
    "        AgainCat()"
   ]
  },
  {
   "cell_type": "code",
   "execution_count": null,
   "metadata": {},
   "outputs": [],
   "source": [
    "## 3.1.3 cont. Execute function\n",
    "AgainCat()"
   ]
  },
  {
   "cell_type": "markdown",
   "metadata": {},
   "source": [
    "## 3.2 Numerical Data analysis"
   ]
  },
  {
   "cell_type": "code",
   "execution_count": null,
   "metadata": {},
   "outputs": [],
   "source": [
    "## 3.2.1 distribution grid plot of all numerical variables\n",
    "# takes all numerical variables and plots them into an distribution plot\n",
    "print(\"\\nBelow you can explore a grid of distribution plots including all the numerical data of your data set:\\n\")\n",
    "\n",
    "num_melt = pd.melt(data, value_vars=sorted(num_variables))\n",
    "num_grid = sn.FacetGrid(num_melt, col=\"variable\", col_wrap=4, sharex=False, sharey=False)\n",
    "num_grid = num_grid.map(sn.distplot, \"value\", color = \"lightcoral\")"
   ]
  },
  {
   "cell_type": "markdown",
   "metadata": {},
   "source": [
    "###  Specific Numeric analysis\n",
    "\n"
   ]
  },
  {
   "cell_type": "markdown",
   "metadata": {},
   "source": [
    "Like before for categorical data the program here asks which *numerical* columns the user wants to inspect more specifically.\n",
    "\n"
   ]
  },
  {
   "cell_type": "code",
   "execution_count": null,
   "metadata": {},
   "outputs": [],
   "source": [
    "## 3.2.2 define function to ask which variables the user wants to inspect individually\n",
    "\n",
    "def qNumValue():\n",
    "    inp = str(input(\"\\nDo you want to examine any numerical columns individually? (y/n): \").lower())\n",
    "    if inp in yes:\n",
    "        getInput()\n",
    "    elif inp in no:\n",
    "        return\n",
    "    else:\n",
    "        sys.stdout.write(\"\"\"\\nPlease answer with \"yes\" or \"no\".\"\"\")\n",
    "        qNumValue()"
   ]
  },
  {
   "cell_type": "code",
   "execution_count": null,
   "metadata": {},
   "outputs": [],
   "source": [
    "## 3.2.2 cont. Execute function\n",
    "qNumValue()"
   ]
  },
  {
   "cell_type": "code",
   "execution_count": null,
   "metadata": {},
   "outputs": [],
   "source": [
    "## 3.2.3 define function for a descriptive summary\n",
    "\n",
    "def Summary():\n",
    "    for char in c:\n",
    "        mean = data[char].mean()\n",
    "        median = data[char].median()\n",
    "        std = data[char].std()\n",
    "        mini = data[char].min()\n",
    "        q_25 = data[char].quantile(q=0.25)\n",
    "        q_50 = data[char].quantile(q=0.5)\n",
    "        q_75 = data[char].quantile(q=0.75)\n",
    "        maxi = data[char].max()\n",
    "        print(\"\\nVariable \" +str(char)+ \" possesses the following properties:\\n\\nmean: \\t\\t\", round(mean, 2),\n",
    "              \"\\nmedian: \\t\", round(median, 2),\n",
    "             \"\\nstd: \\t\\t\", round(std, 2),\n",
    "             \"\\nmin: \\t\\t\", round(mini, 2),\n",
    "             \"\\n25%: \\t\\t\", round(q_25, 2),\n",
    "             \"\\n50%: \\t\\t\", round(q_50, 2),\n",
    "             \"\\n75%: \\t\\t\", round(q_75, 2),\n",
    "             \"\\nmax: \\t\\t\", round(maxi, 2)) \n",
    "    return  \n"
   ]
  },
  {
   "cell_type": "code",
   "execution_count": null,
   "metadata": {},
   "outputs": [],
   "source": [
    "## 3.2.3 cont. Execute function\n",
    "Summary()"
   ]
  },
  {
   "cell_type": "code",
   "execution_count": null,
   "metadata": {},
   "outputs": [],
   "source": [
    "## 3.2.4 define function for inspecting Skew & Kurtosis\n",
    "def SkewKurtosis():\n",
    "    for char in c:\n",
    "        skew = data[char].skew()\n",
    "        kurtosis = data[char].kurtosis()\n",
    "        print(\"\\nResults for \" + str(char) + \":\")\n",
    "        print(\"Skew: \", round(skew, 2) , \"| Kurtosis: \", round(kurtosis, 2))\n",
    "        if skew >= -0.5 and skew <= 0.5:\n",
    "            print(\"\\nA skew value of\", round(skew,2), \"indicates a fairly symmetric distribution.\")\n",
    "        elif skew > 0.5 and skew <=1:\n",
    "            print(\"\\nA skew value of\", round(skew,2), \"indicates a moderately right skewed distribution.\")\n",
    "        elif skew >1:\n",
    "            if skew > 10:\n",
    "                print(\"\\nA skew value of\", round(skew,2), \"indicates an extremely right skewed distribution.\")\n",
    "            else:\n",
    "                print(\"\\nA skew value of\", round(skew,2), \"indicates a highly right skewed distribution.\")\n",
    "        elif skew >= -1 and skew <-0.5:\n",
    "            print(\"\\nA skew value of\", round(skew,2), \"indicates a moderately left skewed distribution.\")\n",
    "        elif skew <-1:  \n",
    "            if skew <-10:\n",
    "                print(\"\\nA skew value of\", round(skew,2), \"indicates an extremely left skewed distribution.\")\n",
    "            else:\n",
    "                print(\"\\nA skew value of\", round(skew,2), \"indicates a highly left skewed distribution.\")\n",
    "        if kurtosis <2.9:\n",
    "            if kurtosis<0:\n",
    "                print(\"The kurtosis with a value of\", round(kurtosis,2), \"may indicate a bimodal distribution with two different modes.\")\n",
    "            if kurtosis >= 0:\n",
    "                print(\"The kurtosis with a value of\", round(kurtosis,2), \"is platykurtic.\\nThis indicates a low and broad peak.\\nIn addition, this means that the distribution is shorter and tails are thinner.\\nOutliers are less likely\")\n",
    "        elif kurtosis >3.1: \n",
    "            if kurtosis > 30:\n",
    "                print(\"The kurtosis with a value of\", round(kurtosis,2), \"is extremely leptokurtic.\\nThis indicates a very high and sharp peak.\\nIn addition, this means that the distribution is long and fat tails are observable.\\nOutliers are highly possible.\")\n",
    "            else:\n",
    "                print(\"The kurtosis with a value of\", round(kurtosis,2), \"is leptokurtic.\\nThis indicates a high and sharp peak.\\nIn addition, this means that the distribution is long and fat tails are observable.\\nOutliers are highly possible.\")\n",
    "        elif kurtosis >=2.9 and kurtosis <= 3.1:\n",
    "            print(\"The kurtosis with a value of\", round(kurtosis,2), \"is Mesokurtic.\\nThis indicates a similar distribution to a normal distribution.\")\n",
    "    return       \n",
    "            "
   ]
  },
  {
   "cell_type": "code",
   "execution_count": null,
   "metadata": {},
   "outputs": [],
   "source": [
    "## 3.2.4 cont. Execute function\n",
    "SkewKurtosis()"
   ]
  },
  {
   "cell_type": "code",
   "execution_count": null,
   "metadata": {},
   "outputs": [],
   "source": [
    "## 3.2.5 count outliers\n",
    "def Outliers():\n",
    "    for char in c:\n",
    "        q_25 = data[char].quantile(q=0.25)\n",
    "        q_75 = data[char].quantile(q=0.75)\n",
    "        print(\"\\nThe total number of outliers for \" + str(char) + \" is\", sum((data[char]<q_25) | (data[char]>q_75)), \".\")\n",
    "    return\n",
    "        \n",
    "        "
   ]
  },
  {
   "cell_type": "code",
   "execution_count": null,
   "metadata": {},
   "outputs": [],
   "source": [
    "## 3.2.5 cont. Execute function\n",
    "Outliers()"
   ]
  },
  {
   "cell_type": "code",
   "execution_count": null,
   "metadata": {},
   "outputs": [],
   "source": [
    "## 3.2.6 plotting boxplot to further \n",
    "# price should equal chosen variable\n",
    "def Boxplot():\n",
    "    for char in c:\n",
    "        print(\"\\nBelow you can examine a boxplot based on the variable \" + str(char)+\":\")\n",
    "        plt.figure(figsize=(14,4))\n",
    "        data[char].plot.box(vert = False)\n",
    "        plt.show()\n",
    "    return"
   ]
  },
  {
   "cell_type": "code",
   "execution_count": null,
   "metadata": {},
   "outputs": [],
   "source": [
    "## 3.2.6 cont. Execute function\n",
    "Boxplot()"
   ]
  },
  {
   "cell_type": "code",
   "execution_count": null,
   "metadata": {},
   "outputs": [],
   "source": [
    "## 3.2.7 ask if user wants to repeat numerical analysis for other variables\n",
    "\n",
    "def AgainNum():\n",
    "    inp = str(input(\"Do you want to do the same analyis for another numeric variables? (y/n): \")).lower()\n",
    "    if inp in yes:\n",
    "        qNumValue()\n",
    "        Summary()\n",
    "        SkewKurtosis()\n",
    "        Outliers()\n",
    "        Boxplot()\n",
    "        AgainNum()\n",
    "    elif inp in no: \n",
    "        print(\"\\nWe now move on to our correlation matrix.\")\n",
    "    else: \n",
    "        sys.stdout.write(\"\"\"\\nPlease answer with \"yes\" or \"no\".\"\"\")\n",
    "        AgainNum()"
   ]
  },
  {
   "cell_type": "code",
   "execution_count": null,
   "metadata": {},
   "outputs": [],
   "source": [
    "## 3.2.7 cont. Execute function\n",
    "AgainNum()"
   ]
  },
  {
   "cell_type": "code",
   "execution_count": null,
   "metadata": {
    "scrolled": true
   },
   "outputs": [],
   "source": [
    "## 3.2.8 correlation Matrix of the numerical variables\n",
    "\n",
    "print(\"\\nLastly, you can see a correlation matrix based on the numeric variables.\" +\n",
    "      \"\\nPlease inspect it for potential and interesting correlations in your data set!\")\n",
    "\n",
    "sn.set(style=\"white\")\n",
    "corr = data.corr()\n",
    "fig = plt.figure(figsize=(14,12))\n",
    "ax = fig.add_subplot(111)\n",
    "cmap = sn.diverging_palette(220, 10, as_cmap=True)\n",
    "mask = np.triu(np.ones_like(corr, dtype=np.bool))\n",
    "sn.heatmap(corr, \n",
    "           xticklabels=corr.columns.values,\n",
    "           yticklabels=corr.index.values,\n",
    "           mask=mask,\n",
    "           cmap=\"RdPu\")\n",
    "ax.xaxis.tick_bottom()\n",
    "plt.setp(ax.get_xticklabels(), rotation=60)\n",
    "plt.show()"
   ]
  },
  {
   "cell_type": "code",
   "execution_count": null,
   "metadata": {},
   "outputs": [],
   "source": [
    "print(\"You have finished the data analyis!\")"
   ]
  }
 ],
 "metadata": {
  "kernelspec": {
   "display_name": "Python 3",
   "language": "python",
   "name": "python3"
  },
  "language_info": {
   "codemirror_mode": {
    "name": "ipython",
    "version": 3
   },
   "file_extension": ".py",
   "mimetype": "text/x-python",
   "name": "python",
   "nbconvert_exporter": "python",
   "pygments_lexer": "ipython3",
   "version": "3.7.6"
  }
 },
 "nbformat": 4,
 "nbformat_minor": 4
}
